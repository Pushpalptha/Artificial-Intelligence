{
 "cells": [
  {
   "cell_type": "code",
   "execution_count": 61,
   "id": "9fbed537-70cc-4446-9435-50f478a0a6b8",
   "metadata": {},
   "outputs": [
    {
     "data": {
      "text/plain": [
       "array([1, 2, 3, 4])"
      ]
     },
     "execution_count": 61,
     "metadata": {},
     "output_type": "execute_result"
    }
   ],
   "source": [
    "import numpy as np\n",
    "a=np.array([1,2,3,4])\n",
    "a"
   ]
  },
  {
   "cell_type": "code",
   "execution_count": 62,
   "id": "3b55f433-b283-4f42-9323-8b21841ac946",
   "metadata": {},
   "outputs": [],
   "source": [
    "b=np.array([5,6,7,8])\n",
    "c=np.array([9,10,11,12])"
   ]
  },
  {
   "cell_type": "code",
   "execution_count": 63,
   "id": "b9da0d2f-58c6-490b-a2e9-cedb4fe8798c",
   "metadata": {},
   "outputs": [
    {
     "data": {
      "text/plain": [
       "array([ 6,  8, 10, 12])"
      ]
     },
     "execution_count": 63,
     "metadata": {},
     "output_type": "execute_result"
    }
   ],
   "source": [
    "a+b"
   ]
  },
  {
   "cell_type": "code",
   "execution_count": 64,
   "id": "3070dbd8-b959-464c-8d62-a3dd35ed06fc",
   "metadata": {},
   "outputs": [
    {
     "data": {
      "text/plain": [
       "array([2, 4, 6, 8])"
      ]
     },
     "execution_count": 64,
     "metadata": {},
     "output_type": "execute_result"
    }
   ],
   "source": [
    "2*a"
   ]
  },
  {
   "cell_type": "code",
   "execution_count": 65,
   "id": "505a14f2-9593-4b04-acdb-8755f5e2d132",
   "metadata": {},
   "outputs": [
    {
     "data": {
      "text/plain": [
       "array([0, 0, 0, 0])"
      ]
     },
     "execution_count": 65,
     "metadata": {},
     "output_type": "execute_result"
    }
   ],
   "source": [
    "2*b-c-a           #2b-c-a"
   ]
  },
  {
   "cell_type": "code",
   "execution_count": 66,
   "id": "82f18b2c-3469-47ba-9791-9b4fa74abae3",
   "metadata": {},
   "outputs": [
    {
     "data": {
      "text/plain": [
       "array([-0.151, -0.555, -1.176, -0.45 , -0.016])"
      ]
     },
     "execution_count": 66,
     "metadata": {},
     "output_type": "execute_result"
    }
   ],
   "source": [
    "# Exercise 9.1\n",
    "B=np.array([-0.562,0.630,-0.453,-0.299,-0.006])\n",
    "G=np.array([0.194,0.507,0.287,0.132,-0.281])\n",
    "F=np.array([0.605,-0.678,-0.436,-0.019,-0.291])\n",
    "P=np.array([-0.074,-0.855,-0.689,-0.057,-0.139])\n",
    "A=B-G+F\n",
    "A"
   ]
  },
  {
   "cell_type": "code",
   "execution_count": 67,
   "id": "096f573c-5ec9-42ec-92e5-03fdfd6199e9",
   "metadata": {},
   "outputs": [
    {
     "data": {
      "text/plain": [
       "array([-0.077,  0.3  , -0.487, -0.393,  0.123])"
      ]
     },
     "execution_count": 67,
     "metadata": {},
     "output_type": "execute_result"
    }
   ],
   "source": [
    "B=A-P\n",
    "B"
   ]
  },
  {
   "cell_type": "code",
   "execution_count": 68,
   "id": "2a4dd6d0-0b11-4670-bbb0-144ac0413895",
   "metadata": {},
   "outputs": [
    {
     "data": {
      "text/plain": [
       "array([35])"
      ]
     },
     "execution_count": 68,
     "metadata": {},
     "output_type": "execute_result"
    }
   ],
   "source": [
    "# Vector Product\n",
    "a=np.array([1,2])\n",
    "b=np.array([[11],[12]])\n",
    "a@b"
   ]
  },
  {
   "cell_type": "code",
   "execution_count": 69,
   "id": "669a682b-fcac-449a-bec5-ed8ce4936fa9",
   "metadata": {},
   "outputs": [
    {
     "data": {
      "text/plain": [
       "array([[11, 22],\n",
       "       [12, 24]])"
      ]
     },
     "execution_count": 69,
     "metadata": {},
     "output_type": "execute_result"
    }
   ],
   "source": [
    "a*b"
   ]
  },
  {
   "cell_type": "markdown",
   "id": "0c779974-5a23-43c6-9a8a-bbc8cf043632",
   "metadata": {},
   "source": [
    "### np.linalg.norm()\n",
    "\n",
    "np → NumPy (Python’s numerical library).\n",
    "\n",
    "linalg → linear algebra module inside NumPy.\n",
    "\n",
    "norm() → a function that calculates different types of vector norms (or matrix norms).\n",
    "\n",
    "What is a norm?\n",
    "\n",
    "A norm is just a number that measures the “size” or “length” of a vector.\n",
    "Different types of norms measure size differently:\n",
    "\n",
    "1. Euclidean norm (L2, default)\n",
    "2. Manhattan norm (L1)\n",
    "3. chessboard norm(L infinity)\n",
    "#### In np.linalg.norm(), the parameter ord means “order of the norm”.It tells NumPy which type of norm you want to compute."
   ]
  },
  {
   "cell_type": "code",
   "execution_count": 70,
   "id": "4f597088-4faf-45af-ad83-3fa18005f53d",
   "metadata": {},
   "outputs": [
    {
     "name": "stdout",
     "output_type": "stream",
     "text": [
      "5.0\n",
      "7.0\n",
      "4.0\n"
     ]
    }
   ],
   "source": [
    "import numpy as np\n",
    "\n",
    "v = np.array([3, 4])\n",
    "\n",
    "print(np.linalg.norm(v))             # Euclidean norm (sqrt(3^2 + 4^2) = 5)\n",
    "print(np.linalg.norm(v, ord=1))      # Manhattan norm (3+4=7)       ord=1 → maximum column sum \n",
    "print(np.linalg.norm(v, ord=np.inf)) # Chessboard norm (max(3,4)=4) ord=np.inf → maximum row sum"
   ]
  },
  {
   "cell_type": "code",
   "execution_count": 71,
   "id": "de390941-9fa9-4c2f-a33f-37719a099282",
   "metadata": {},
   "outputs": [],
   "source": [
    "# Exercise:9.2\n",
    "v1=np.array([1,1])\n",
    "v2=np.array([1,2,2])\n",
    "v3=np.array([3,2,0,2,0,2,0,2])\n",
    "v4=np.array([1,1])\n",
    "v5=np.array([2,1])"
   ]
  },
  {
   "cell_type": "code",
   "execution_count": 72,
   "id": "46431922-2670-435b-9e88-ab5fbd5cb8ca",
   "metadata": {},
   "outputs": [],
   "source": [
    "euclidean_v1=np.sqrt(np.sum(v1**2))               \n",
    "euclidean_v2=np.sqrt(np.sum(v2**2))                     \n",
    "euclidean_v3=np.sqrt(v3 @ v3)       # square each number and sum them=21 here root 25 we will get 5.0 is the answer. \n",
    "manhattan_v1 = np.sum((v1))         #|1|+|1| =2\n",
    "chessboard_v4 = np.max((v4))        #|2|,|1|= maximum value"
   ]
  },
  {
   "cell_type": "code",
   "execution_count": 73,
   "id": "7e9fcc8f-4d6e-421d-b667-1db38dfb92cc",
   "metadata": {},
   "outputs": [
    {
     "name": "stdout",
     "output_type": "stream",
     "text": [
      "1.4142135623730951\n",
      "3.0\n",
      "5.0\n",
      "2\n",
      "1\n"
     ]
    }
   ],
   "source": [
    "print(euclidean_v1)\n",
    "print(euclidean_v2)\n",
    "print(euclidean_v3)\n",
    "print(manhattan_v1)\n",
    "print(chessboard_v4)"
   ]
  },
  {
   "cell_type": "code",
   "execution_count": 74,
   "id": "939f65ef-6993-4da8-8bcf-e443e694656e",
   "metadata": {},
   "outputs": [
    {
     "name": "stdout",
     "output_type": "stream",
     "text": [
      "\n",
      "With np.linalg.norm:\n",
      "Euclidean (1,1): 1.4142135623730951\n",
      "Euclidean (1,2,2): 3.0\n",
      "Euclidean (3,2,0,2,0,2,0,2): 5.0\n",
      "Manhattan (1,1): 2.0\n",
      "Chessboard (2,1): 1.0\n"
     ]
    }
   ],
   "source": [
    "euclidean_v1_linalg = np.linalg.norm(v1)\n",
    "euclidean_v2_linalg = np.linalg.norm(v2)\n",
    "euclidean_v3_linalg = np.linalg.norm(v3)\n",
    "\n",
    "manhattan_v1_linalg = np.linalg.norm(v1, ord=1)\n",
    "\n",
    "chessboard_v4_linalg = np.linalg.norm(v4, ord=np.inf)\n",
    "\n",
    "print(\"\\nWith np.linalg.norm:\")\n",
    "print(\"Euclidean (1,1):\", euclidean_v1_linalg)\n",
    "print(\"Euclidean (1,2,2):\", euclidean_v2_linalg)\n",
    "print(\"Euclidean (3,2,0,2,0,2,0,2):\", euclidean_v3_linalg)\n",
    "print(\"Manhattan (1,1):\", manhattan_v1_linalg)\n",
    "print(\"Chessboard (2,1):\", chessboard_v4_linalg)"
   ]
  },
  {
   "cell_type": "code",
   "execution_count": 75,
   "id": "4072c703-ecc5-42d1-aca9-e4f224c7b5d1",
   "metadata": {},
   "outputs": [
    {
     "name": "stdout",
     "output_type": "stream",
     "text": [
      "Normalized vectors:\n",
      "Euclidean (1,1): [0.70710678 0.70710678]\n",
      "Euclidean (1,2,2): [0.33333333 0.66666667 0.66666667]\n",
      "Euclidean (3,2,0,2,0,2,0,2): [0.6 0.4 0.  0.4 0.  0.4 0.  0.4]\n",
      "Manhattan (1,1): [0.5 0.5]\n",
      "Chessboard (2,1): [1.  0.5]\n"
     ]
    }
   ],
   "source": [
    "# Exercise 9.3\n",
    "import numpy as np\n",
    "\n",
    "# Vectors\n",
    "v1 = np.array([1, 1])\n",
    "v2 = np.array([1, 2, 2])\n",
    "v3 = np.array([3, 2, 0, 2, 0, 2, 0, 2])\n",
    "v4 = np.array([2, 1])\n",
    "\n",
    "# ---- Normalization using Euclidean norm (L2) ----\n",
    "euclidean_v1 = v1 / np.linalg.norm(v1)\n",
    "euclidean_v2 = v2 / np.linalg.norm(v2)\n",
    "euclidean_v3 = v3 / np.linalg.norm(v3)\n",
    "\n",
    "# ---- Normalization using Manhattan norm (L1) ----\n",
    "manhattan_v1 = v1 / np.linalg.norm(v1, ord=1)\n",
    "\n",
    "# ---- Normalization using Chessboard norm (L∞) ----\n",
    "chessboard_v4 = v4 / np.linalg.norm(v4, ord=np.inf)\n",
    "\n",
    "# ---- Print results ----\n",
    "print(\"Normalized vectors:\")\n",
    "print(\"Euclidean (1,1):\", euclidean_v1)\n",
    "print(\"Euclidean (1,2,2):\", euclidean_v2)\n",
    "print(\"Euclidean (3,2,0,2,0,2,0,2):\", euclidean_v3)\n",
    "print(\"Manhattan (1,1):\", manhattan_v1)\n",
    "print(\"Chessboard (2,1):\", chessboard_v4)"
   ]
  },
  {
   "cell_type": "markdown",
   "id": "3a38537b-6b9e-4e2e-aed3-08bf4fe0e297",
   "metadata": {},
   "source": [
    "#### 2-D Arrays as Matrices"
   ]
  },
  {
   "cell_type": "code",
   "execution_count": 76,
   "id": "3c03e43b-ecca-435b-9430-b64979bb3dd3",
   "metadata": {},
   "outputs": [
    {
     "data": {
      "text/plain": [
       "array([[1, 2],\n",
       "       [3, 4]])"
      ]
     },
     "execution_count": 76,
     "metadata": {},
     "output_type": "execute_result"
    }
   ],
   "source": [
    "A=np.array([[1,2],[3,4]])\n",
    "A"
   ]
  },
  {
   "cell_type": "code",
   "execution_count": 77,
   "id": "00ff677e-b466-471b-b5ff-63f55bd32586",
   "metadata": {},
   "outputs": [
    {
     "data": {
      "text/plain": [
       "array([[10, 20],\n",
       "       [30, 40]])"
      ]
     },
     "execution_count": 77,
     "metadata": {},
     "output_type": "execute_result"
    }
   ],
   "source": [
    "A*10"
   ]
  },
  {
   "cell_type": "code",
   "execution_count": 78,
   "id": "a051a875-360c-4537-92f9-9719fd290061",
   "metadata": {},
   "outputs": [
    {
     "data": {
      "text/plain": [
       "array([[1., 0., 0., 0.],\n",
       "       [0., 1., 0., 0.],\n",
       "       [0., 0., 1., 0.],\n",
       "       [0., 0., 0., 1.]])"
      ]
     },
     "execution_count": 78,
     "metadata": {},
     "output_type": "execute_result"
    }
   ],
   "source": [
    "# np.eye creates a unit matrix with given size as\n",
    "np.eye(4)"
   ]
  },
  {
   "cell_type": "code",
   "execution_count": 79,
   "id": "b6b6751e-8497-4bb3-a015-386a68368768",
   "metadata": {},
   "outputs": [
    {
     "data": {
      "text/plain": [
       "array([[1, 0, 0, 0],\n",
       "       [0, 2, 0, 0],\n",
       "       [0, 0, 3, 0],\n",
       "       [0, 0, 0, 4]])"
      ]
     },
     "execution_count": 79,
     "metadata": {},
     "output_type": "execute_result"
    }
   ],
   "source": [
    "# np.diag either creates a diagonal matrix of a given vector, or if given a matrix, returns its diagonal\n",
    "np.diag([1,2,3,4])"
   ]
  },
  {
   "cell_type": "code",
   "execution_count": 80,
   "id": "4772d627-c2bd-45b9-b84f-0a5d58b981b9",
   "metadata": {},
   "outputs": [
    {
     "data": {
      "text/plain": [
       "array([[ 0,  1,  2,  3],\n",
       "       [ 4,  5,  6,  7],\n",
       "       [ 8,  9, 10, 11]])"
      ]
     },
     "execution_count": 80,
     "metadata": {},
     "output_type": "execute_result"
    }
   ],
   "source": [
    "A=np.arange(12).reshape((3,4))\n",
    "A"
   ]
  },
  {
   "cell_type": "code",
   "execution_count": 81,
   "id": "5902c9f9-c3a2-4321-91f5-f803607dc74d",
   "metadata": {},
   "outputs": [
    {
     "data": {
      "text/plain": [
       "array([ 0,  5, 10])"
      ]
     },
     "execution_count": 81,
     "metadata": {},
     "output_type": "execute_result"
    }
   ],
   "source": [
    "np.diag(A)"
   ]
  },
  {
   "cell_type": "code",
   "execution_count": 82,
   "id": "d17f8fca-8412-4d20-8eda-0bd9cfc98430",
   "metadata": {},
   "outputs": [
    {
     "data": {
      "text/plain": [
       "array([[0, 1],\n",
       "       [2, 3]])"
      ]
     },
     "execution_count": 82,
     "metadata": {},
     "output_type": "execute_result"
    }
   ],
   "source": [
    "A=np.arange(4).reshape((2,2))\n",
    "A"
   ]
  },
  {
   "cell_type": "code",
   "execution_count": 83,
   "id": "eb96ee64-f2f5-43b6-84ab-2d35fe6afd1f",
   "metadata": {},
   "outputs": [
    {
     "data": {
      "text/plain": [
       "array([[0, 2],\n",
       "       [1, 3]])"
      ]
     },
     "execution_count": 83,
     "metadata": {},
     "output_type": "execute_result"
    }
   ],
   "source": [
    "A.T"
   ]
  },
  {
   "cell_type": "code",
   "execution_count": 84,
   "id": "c0f995af-bc53-4013-bf49-42708f083cf6",
   "metadata": {},
   "outputs": [
    {
     "data": {
      "text/plain": [
       "array([[0, 1, 2, 3]])"
      ]
     },
     "execution_count": 84,
     "metadata": {},
     "output_type": "execute_result"
    }
   ],
   "source": [
    "B=A.reshape((1,4))\n",
    "B"
   ]
  },
  {
   "cell_type": "code",
   "execution_count": 85,
   "id": "817f3529-91e2-4bdf-bc2f-d62a0cfcbd50",
   "metadata": {},
   "outputs": [
    {
     "data": {
      "text/plain": [
       "array([[0],\n",
       "       [1],\n",
       "       [2],\n",
       "       [3]])"
      ]
     },
     "execution_count": 85,
     "metadata": {},
     "output_type": "execute_result"
    }
   ],
   "source": [
    "B.T"
   ]
  },
  {
   "cell_type": "markdown",
   "id": "9ec4bd7d-0dc8-4de5-8691-383e005c0f45",
   "metadata": {},
   "source": [
    "#### Numpy matrices"
   ]
  },
  {
   "cell_type": "code",
   "execution_count": 86,
   "id": "997bf03c-06a6-44b9-85a0-0989e6947053",
   "metadata": {},
   "outputs": [
    {
     "data": {
      "text/plain": [
       "matrix([[1, 2],\n",
       "        [3, 4]])"
      ]
     },
     "execution_count": 86,
     "metadata": {},
     "output_type": "execute_result"
    }
   ],
   "source": [
    "m=np.matrix(\"1 2;3 4\")\n",
    "m"
   ]
  },
  {
   "cell_type": "code",
   "execution_count": 87,
   "id": "8432d0d1-2e89-43c0-8a01-42529b6a95a7",
   "metadata": {},
   "outputs": [],
   "source": [
    "#[[1,2],*[1,2],     # top-left:1*1+2*3=7\n",
    "#[3,4]]   [3,4]     # top-right:1*2+2*4=10\n",
    "                    # bottom-left:3*1+4*3=15\n",
    "                    # bottom-right:3*2+4*4=22"
   ]
  },
  {
   "cell_type": "code",
   "execution_count": 88,
   "id": "33cb2947-ae85-481c-90e3-80ec7856145e",
   "metadata": {},
   "outputs": [
    {
     "data": {
      "text/plain": [
       "matrix([[ 7, 10],\n",
       "        [15, 22]])"
      ]
     },
     "execution_count": 88,
     "metadata": {},
     "output_type": "execute_result"
    }
   ],
   "source": [
    "m*m       "
   ]
  },
  {
   "cell_type": "code",
   "execution_count": 89,
   "id": "6b8ed25d-51f9-4614-90c4-5aa1b04be46c",
   "metadata": {},
   "outputs": [
    {
     "data": {
      "text/plain": [
       "array([[1, 2],\n",
       "       [3, 4]])"
      ]
     },
     "execution_count": 89,
     "metadata": {},
     "output_type": "execute_result"
    }
   ],
   "source": [
    "np.array(m) "
   ]
  },
  {
   "cell_type": "markdown",
   "id": "0fe9ea60-036d-415e-85f9-db6d3e5d73c6",
   "metadata": {},
   "source": [
    "#### Matrix operations"
   ]
  },
  {
   "cell_type": "code",
   "execution_count": 90,
   "id": "8aa1183a-4e08-4467-a944-3a27c94e8030",
   "metadata": {},
   "outputs": [
    {
     "data": {
      "text/plain": [
       "array([[-10, -10],\n",
       "       [-10, -10]])"
      ]
     },
     "execution_count": 90,
     "metadata": {},
     "output_type": "execute_result"
    }
   ],
   "source": [
    "A=np.array([[1, 2], [3, 4]])\n",
    "B=np.array([[11, 12], [13, 14]])\n",
    "A - B"
   ]
  },
  {
   "cell_type": "code",
   "execution_count": 91,
   "id": "2e1f1bf0-1acb-44bb-a2a1-9b9fd018edb4",
   "metadata": {},
   "outputs": [
    {
     "data": {
      "text/plain": [
       "array([[11, 24],\n",
       "       [39, 56]])"
      ]
     },
     "execution_count": 91,
     "metadata": {},
     "output_type": "execute_result"
    }
   ],
   "source": [
    "A*B"
   ]
  },
  {
   "cell_type": "code",
   "execution_count": 92,
   "id": "2d2b2474-ac2a-46aa-a703-a3f068ab9193",
   "metadata": {},
   "outputs": [
    {
     "data": {
      "text/plain": [
       "array([[1, 2],\n",
       "       [3, 4]])"
      ]
     },
     "execution_count": 92,
     "metadata": {},
     "output_type": "execute_result"
    }
   ],
   "source": [
    "A=np.array([[1, 2], [3, 4]])\n",
    "A"
   ]
  },
  {
   "cell_type": "code",
   "execution_count": 93,
   "id": "9e440a72-a405-41bc-8e4a-46a7cfb4b87b",
   "metadata": {},
   "outputs": [
    {
     "data": {
      "text/plain": [
       "array([[0.5       , 0.66666667],\n",
       "       [1.5       , 1.33333333]])"
      ]
     },
     "execution_count": 93,
     "metadata": {},
     "output_type": "execute_result"
    }
   ],
   "source": [
    "v=np.array([2, 3])\n",
    "A/v"
   ]
  },
  {
   "cell_type": "code",
   "execution_count": 94,
   "id": "25d42f05-39d4-4027-90dc-61bc0aa9c925",
   "metadata": {},
   "outputs": [
    {
     "data": {
      "text/plain": [
       "array([[2],\n",
       "       [3]])"
      ]
     },
     "execution_count": 94,
     "metadata": {},
     "output_type": "execute_result"
    }
   ],
   "source": [
    "v=np.array([[2], [3]])\n",
    "v"
   ]
  },
  {
   "cell_type": "code",
   "execution_count": 95,
   "id": "5bbababf-3ed7-4132-83b7-a3d5d621827f",
   "metadata": {},
   "outputs": [
    {
     "data": {
      "text/plain": [
       "array([[0.5       , 1.        ],\n",
       "       [1.        , 1.33333333]])"
      ]
     },
     "execution_count": 95,
     "metadata": {},
     "output_type": "execute_result"
    }
   ],
   "source": [
    "A/v            #1/2=0.5,3/3=1.,2/2=1.,3/4=1.3333"
   ]
  },
  {
   "cell_type": "markdown",
   "id": "36f70b7d-0c62-41ba-86f4-d81f98c3725a",
   "metadata": {},
   "source": [
    "#### Matrix product"
   ]
  },
  {
   "cell_type": "code",
   "execution_count": 96,
   "id": "3de34326-b38a-4907-a416-41005fc2ac38",
   "metadata": {},
   "outputs": [
    {
     "data": {
      "text/plain": [
       "array([[1, 2, 3],\n",
       "       [3, 4, 5]])"
      ]
     },
     "execution_count": 96,
     "metadata": {},
     "output_type": "execute_result"
    }
   ],
   "source": [
    "A=np.array([[1, 2, 3], [3, 4, 5]])\n",
    "A"
   ]
  },
  {
   "cell_type": "code",
   "execution_count": 97,
   "id": "45329886-b085-47b1-aa6d-07645b8f4227",
   "metadata": {},
   "outputs": [
    {
     "data": {
      "text/plain": [
       "array([[-1],\n",
       "       [ 0],\n",
       "       [-2]])"
      ]
     },
     "execution_count": 97,
     "metadata": {},
     "output_type": "execute_result"
    }
   ],
   "source": [
    "B=np.array([[-1], [0], [-2]])\n",
    "B"
   ]
  },
  {
   "cell_type": "code",
   "execution_count": 100,
   "id": "134dfaef-c787-4756-b4b8-369aa7e5f31e",
   "metadata": {},
   "outputs": [],
   "source": [
    "# First-row of A\n",
    "#=(1)(−1)+(2)(0)+(3)(−2)=−1+0−6=−7\n",
    "#=(3)(−1)+(4)(0)+(5)(−2)=−3+0−10=−13"
   ]
  },
  {
   "cell_type": "code",
   "execution_count": 98,
   "id": "6f8556b4-69d0-412b-a1d5-fdfd82460dad",
   "metadata": {},
   "outputs": [
    {
     "data": {
      "text/plain": [
       "array([[ -7],\n",
       "       [-13]])"
      ]
     },
     "execution_count": 98,
     "metadata": {},
     "output_type": "execute_result"
    }
   ],
   "source": [
    "A@B        # A is 2×3 B is 3×1"
   ]
  },
  {
   "cell_type": "code",
   "execution_count": 99,
   "id": "95b1ee91-0c44-42d2-9b22-ea8234ee7829",
   "metadata": {},
   "outputs": [
    {
     "ename": "ValueError",
     "evalue": "matmul: Input operand 1 has a mismatch in its core dimension 0, with gufunc signature (n?,k),(k,m?)->(n?,m?) (size 2 is different from 1)",
     "output_type": "error",
     "traceback": [
      "\u001b[31m---------------------------------------------------------------------------\u001b[39m",
      "\u001b[31mValueError\u001b[39m                                Traceback (most recent call last)",
      "\u001b[36mCell\u001b[39m\u001b[36m \u001b[39m\u001b[32mIn[99]\u001b[39m\u001b[32m, line 1\u001b[39m\n\u001b[32m----> \u001b[39m\u001b[32m1\u001b[39m \u001b[43mB\u001b[49m\u001b[38;5;129;43m@A\u001b[39;49m\n",
      "\u001b[31mValueError\u001b[39m: matmul: Input operand 1 has a mismatch in its core dimension 0, with gufunc signature (n?,k),(k,m?)->(n?,m?) (size 2 is different from 1)"
     ]
    }
   ],
   "source": [
    "B@A      #does not work, because dimensions don’t align."
   ]
  },
  {
   "cell_type": "code",
   "execution_count": 102,
   "id": "d91b0b45-0d6b-4c76-8f93-f9b501abe949",
   "metadata": {},
   "outputs": [
    {
     "data": {
      "text/plain": [
       "array([[ 1,  1],\n",
       "       [ 1, 11]])"
      ]
     },
     "execution_count": 102,
     "metadata": {},
     "output_type": "execute_result"
    }
   ],
   "source": [
    "# Exercise 9.5\n",
    "A=np.array([[1,1],[1,11]])\n",
    "A"
   ]
  },
  {
   "cell_type": "code",
   "execution_count": 104,
   "id": "be7c2785-4fe9-4e32-a950-26f9132e8fb1",
   "metadata": {},
   "outputs": [
    {
     "data": {
      "text/plain": [
       "array([[1., 0.],\n",
       "       [0., 1.]])"
      ]
     },
     "execution_count": 104,
     "metadata": {},
     "output_type": "execute_result"
    }
   ],
   "source": [
    "I=np.eye(2)        # np.eye(n) creates an identity matrix of size n × n.\n",
    "I"
   ]
  },
  {
   "cell_type": "code",
   "execution_count": 105,
   "id": "9eb880de-865c-425b-af0a-a344178cfe7c",
   "metadata": {},
   "outputs": [
    {
     "data": {
      "text/plain": [
       "array([[ 1.,  1.],\n",
       "       [ 1., 11.]])"
      ]
     },
     "execution_count": 105,
     "metadata": {},
     "output_type": "execute_result"
    }
   ],
   "source": [
    "A@I"
   ]
  },
  {
   "cell_type": "code",
   "execution_count": 106,
   "id": "b1468d85-69c0-4331-824b-8c290c5e5ddb",
   "metadata": {},
   "outputs": [
    {
     "data": {
      "text/plain": [
       "array([[ 1.,  0.],\n",
       "       [ 0., 11.]])"
      ]
     },
     "execution_count": 106,
     "metadata": {},
     "output_type": "execute_result"
    }
   ],
   "source": [
    "A*I"
   ]
  },
  {
   "cell_type": "code",
   "execution_count": 112,
   "id": "888bed5c-2185-4fca-b1d0-1a9e7ada9bc4",
   "metadata": {},
   "outputs": [
    {
     "name": "stdout",
     "output_type": "stream",
     "text": [
      "x1^T * beta = 1.5\n",
      "x2^T * beta = -0.3000000000000001\n",
      "x3^T * beta = 1.5\n",
      "X * beta =\n",
      " [[ 1.5]\n",
      " [-0.3]\n",
      " [ 1.5]]\n"
     ]
    }
   ],
   "source": [
    "# Exerise:9.6\n",
    "# Row vectors\n",
    "x1=np.array([1, 2, 3, 4, 5])\n",
    "x2 = np.array([-1, 2, -3, 4, -5])\n",
    "x3 = np.array([5, 4, 3, 2, 1])\n",
    "\n",
    "# Stack row vectors into matrix X\n",
    "X = np.vstack([x1, x2, x3])\n",
    "\n",
    "# Column vector beta\n",
    "beta=np.array([0.1, 0.1, 0.1, 0.1, 0.1]).reshape(-1, 1)\n",
    "\n",
    "# Individual dot products (using transpose explicitly)\n",
    "res1 = x1 @ beta          # gives [[1.5]]\n",
    "res2 = x2 @ beta          # gives [[-0.3]]\n",
    "res3 = x3 @ beta          # gives [[1.5]]\n",
    "\n",
    "# Convert results to scalars with item()\n",
    "res1 = res1.item()\n",
    "res2 = res2.item()\n",
    "res3 = res3.item()\n",
    "\n",
    "# Matrix product\n",
    "resX = X @ beta\n",
    "\n",
    "print(\"x1^T * beta =\", res1)\n",
    "print(\"x2^T * beta =\", res2)\n",
    "print(\"x3^T * beta =\", res3)\n",
    "print(\"X * beta =\\n\", resX)\n"
   ]
  },
  {
   "cell_type": "code",
   "execution_count": 114,
   "id": "7952bd2d-83e1-48a0-a65a-f1b9aaa435e8",
   "metadata": {},
   "outputs": [
    {
     "data": {
      "text/plain": [
       "(3, 2)"
      ]
     },
     "execution_count": 114,
     "metadata": {},
     "output_type": "execute_result"
    }
   ],
   "source": [
    "X = np.array([[1, 1], [2, 2], [3, 3]])\n",
    "X.shape"
   ]
  },
  {
   "cell_type": "code",
   "execution_count": 115,
   "id": "ef910586-f13b-4665-8578-8cd24fce6ce1",
   "metadata": {},
   "outputs": [
    {
     "data": {
      "text/plain": [
       "(3, 1)"
      ]
     },
     "execution_count": 115,
     "metadata": {},
     "output_type": "execute_result"
    }
   ],
   "source": [
    "y = np.array([[1], [2], [3]])\n",
    "y.shape "
   ]
  },
  {
   "cell_type": "code",
   "execution_count": 116,
   "id": "cecd3a54-dbfc-4f80-a034-3ae8e5cc9f47",
   "metadata": {},
   "outputs": [
    {
     "data": {
      "text/plain": [
       "(2,)"
      ]
     },
     "execution_count": 116,
     "metadata": {},
     "output_type": "execute_result"
    }
   ],
   "source": [
    "b1 = np.array([1, 1])\n",
    "b1.shape"
   ]
  },
  {
   "cell_type": "code",
   "execution_count": 117,
   "id": "fe22f800-d4b6-403a-b214-84846e1508ce",
   "metadata": {},
   "outputs": [
    {
     "data": {
      "text/plain": [
       "(2, 1)"
      ]
     },
     "execution_count": 117,
     "metadata": {},
     "output_type": "execute_result"
    }
   ],
   "source": [
    "b2 = np.array([[1], [1]])\n",
    "b2.shape  "
   ]
  },
  {
   "cell_type": "code",
   "execution_count": 119,
   "id": "c40b208d-ea25-45e1-89c6-a2b4643bba3d",
   "metadata": {},
   "outputs": [
    {
     "data": {
      "text/plain": [
       "array([[2],\n",
       "       [4],\n",
       "       [6]])"
      ]
     },
     "execution_count": 119,
     "metadata": {},
     "output_type": "execute_result"
    }
   ],
   "source": [
    "X@b2"
   ]
  },
  {
   "cell_type": "code",
   "execution_count": 120,
   "id": "e266772d-1853-49d1-888e-ba90d0fbd0af",
   "metadata": {},
   "outputs": [
    {
     "data": {
      "text/plain": [
       "array([2, 4, 6])"
      ]
     },
     "execution_count": 120,
     "metadata": {},
     "output_type": "execute_result"
    }
   ],
   "source": [
    "X@b1"
   ]
  },
  {
   "cell_type": "code",
   "execution_count": 121,
   "id": "8768f82b-91bc-4ac6-85fb-c9f6906d2bf8",
   "metadata": {},
   "outputs": [
    {
     "data": {
      "text/plain": [
       "array([[-1],\n",
       "       [-2],\n",
       "       [-3]])"
      ]
     },
     "execution_count": 121,
     "metadata": {},
     "output_type": "execute_result"
    }
   ],
   "source": [
    "y - X @ b2"
   ]
  },
  {
   "cell_type": "code",
   "execution_count": 122,
   "id": "828985b6-7a76-4a26-814f-b34fec160da3",
   "metadata": {},
   "outputs": [
    {
     "data": {
      "text/plain": [
       "array([[-1, -3, -5],\n",
       "       [ 0, -2, -4],\n",
       "       [ 1, -1, -3]])"
      ]
     },
     "execution_count": 122,
     "metadata": {},
     "output_type": "execute_result"
    }
   ],
   "source": [
    "y-X@b1"
   ]
  },
  {
   "cell_type": "markdown",
   "id": "6513c5a5-44c1-4a6c-83cd-6ad37c279ee5",
   "metadata": {},
   "source": [
    "#### Inverse matrix"
   ]
  },
  {
   "cell_type": "code",
   "execution_count": 124,
   "id": "bde8305a-2b30-4037-9976-70b47d5a1fc3",
   "metadata": {},
   "outputs": [
    {
     "data": {
      "text/plain": [
       "array([[1, 2],\n",
       "       [3, 4]])"
      ]
     },
     "execution_count": 124,
     "metadata": {},
     "output_type": "execute_result"
    }
   ],
   "source": [
    "A=1+np.arange(4).reshape((2,2))\n",
    "A"
   ]
  },
  {
   "cell_type": "code",
   "execution_count": 125,
   "id": "b16b684a-6949-46ff-bd76-edb971c065f0",
   "metadata": {},
   "outputs": [
    {
     "data": {
      "text/plain": [
       "array([[-2. ,  1. ],\n",
       "       [ 1.5, -0.5]])"
      ]
     },
     "execution_count": 125,
     "metadata": {},
     "output_type": "execute_result"
    }
   ],
   "source": [
    "np.linalg.inv(A)       #Inverse matrix can be computed with np.linalg.inv()"
   ]
  },
  {
   "cell_type": "code",
   "execution_count": 128,
   "id": "579d9e27-c905-416e-bba6-82c1f410e5bc",
   "metadata": {},
   "outputs": [
    {
     "data": {
      "text/plain": [
       "array([[1.0000000e+00, 4.4408921e-16],\n",
       "       [0.0000000e+00, 1.0000000e+00]])"
      ]
     },
     "execution_count": 128,
     "metadata": {},
     "output_type": "execute_result"
    }
   ],
   "source": [
    "np.linalg.inv(A)@A     #np.linalg = linear algebra module in NumPy.\n",
    "\n",
    "                     #inv() = function that computes the inverse of a square matrix."
   ]
  },
  {
   "cell_type": "code",
   "execution_count": null,
   "id": "09ffbe8c-60ad-4379-b32e-37ab479df943",
   "metadata": {},
   "outputs": [],
   "source": []
  }
 ],
 "metadata": {
  "kernelspec": {
   "display_name": "Python 3 (ipykernel)",
   "language": "python",
   "name": "python3"
  },
  "language_info": {
   "codemirror_mode": {
    "name": "ipython",
    "version": 3
   },
   "file_extension": ".py",
   "mimetype": "text/x-python",
   "name": "python",
   "nbconvert_exporter": "python",
   "pygments_lexer": "ipython3",
   "version": "3.13.5"
  }
 },
 "nbformat": 4,
 "nbformat_minor": 5
}
