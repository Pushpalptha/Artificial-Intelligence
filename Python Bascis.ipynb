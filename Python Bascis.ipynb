{
 "cells": [
  {
   "cell_type": "code",
   "execution_count": 1,
   "id": "c5cd8f1a-2299-4fd2-b98b-59cfc3c1b778",
   "metadata": {},
   "outputs": [
    {
     "name": "stdout",
     "output_type": "stream",
     "text": [
      "Hi there!\n",
      "Hi there!\n",
      "Hi there!\n"
     ]
    }
   ],
   "source": [
    "for i in range(3):\n",
    "    print(\"Hi there!\")"
   ]
  },
  {
   "cell_type": "code",
   "execution_count": 5,
   "id": "1557eb54-15ea-4711-b368-695a57abd220",
   "metadata": {},
   "outputs": [
    {
     "name": "stdout",
     "output_type": "stream",
     "text": [
      "0\n",
      "1\n",
      "2\n",
      "3\n",
      "too much\n",
      "done\n"
     ]
    }
   ],
   "source": [
    "for i in range(4):\n",
    "    print(i)\n",
    "    if i>2:\n",
    "        print(\"too much\")\n",
    "print(\"done\")"
   ]
  },
  {
   "cell_type": "code",
   "execution_count": 8,
   "id": "dc44b7df-cc44-4944-847a-7b3421d75327",
   "metadata": {},
   "outputs": [
    {
     "name": "stdout",
     "output_type": "stream",
     "text": [
      "i am going out with my  10 friends\n"
     ]
    }
   ],
   "source": [
    "# Excercise 2.1\n",
    "a=10\n",
    "b=10000\n",
    "print(\"i am going out with my \",a,\"friends\")"
   ]
  },
  {
   "cell_type": "code",
   "execution_count": 19,
   "id": "64faacf1-2411-420a-aa26-9b2158355f24",
   "metadata": {},
   "outputs": [
    {
     "name": "stdout",
     "output_type": "stream",
     "text": [
      "Total price: 9487.5\n"
     ]
    }
   ],
   "source": [
    "c=750\n",
    "price=c*(a+1)\n",
    "total=price*1.15\n",
    "print(\"Total price:\",total)"
   ]
  },
  {
   "cell_type": "code",
   "execution_count": 21,
   "id": "5e64d6c9-d1e5-4391-b041-8c9b3d67bee3",
   "metadata": {},
   "outputs": [
    {
     "name": "stdout",
     "output_type": "stream",
     "text": [
      "Height: 5'3\"\n"
     ]
    }
   ],
   "source": [
    "# Excercise 2.2\n",
    "height=\"5'\"+'3\"'\n",
    "print(\"Height:\",height)"
   ]
  },
  {
   "cell_type": "markdown",
   "id": "bba68f7b-8d86-438f-9d38-20292dc91811",
   "metadata": {},
   "source": [
    "Functions"
   ]
  },
  {
   "cell_type": "code",
   "execution_count": 23,
   "id": "10982520-eb07-44b8-8e28-019009b8aea3",
   "metadata": {},
   "outputs": [
    {
     "data": {
      "text/plain": [
       "23"
      ]
     },
     "execution_count": 23,
     "metadata": {},
     "output_type": "execute_result"
    }
   ],
   "source": [
    "def add(x,y):\n",
    "    z=x+y       # return x+y \n",
    "    return z\n",
    "add(11,12)"
   ]
  },
  {
   "cell_type": "code",
   "execution_count": 24,
   "id": "f04b86e8-1b0f-4caf-b9e1-3186f982a3bf",
   "metadata": {},
   "outputs": [
    {
     "data": {
      "text/plain": [
       "18"
      ]
     },
     "execution_count": 24,
     "metadata": {},
     "output_type": "execute_result"
    }
   ],
   "source": [
    "def multiply(a,b):\n",
    "    return a*b\n",
    "multiply(3,6)"
   ]
  },
  {
   "cell_type": "markdown",
   "id": "0b8535df-67e1-4667-96a6-a8093746fbe9",
   "metadata": {},
   "source": [
    "collections"
   ]
  },
  {
   "cell_type": "code",
   "execution_count": 25,
   "id": "78303ed3-8d96-4325-8c03-a2e649eb6230",
   "metadata": {},
   "outputs": [
    {
     "name": "stdout",
     "output_type": "stream",
     "text": [
      "[0, 1, 2, 3, 4]\n"
     ]
    }
   ],
   "source": [
    "n=list(range(5))\n",
    "print(n)"
   ]
  },
  {
   "cell_type": "code",
   "execution_count": null,
   "id": "4dee11b9-3941-4a9a-89db-a622fa82f073",
   "metadata": {},
   "outputs": [],
   "source": [
    "# using indexing we can only accessing only one element this is called as indexing.\n",
    "# One can access more than one list element, this is called slicing."
   ]
  },
  {
   "cell_type": "code",
   "execution_count": 28,
   "id": "f0f1ddab-11f8-428a-b8c6-1477abb6dcfd",
   "metadata": {},
   "outputs": [
    {
     "name": "stdout",
     "output_type": "stream",
     "text": [
      "[1, 4, 7, 10]\n",
      "[2, 5, 8, 11]\n",
      "[3, 6, 9, 12]\n"
     ]
    }
   ],
   "source": [
    "# Exercise 2.3\n",
    "m=list(range(1,13))\n",
    "for i in range(3):\n",
    "    print(m[i::3])"
   ]
  },
  {
   "cell_type": "code",
   "execution_count": 6,
   "id": "704963a6-50a3-4ecb-896f-85139a66f6cf",
   "metadata": {},
   "outputs": [
    {
     "name": "stdout",
     "output_type": "stream",
     "text": [
      "All Friends: ['abc', 'def', 'ghi', 'jkl']\n"
     ]
    }
   ],
   "source": [
    "# Exercise 2.4\n",
    "a=[\"abc\",\"def\"]\n",
    "b=[]\n",
    "b+=[\"ghi\",\"jkl\"]\n",
    "res=a+b\n",
    "print(\"All Friends:\",res)"
   ]
  },
  {
   "cell_type": "code",
   "execution_count": 10,
   "id": "8c17e0c9-184c-42e1-8c30-95e3a3232444",
   "metadata": {},
   "outputs": [
    {
     "name": "stdout",
     "output_type": "stream",
     "text": [
      "[0, 1, 4, 9, 16, 25, 36, 49, 64, 81]\n"
     ]
    }
   ],
   "source": [
    "squares=[]\n",
    "for i in range(10):\n",
    "    squares.append(i**2)\n",
    "print(squares)"
   ]
  },
  {
   "cell_type": "code",
   "execution_count": 11,
   "id": "90a89d47-307c-48f7-ade8-ac8d1762898b",
   "metadata": {},
   "outputs": [
    {
     "data": {
      "text/plain": [
       "['Adam:33', 'Ashin:12', 'Inukai:45', 'Tanaka:2', 'Ikki:17']"
      ]
     },
     "execution_count": 11,
     "metadata": {},
     "output_type": "execute_result"
    }
   ],
   "source": [
    "# Excercise 2.5\n",
    "names=[\"Adam\", \"Ashin\", \"Inukai\", \"Tanaka\", \"Ikki\"]\n",
    "seats=[33, 12, 45, 2, 17]\n",
    "assignments=[]\n",
    "for i in range(len(names)):\n",
    "    a=names[i]+\":\"+str(seats[i])\n",
    "    assignments.append(a)\n",
    "assignments"
   ]
  },
  {
   "cell_type": "code",
   "execution_count": 12,
   "id": "2eafd31f-2d88-4fb6-8ac3-dbb5b16b60d9",
   "metadata": {},
   "outputs": [
    {
     "data": {
      "text/plain": [
       "[0, 1, 4, 9, 16, 25, 36, 49, 64, 81]"
      ]
     },
     "execution_count": 12,
     "metadata": {},
     "output_type": "execute_result"
    }
   ],
   "source": [
    "#  List comprehension\n",
    "[i*i for i in range(10)]     # Squares"
   ]
  },
  {
   "cell_type": "code",
   "execution_count": 13,
   "id": "d0650a08-1bb2-43af-b509-8ea29f1fc49a",
   "metadata": {},
   "outputs": [
    {
     "data": {
      "text/plain": [
       "['Question1', 'Question2', 'Question3', 'Question4']"
      ]
     },
     "execution_count": 13,
     "metadata": {},
     "output_type": "execute_result"
    }
   ],
   "source": [
    "[\"Question\"+str(i) for i in range(1,5)]"
   ]
  },
  {
   "cell_type": "code",
   "execution_count": 15,
   "id": "26d03ded-e9c8-4209-96cf-0a9d46991323",
   "metadata": {},
   "outputs": [
    {
     "data": {
      "text/plain": [
       "[10, 10, 10, 10, 10]"
      ]
     },
     "execution_count": 15,
     "metadata": {},
     "output_type": "execute_result"
    }
   ],
   "source": [
    "[10 for i in range(5)]"
   ]
  },
  {
   "cell_type": "code",
   "execution_count": 20,
   "id": "be5ecf9a-12ea-47a1-a3f3-cb847924d9c8",
   "metadata": {},
   "outputs": [
    {
     "data": {
      "text/plain": [
       "[0, 1, 4, 9, 16, 25, 36, 49, 64, 81, 100]"
      ]
     },
     "execution_count": 20,
     "metadata": {},
     "output_type": "execute_result"
    }
   ],
   "source": [
    "[i*i for i in range(11)]"
   ]
  },
  {
   "cell_type": "code",
   "execution_count": 35,
   "id": "505366f2-734e-45b1-9429-fa63b41dbda6",
   "metadata": {},
   "outputs": [
    {
     "data": {
      "text/plain": [
       "['pizza with mushrooms', 'pizza with mozarella', 'pizza with pineapple']"
      ]
     },
     "execution_count": 35,
     "metadata": {},
     "output_type": "execute_result"
    }
   ],
   "source": [
    "# Exercise 2.6\n",
    "toppings=[\"mushrooms\",\"mozarella\",\"pineapple\"]\n",
    "[\"pizza with \"+ a for a in toppings]"
   ]
  },
  {
   "cell_type": "code",
   "execution_count": 36,
   "id": "6e35324d-4c20-4fbb-9ad9-2ef0270c803e",
   "metadata": {},
   "outputs": [
    {
     "data": {
      "text/plain": [
       "[2, 'b', <function print(*args, sep=' ', end='\\n', file=None, flush=False)>]"
      ]
     },
     "execution_count": 36,
     "metadata": {},
     "output_type": "execute_result"
    }
   ],
   "source": [
    "c=[[1,2,3], [\"a\", \"b\", \"c\"], [len, print, type]] # len, print,type (not in single or double quotes)- function objects\n",
    "[d[1] for d in c]"
   ]
  },
  {
   "cell_type": "code",
   "execution_count": 38,
   "id": "c8c26683-bef4-4719-8288-42b14058d063",
   "metadata": {},
   "outputs": [
    {
     "name": "stdout",
     "output_type": "stream",
     "text": [
      "{(31.228611, 121.474722): 'Shanghai', (23.763889, 90.388889): 'Dhaka', (13.7525, 100.494167): 'Bangkok'}\n"
     ]
    }
   ],
   "source": [
    "# Dict\n",
    "# Exercise 2.7\n",
    "cities = {(31.228611, 121.474722):\"Shanghai\",\n",
    "          (23.763889, 90.388889):\"Dhaka\",\n",
    "          (13.7525, 100.494167):\"Bangkok\"\n",
    "          }\n",
    "print(cities)"
   ]
  },
  {
   "cell_type": "code",
   "execution_count": 39,
   "id": "714695af-b237-4c74-aa62-5f2753d70a5c",
   "metadata": {},
   "outputs": [
    {
     "name": "stdout",
     "output_type": "stream",
     "text": [
      "{'Tsinghua': {'house': 30, 'street': 'Shuangqing Rd', 'district': 'Haidan', 'city': 'Beijing', 'country': 'CH'}, 'Kenyatta': {'pobox': '43844-00100', 'city': 'Nairobi', 'country': 'KE'}, 'Teski Refugio': {'house': 256, 'street': 'Volcan Osorno', 'city': 'La Ensenada', 'region': 'Los Lagos', 'country': 'CL'}}\n"
     ]
    }
   ],
   "source": [
    "# Exercise 2.8\n",
    "tsinghua={\"house\":30, \"street\":\"Shuangqing Rd\",\n",
    "            \"district\":\"Haidan\", \"city\":\"Beijing\",\n",
    "            \"country\":\"CH\"}\n",
    "kenyatta={\"pobox\":\"43844-00100\", \"city\":\"Nairobi\",\n",
    "            \"country\":\"KE\"}\n",
    "places={\"Tsinghua\":tsinghua, \"Kenyatta\":kenyatta}\n",
    "places[\"Teski Refugio\"] = {\"house\":256,\n",
    "                   \"street\":\"Volcan Osorno\",\n",
    "                   \"city\":\"La Ensenada\",\n",
    "                   \"region\":\"Los Lagos\",\n",
    "                   \"country\":\"CL\"}\n",
    "print(places)"
   ]
  },
  {
   "cell_type": "code",
   "execution_count": 44,
   "id": "6aa113db-ab92-40bd-b9e4-eb133a7647fa",
   "metadata": {},
   "outputs": [
    {
     "name": "stdout",
     "output_type": "stream",
     "text": [
      "Total bill: 1800\n"
     ]
    }
   ],
   "source": [
    "# Exercise 2.8\n",
    "payments={\"jan\":500,\"feb\":600,\"mar\":400,\"apr\":300}\n",
    "total=0\n",
    "for month in payments.keys():\n",
    "    total+=payments[month]\n",
    "print(\"Total bill:\",total)"
   ]
  },
  {
   "cell_type": "code",
   "execution_count": 45,
   "id": "24bf343b-419a-4b00-9d7e-f0bf7ac0d2e1",
   "metadata": {},
   "outputs": [
    {
     "name": "stdout",
     "output_type": "stream",
     "text": [
      "we have 4 unique elements: {1, 2, 3, 5}\n"
     ]
    }
   ],
   "source": [
    "x = [1, 2, 3, 2, 1, 2, 2, 5, 3]\n",
    "s = set(x)\n",
    "print(\"we have\", len(s), \"unique elements:\", s)"
   ]
  },
  {
   "cell_type": "code",
   "execution_count": 46,
   "id": "dbebdc8e-96cd-43f3-b7a3-5f0e5582f36a",
   "metadata": {},
   "outputs": [
    {
     "name": "stdout",
     "output_type": "stream",
     "text": [
      "[1, 2, 3, 5]\n"
     ]
    }
   ],
   "source": [
    "l = list(s)\n",
    "l.sort()\n",
    "print(l)"
   ]
  },
  {
   "cell_type": "code",
   "execution_count": 47,
   "id": "9121185c-cb16-46ba-b63e-cf68fbe7a5f4",
   "metadata": {},
   "outputs": [
    {
     "name": "stdout",
     "output_type": "stream",
     "text": [
      "{'Won', 'Hye', 'Hyo', 'Gang', 'Jun', 'An', 'Yang'}\n"
     ]
    }
   ],
   "source": [
    "# Exercise 2.9\n",
    "kings=[\"Jun\", \"Gang\", \"An\", \"jun\", \"HYE\", \"JUN\", \"hyo\", \"yang\", \"WON\", \"WON\", \"Yang\"]\n",
    "Kings=[n.title() for n in kings]\n",
    "s=set(Kings)\n",
    "print(s)"
   ]
  },
  {
   "cell_type": "code",
   "execution_count": 48,
   "id": "bcaab124-02b0-4afd-a981-b3ad66d984dc",
   "metadata": {},
   "outputs": [
    {
     "name": "stdout",
     "output_type": "stream",
     "text": [
      "7 unique kings\n"
     ]
    }
   ],
   "source": [
    "print(len(s), \"unique kings\")"
   ]
  },
  {
   "cell_type": "code",
   "execution_count": 49,
   "id": "453a73ee-22b8-4b68-ac2e-5a997b2fc920",
   "metadata": {},
   "outputs": [
    {
     "name": "stdout",
     "output_type": "stream",
     "text": [
      "0.8414709848078965\n",
      "0.5403023058681398\n",
      "1.0\n"
     ]
    }
   ],
   "source": [
    "import math \n",
    "for fun in[math.sin, math.cos,math.sqrt]:\n",
    "    print(fun(1))"
   ]
  },
  {
   "cell_type": "code",
   "execution_count": 52,
   "id": "a65d1256-994c-4500-b780-4cdcaa7ac9c4",
   "metadata": {},
   "outputs": [
    {
     "name": "stdout",
     "output_type": "stream",
     "text": [
      "1 odd\n",
      "2 even\n",
      "3 odd\n",
      "4 even\n",
      "5 odd\n",
      "6 even\n",
      "7 odd\n",
      "8 even\n",
      "9 odd\n",
      "10 even\n"
     ]
    }
   ],
   "source": [
    "# Exercise 2.10\n",
    "for i in range(1,11):\n",
    "    parity=i%2\n",
    "    if parity==1:\n",
    "        print(i,\"odd\")\n",
    "    else:\n",
    "        print(i,\"even\")"
   ]
  },
  {
   "cell_type": "code",
   "execution_count": 54,
   "id": "bb4682e1-6b64-4d49-9a45-9ad925ce9310",
   "metadata": {},
   "outputs": [
    {
     "data": {
      "text/plain": [
       "3628800"
      ]
     },
     "execution_count": 54,
     "metadata": {},
     "output_type": "execute_result"
    }
   ],
   "source": [
    "p=1\n",
    "for i in range(1,11):\n",
    "    p=p*i\n",
    "p"
   ]
  },
  {
   "cell_type": "code",
   "execution_count": 56,
   "id": "4bdacdc0-ca4e-4ebf-b931-1504244536bc",
   "metadata": {},
   "outputs": [
    {
     "data": {
      "text/plain": [
       "'viola glabella,monothropa hypopithys,lomatium utriculatum'"
      ]
     },
     "execution_count": 56,
     "metadata": {},
     "output_type": "execute_result"
    }
   ],
   "source": [
    "names = [\"viola glabella\", \"monothropa hypopithys\", \"lomatium utriculatum\"]\n",
    "s=\"\"\n",
    "for i in names:\n",
    "    if s!=\"\":\n",
    "        s+=\",\"\n",
    "    s+=i\n",
    "s"
   ]
  },
  {
   "cell_type": "code",
   "execution_count": 58,
   "id": "a2e772aa-bf2a-40eb-bc97-3690f509c9f6",
   "metadata": {},
   "outputs": [
    {
     "data": {
      "text/plain": [
       "'viola glabella, monothropa hypopithys, lomatium utriculatum'"
      ]
     },
     "execution_count": 58,
     "metadata": {},
     "output_type": "execute_result"
    }
   ],
   "source": [
    "# Exercise 2.11\n",
    "names = [\"viola glabella\", \"monothropa hypopithys\", \"lomatium utriculatum\"]\n",
    "\", \".join(names)"
   ]
  },
  {
   "cell_type": "code",
   "execution_count": 60,
   "id": "e1597615-638a-4293-975a-aa10a48d2c11",
   "metadata": {},
   "outputs": [
    {
     "data": {
      "text/plain": [
       "3.0"
      ]
     },
     "execution_count": 60,
     "metadata": {},
     "output_type": "execute_result"
    }
   ],
   "source": [
    "import math\n",
    "math.sqrt(9)"
   ]
  },
  {
   "cell_type": "code",
   "execution_count": 61,
   "id": "395288a9-fbc0-4cbd-9b55-cc4908d5fcb5",
   "metadata": {},
   "outputs": [
    {
     "data": {
      "text/plain": [
       "2.0"
      ]
     },
     "execution_count": 61,
     "metadata": {},
     "output_type": "execute_result"
    }
   ],
   "source": [
    "from math import sqrt,sin,pi\n",
    "sqrt(4)"
   ]
  },
  {
   "cell_type": "code",
   "execution_count": 64,
   "id": "008f0314-94cc-424a-9a20-23e7e8dc398e",
   "metadata": {},
   "outputs": [
    {
     "data": {
      "text/plain": [
       "1.0"
      ]
     },
     "execution_count": 64,
     "metadata": {},
     "output_type": "execute_result"
    }
   ],
   "source": [
    "sin(pi/2)"
   ]
  },
  {
   "cell_type": "code",
   "execution_count": null,
   "id": "1cff90db-5677-469a-990d-8e517ea22677",
   "metadata": {},
   "outputs": [],
   "source": []
  }
 ],
 "metadata": {
  "kernelspec": {
   "display_name": "Python [conda env:base] *",
   "language": "python",
   "name": "conda-base-py"
  },
  "language_info": {
   "codemirror_mode": {
    "name": "ipython",
    "version": 3
   },
   "file_extension": ".py",
   "mimetype": "text/x-python",
   "name": "python",
   "nbconvert_exporter": "python",
   "pygments_lexer": "ipython3",
   "version": "3.13.5"
  }
 },
 "nbformat": 4,
 "nbformat_minor": 5
}
