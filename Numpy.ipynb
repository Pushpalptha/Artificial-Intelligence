{
 "cells": [
  {
   "cell_type": "code",
   "execution_count": 1,
   "id": "62430227-7b83-49a6-9fc6-ddc07f3da621",
   "metadata": {},
   "outputs": [
    {
     "name": "stdout",
     "output_type": "stream",
     "text": [
      "Hello World\n"
     ]
    }
   ],
   "source": [
    "print(\"Hello World\")"
   ]
  },
  {
   "cell_type": "code",
   "execution_count": 3,
   "id": "768c1c14-70b4-4af2-8244-332595aeefd2",
   "metadata": {},
   "outputs": [
    {
     "name": "stdout",
     "output_type": "stream",
     "text": [
      "Requirement already satisfied: numpy in c:\\users\\user\\anaconda3\\lib\\site-packages (2.1.3)\n",
      "Note: you may need to restart the kernel to use updated packages.\n"
     ]
    }
   ],
   "source": [
    "pip install numpy"
   ]
  },
  {
   "cell_type": "code",
   "execution_count": 4,
   "id": "ff81cb3e-0e2c-490d-9427-ebb178814dd4",
   "metadata": {},
   "outputs": [],
   "source": [
    "import numpy as np"
   ]
  },
  {
   "cell_type": "code",
   "execution_count": 5,
   "id": "23726762-c5c9-4805-bb20-d475659d4392",
   "metadata": {},
   "outputs": [],
   "source": [
    "import pandas as pd"
   ]
  },
  {
   "cell_type": "code",
   "execution_count": 6,
   "id": "ff0359e8-d2bd-4c1f-aae8-05ed23adb2a9",
   "metadata": {},
   "outputs": [
    {
     "name": "stdout",
     "output_type": "stream",
     "text": [
      "Requirement already satisfied: pandas in c:\\users\\user\\anaconda3\\lib\\site-packages (2.2.3)\n",
      "Requirement already satisfied: numpy>=1.26.0 in c:\\users\\user\\anaconda3\\lib\\site-packages (from pandas) (2.1.3)\n",
      "Requirement already satisfied: python-dateutil>=2.8.2 in c:\\users\\user\\anaconda3\\lib\\site-packages (from pandas) (2.9.0.post0)\n",
      "Requirement already satisfied: pytz>=2020.1 in c:\\users\\user\\anaconda3\\lib\\site-packages (from pandas) (2024.1)\n",
      "Requirement already satisfied: tzdata>=2022.7 in c:\\users\\user\\anaconda3\\lib\\site-packages (from pandas) (2025.2)\n",
      "Requirement already satisfied: six>=1.5 in c:\\users\\user\\anaconda3\\lib\\site-packages (from python-dateutil>=2.8.2->pandas) (1.17.0)\n",
      "Note: you may need to restart the kernel to use updated packages.\n"
     ]
    }
   ],
   "source": [
    "pip install pandas"
   ]
  },
  {
   "cell_type": "code",
   "execution_count": 6,
   "id": "ef3613df-bd85-41f7-bff4-b6e610abe5f8",
   "metadata": {},
   "outputs": [
    {
     "name": "stdout",
     "output_type": "stream",
     "text": [
      "a:\n",
      " [1 2 3 4 5 6]\n"
     ]
    },
    {
     "data": {
      "text/plain": [
       "(6,)"
      ]
     },
     "execution_count": 6,
     "metadata": {},
     "output_type": "execute_result"
    }
   ],
   "source": [
    "import numpy as np\n",
    "a=np.array([1,2,3,4,5,6])\n",
    "print(\"a:\\n\",a)\n",
    "a.shape"
   ]
  },
  {
   "cell_type": "code",
   "execution_count": 10,
   "id": "2721be29-8b96-48b7-ae12-30e0cc1d93ee",
   "metadata": {},
   "outputs": [
    {
     "name": "stdout",
     "output_type": "stream",
     "text": [
      "b:\n",
      " [[1 2]\n",
      " [3 4]]\n"
     ]
    },
    {
     "data": {
      "text/plain": [
       "(2, 2)"
      ]
     },
     "execution_count": 10,
     "metadata": {},
     "output_type": "execute_result"
    }
   ],
   "source": [
    "b=np.array([[1,2],[3,4]])\n",
    "print(\"b:\\n\",b)\n",
    "b.shape"
   ]
  },
  {
   "cell_type": "code",
   "execution_count": 9,
   "id": "7b6d3356-3d8d-4711-9738-a291d302287b",
   "metadata": {},
   "outputs": [
    {
     "data": {
      "text/plain": [
       "array([[1, 2],\n",
       "       [3, 4],\n",
       "       [5, 6]])"
      ]
     },
     "execution_count": 9,
     "metadata": {},
     "output_type": "execute_result"
    }
   ],
   "source": [
    "a.reshape((3,2))"
   ]
  },
  {
   "cell_type": "code",
   "execution_count": 11,
   "id": "37043870-e30c-4b6c-8f0b-ed54d5fa573a",
   "metadata": {},
   "outputs": [
    {
     "data": {
      "text/plain": [
       "array([1, 2, 3, 4])"
      ]
     },
     "execution_count": 11,
     "metadata": {},
     "output_type": "execute_result"
    }
   ],
   "source": [
    "b.reshape((4,))"
   ]
  },
  {
   "cell_type": "code",
   "execution_count": 13,
   "id": "0b938833-870e-4ac0-93e6-eeb77bbacdee",
   "metadata": {},
   "outputs": [
    {
     "data": {
      "text/plain": [
       "array([0, 1, 2, 3, 4, 5, 6, 7, 8, 9])"
      ]
     },
     "execution_count": 13,
     "metadata": {},
     "output_type": "execute_result"
    }
   ],
   "source": [
    "np.arange(10)"
   ]
  },
  {
   "cell_type": "code",
   "execution_count": 19,
   "id": "f8e65f0f-3d09-4b6a-9af6-ea4bca0678c7",
   "metadata": {},
   "outputs": [
    {
     "data": {
      "text/plain": [
       "array([[0, 1, 2, 3, 4],\n",
       "       [5, 6, 7, 8, 9]])"
      ]
     },
     "execution_count": 19,
     "metadata": {},
     "output_type": "execute_result"
    }
   ],
   "source": [
    "np.arange(10).reshape((2,5))"
   ]
  },
  {
   "cell_type": "code",
   "execution_count": 20,
   "id": "1172962b-5f78-4c26-9ed7-66e9de3f4afb",
   "metadata": {},
   "outputs": [
    {
     "data": {
      "text/plain": [
       "array([0., 0., 0., 0., 0.])"
      ]
     },
     "execution_count": 20,
     "metadata": {},
     "output_type": "execute_result"
    }
   ],
   "source": [
    "np.zeros((5,))"
   ]
  },
  {
   "cell_type": "code",
   "execution_count": 24,
   "id": "91e59c91-cfcc-44cc-9a63-4f032a6b36de",
   "metadata": {},
   "outputs": [
    {
     "data": {
      "text/plain": [
       "array([[1., 1., 1., 1.],\n",
       "       [1., 1., 1., 1.],\n",
       "       [1., 1., 1., 1.]])"
      ]
     },
     "execution_count": 24,
     "metadata": {},
     "output_type": "execute_result"
    }
   ],
   "source": [
    "np.ones((3,4))"
   ]
  },
  {
   "cell_type": "code",
   "execution_count": 29,
   "id": "1dcdef47-135e-4635-a1b9-cf5f18cc4de0",
   "metadata": {},
   "outputs": [
    {
     "data": {
      "text/plain": [
       "array([[1., 0., 0., 0.],\n",
       "       [1., 0., 0., 0.],\n",
       "       [1., 0., 0., 0.],\n",
       "       [1., 0., 0., 0.]])"
      ]
     },
     "execution_count": 29,
     "metadata": {},
     "output_type": "execute_result"
    }
   ],
   "source": [
    "onecol=np.ones((4,))\n",
    "zerocol=np.zeros((4,3))\n",
    "np.column_stack((onecol,zerocol))"
   ]
  },
  {
   "cell_type": "code",
   "execution_count": 40,
   "id": "afa53503-89c6-44d7-a16a-da4a8d0afbef",
   "metadata": {},
   "outputs": [
    {
     "name": "stdout",
     "output_type": "stream",
     "text": [
      "[[-1. -1. -1. -1.]\n",
      " [ 0.  0.  0.  0.]\n",
      " [ 2.  2.  2.  2.]]\n"
     ]
    }
   ],
   "source": [
    "#Excercise 3.1 \n",
    "onerow = np.ones((1, 4))         \n",
    "zerosrow = np.zeros((1, 4))      \n",
    "tworow = 2 * np.ones((1, 4))     \n",
    "\n",
    "result = np.vstack(( -1 * onerow, zerosrow, tworow ))\n",
    "\n",
    "print(result)"
   ]
  },
  {
   "cell_type": "code",
   "execution_count": 103,
   "id": "60ebe23e-abd8-40cf-9c40-3793d341e0f8",
   "metadata": {},
   "outputs": [
    {
     "name": "stdout",
     "output_type": "stream",
     "text": [
      "[[ 0  1  2  3]\n",
      " [ 4  5  6  7]\n",
      " [ 8  9 10 11]]\n",
      "[[100 101 102 103]\n",
      " [104 105 106 107]\n",
      " [108 109 110 111]] \n",
      "\n",
      "[[   1    2    4    8]\n",
      " [  16   32   64  128]\n",
      " [ 256  512 1024 2048]] \n",
      "\n"
     ]
    }
   ],
   "source": [
    "a=np.arange(12).reshape((3,4))\n",
    "print(a)\n",
    "print(100+a,\"\\n\")\n",
    "print(2**+a,\"\\n\")"
   ]
  },
  {
   "cell_type": "code",
   "execution_count": 52,
   "id": "3f60d134-c2e7-46a0-9d3e-d17b181ad7a0",
   "metadata": {},
   "outputs": [
    {
     "name": "stdout",
     "output_type": "stream",
     "text": [
      "[[ 2  4  6  8 10]\n",
      " [12 14 16 18 20]\n",
      " [22 24 26 28 30]\n",
      " [32 34 36 38 40]]\n"
     ]
    }
   ],
   "source": [
    "#Exercise 3.2\n",
    "b=np.arange(20).reshape((4,5))\n",
    "print(2+2*b)"
   ]
  },
  {
   "cell_type": "code",
   "execution_count": 106,
   "id": "94b1803d-0f8e-4494-b058-2447d510f1a0",
   "metadata": {},
   "outputs": [
    {
     "data": {
      "text/plain": [
       "array([[ True,  True,  True,  True,  True],\n",
       "       [ True,  True,  True,  True,  True],\n",
       "       [ True,  True,  True,  True,  True],\n",
       "       [False, False, False, False, False]])"
      ]
     },
     "execution_count": 106,
     "metadata": {},
     "output_type": "execute_result"
    }
   ],
   "source": [
    "a>6"
   ]
  },
  {
   "cell_type": "code",
   "execution_count": 55,
   "id": "58f684c9-9ef5-4284-9077-aa7e46a16c22",
   "metadata": {},
   "outputs": [
    {
     "data": {
      "text/plain": [
       "array([[False, False, False, False],\n",
       "       [False, False, False,  True],\n",
       "       [False, False, False, False]])"
      ]
     },
     "execution_count": 55,
     "metadata": {},
     "output_type": "execute_result"
    }
   ],
   "source": [
    " a==7"
   ]
  },
  {
   "cell_type": "code",
   "execution_count": 56,
   "id": "69b1cf93-b6b2-4bbe-a0cd-e6a33f74e204",
   "metadata": {},
   "outputs": [
    {
     "data": {
      "text/plain": [
       "array([[ True,  True,  True, False],\n",
       "       [False, False, False, False],\n",
       "       [False,  True,  True,  True]])"
      ]
     },
     "execution_count": 56,
     "metadata": {},
     "output_type": "execute_result"
    }
   ],
   "source": [
    "(a<3) | (a>8)"
   ]
  },
  {
   "cell_type": "code",
   "execution_count": 57,
   "id": "fe7fe6db-23f1-4c0b-8d47-9d23b7380045",
   "metadata": {},
   "outputs": [
    {
     "data": {
      "text/plain": [
       "array([[False, False, False, False],\n",
       "       [False,  True,  True, False],\n",
       "       [False, False, False, False]])"
      ]
     },
     "execution_count": 57,
     "metadata": {},
     "output_type": "execute_result"
    }
   ],
   "source": [
    "(a>4)&(a<7)"
   ]
  },
  {
   "cell_type": "code",
   "execution_count": 58,
   "id": "95ea2616-d997-4087-8b53-fde3cf940379",
   "metadata": {},
   "outputs": [
    {
     "data": {
      "text/plain": [
       "array([[ True,  True,  True,  True],\n",
       "       [ True,  True,  True, False],\n",
       "       [False, False, False, False]])"
      ]
     },
     "execution_count": 58,
     "metadata": {},
     "output_type": "execute_result"
    }
   ],
   "source": [
    "~(a>6)"
   ]
  },
  {
   "cell_type": "code",
   "execution_count": 63,
   "id": "43c20c8e-5243-4946-8682-ed5bbb4097b7",
   "metadata": {},
   "outputs": [
    {
     "name": "stdout",
     "output_type": "stream",
     "text": [
      "[ 0  2  4  6  8 10]\n",
      "[ 5  6  7  8  9 10]\n"
     ]
    }
   ],
   "source": [
    "a=np.arange(12)\n",
    "print(a[::2])       #even numbers\n",
    "print(a[5:11])      #reversing the numbers"
   ]
  },
  {
   "cell_type": "code",
   "execution_count": 65,
   "id": "3346713e-7d87-4a02-97c7-d8218ed69d6b",
   "metadata": {},
   "outputs": [
    {
     "data": {
      "text/plain": [
       "array([ 0,  1,  2,  3,  4, -1, -1, -1, -1, -1, -1, 11])"
      ]
     },
     "execution_count": 65,
     "metadata": {},
     "output_type": "execute_result"
    }
   ],
   "source": [
    "a[5:11]=-1\n",
    "a"
   ]
  },
  {
   "cell_type": "code",
   "execution_count": 67,
   "id": "a377d089-e63e-4e81-9b33-edc6c0cf3719",
   "metadata": {},
   "outputs": [
    {
     "data": {
      "text/plain": [
       "array([ 4, -1, -1, -1])"
      ]
     },
     "execution_count": 67,
     "metadata": {},
     "output_type": "execute_result"
    }
   ],
   "source": [
    "a[[4,5,7,8]]"
   ]
  },
  {
   "cell_type": "code",
   "execution_count": 70,
   "id": "b5ff2de5-8944-4bba-8f11-ee1dbef13d67",
   "metadata": {},
   "outputs": [
    {
     "data": {
      "text/plain": [
       "array([[ 0,  1,  2,  3],\n",
       "       [ 4,  5,  6,  7],\n",
       "       [ 8,  9, 10, 11]])"
      ]
     },
     "execution_count": 70,
     "metadata": {},
     "output_type": "execute_result"
    }
   ],
   "source": [
    "c=np.arange(12).reshape((3,4))\n",
    "c"
   ]
  },
  {
   "cell_type": "code",
   "execution_count": 71,
   "id": "1d48ff6f-24fc-4a1a-9f68-49c87cd0399b",
   "metadata": {},
   "outputs": [
    {
     "data": {
      "text/plain": [
       "np.int64(6)"
      ]
     },
     "execution_count": 71,
     "metadata": {},
     "output_type": "execute_result"
    }
   ],
   "source": [
    "c[1,2]"
   ]
  },
  {
   "cell_type": "code",
   "execution_count": 80,
   "id": "717b4c1c-84ab-4e8c-a70c-8ffac3ab0310",
   "metadata": {},
   "outputs": [
    {
     "data": {
      "text/plain": [
       "np.int64(3)"
      ]
     },
     "execution_count": 80,
     "metadata": {},
     "output_type": "execute_result"
    }
   ],
   "source": [
    "c[0,3]"
   ]
  },
  {
   "cell_type": "code",
   "execution_count": 81,
   "id": "1f23dfb5-cdbf-4b3e-8671-d3149397d760",
   "metadata": {},
   "outputs": [
    {
     "data": {
      "text/plain": [
       "array([4, 5, 6, 7])"
      ]
     },
     "execution_count": 81,
     "metadata": {},
     "output_type": "execute_result"
    }
   ],
   "source": [
    "c[1]"
   ]
  },
  {
   "cell_type": "code",
   "execution_count": 83,
   "id": "c4a82e8f-c14c-4e79-9d17-4dd200fd441a",
   "metadata": {},
   "outputs": [
    {
     "data": {
      "text/plain": [
       "array([ 2,  6, 10])"
      ]
     },
     "execution_count": 83,
     "metadata": {},
     "output_type": "execute_result"
    }
   ],
   "source": [
    "c[:,2]"
   ]
  },
  {
   "cell_type": "code",
   "execution_count": 84,
   "id": "1c969ffb-5b92-4d90-8eb1-f70748e580a7",
   "metadata": {},
   "outputs": [
    {
     "data": {
      "text/plain": [
       "array([[0, 1, 2, 3],\n",
       "       [4, 5, 6, 7]])"
      ]
     },
     "execution_count": 84,
     "metadata": {},
     "output_type": "execute_result"
    }
   ],
   "source": [
    "c[:2]"
   ]
  },
  {
   "cell_type": "code",
   "execution_count": 85,
   "id": "2980917d-cd24-4497-b12f-06a587b850b1",
   "metadata": {},
   "outputs": [
    {
     "data": {
      "text/plain": [
       "array([[0, 1, 2],\n",
       "       [4, 5, 6]])"
      ]
     },
     "execution_count": 85,
     "metadata": {},
     "output_type": "execute_result"
    }
   ],
   "source": [
    "c[:2,:3]"
   ]
  },
  {
   "cell_type": "code",
   "execution_count": 108,
   "id": "6ee6416c-7585-4f74-9be6-50a39b66f39a",
   "metadata": {},
   "outputs": [
    {
     "name": "stdout",
     "output_type": "stream",
     "text": [
      "[[10 12 14 16 18]\n",
      " [20 22 24 26 28]\n",
      " [30 32 34 36 38]\n",
      " [40 42 44 46 48]]\n"
     ]
    },
    {
     "data": {
      "text/plain": [
       "array([[10, 12, 14, 16, 18],\n",
       "       [20, 22, 24, 26, 28],\n",
       "       [30, 32, 34, 36, 38],\n",
       "       [ 1,  2,  3,  4,  5]])"
      ]
     },
     "execution_count": 108,
     "metadata": {},
     "output_type": "execute_result"
    }
   ],
   "source": [
    "#Exercise 3.3\n",
    "a=+10+np.arange(20).reshape(4,5)*2\n",
    "print(a)\n",
    "a[3]=1+np.arange(5)\n",
    "a"
   ]
  },
  {
   "cell_type": "code",
   "execution_count": 116,
   "id": "d1c79d72-3012-43aa-a3b8-c92cacd5dc6e",
   "metadata": {
    "scrolled": true
   },
   "outputs": [
    {
     "data": {
      "text/plain": [
       "array([1, 7])"
      ]
     },
     "execution_count": 116,
     "metadata": {},
     "output_type": "execute_result"
    }
   ],
   "source": [
    "a=np.array([1,2,7,4])\n",
    "i=np.array([True,False,True,False])\n",
    "a[i]"
   ]
  },
  {
   "cell_type": "code",
   "execution_count": 117,
   "id": "b4e54174-9525-425a-ab31-e46206882b80",
   "metadata": {},
   "outputs": [
    {
     "data": {
      "text/plain": [
       "array([False, False,  True, False])"
      ]
     },
     "execution_count": 117,
     "metadata": {},
     "output_type": "execute_result"
    }
   ],
   "source": [
    "i=a>5\n",
    "i"
   ]
  },
  {
   "cell_type": "code",
   "execution_count": 118,
   "id": "d2810812-cd1c-4150-b7d5-ba73e5e2a1c8",
   "metadata": {},
   "outputs": [
    {
     "data": {
      "text/plain": [
       "array([7])"
      ]
     },
     "execution_count": 118,
     "metadata": {},
     "output_type": "execute_result"
    }
   ],
   "source": [
    "a[i]"
   ]
  },
  {
   "cell_type": "code",
   "execution_count": 119,
   "id": "312bc4b7-8b00-4f17-85a8-d777fa5d7e8a",
   "metadata": {},
   "outputs": [
    {
     "data": {
      "text/plain": [
       "array([7])"
      ]
     },
     "execution_count": 119,
     "metadata": {},
     "output_type": "execute_result"
    }
   ],
   "source": [
    "a[a>5]"
   ]
  },
  {
   "cell_type": "code",
   "execution_count": 13,
   "id": "82aca95e-337a-49b7-b4a6-e5e9d55b250f",
   "metadata": {},
   "outputs": [
    {
     "data": {
      "text/plain": [
       "array([14, 18])"
      ]
     },
     "execution_count": 13,
     "metadata": {},
     "output_type": "execute_result"
    }
   ],
   "source": [
    "import numpy as np\n",
    "names = np.array([\"Cyrus\", \"Darius\", \"Xerxes\", \"Artaxerxes\", \"Cyrus\", \"Darius\"])\n",
    "res=np.array([14,15,16,17,18,19])\n",
    "# res[names == \"Darius\"]\n",
    "res[names == \"Cyrus\"]"
   ]
  },
  {
   "cell_type": "code",
   "execution_count": 20,
   "id": "4efc2f7d-4f8b-46be-a938-1410af235912",
   "metadata": {},
   "outputs": [
    {
     "name": "stdout",
     "output_type": "stream",
     "text": [
      "[[17 14]\n",
      " [12 15]\n",
      " [10 11]]\n",
      "[[10 11]]\n"
     ]
    },
    {
     "data": {
      "text/plain": [
       "array([[12, 15]])"
      ]
     },
     "execution_count": 20,
     "metadata": {},
     "output_type": "execute_result"
    }
   ],
   "source": [
    "names=np.array([\"Cyrus\",\"Darius\",\"Xerses\"])\n",
    "res=np.array([[17,14],[12,15],[10,11]])\n",
    "print(res)\n",
    "print(res[names == \"Xerses\"])\n",
    "res[names == \"Darius\",:]"
   ]
  },
  {
   "cell_type": "code",
   "execution_count": 2,
   "id": "c8e91dba-9854-4b76-80fe-264be3835c6d",
   "metadata": {},
   "outputs": [
    {
     "data": {
      "text/plain": [
       "array([[-0.50377938,  2.00436426, -1.09671731],\n",
       "       [ 0.00721161,  0.31774574, -0.32146175]])"
      ]
     },
     "execution_count": 2,
     "metadata": {},
     "output_type": "execute_result"
    }
   ],
   "source": [
    "import numpy as np\n",
    "a=np.random.randn(2,3)\n",
    "a"
   ]
  },
  {
   "cell_type": "code",
   "execution_count": 3,
   "id": "5588dff3-2e95-4b1f-b050-85560ab64248",
   "metadata": {},
   "outputs": [
    {
     "data": {
      "text/plain": [
       "array([[0.        , 2.00436426, 0.        ],\n",
       "       [0.00721161, 0.31774574, 0.        ]])"
      ]
     },
     "execution_count": 3,
     "metadata": {},
     "output_type": "execute_result"
    }
   ],
   "source": [
    "a[a<0]=0\n",
    "a"
   ]
  },
  {
   "cell_type": "code",
   "execution_count": 4,
   "id": "e7cb45b2-a443-44a4-bd06-ebdcc31db8cd",
   "metadata": {},
   "outputs": [
    {
     "data": {
      "text/plain": [
       "array([[0., 1., 0.],\n",
       "       [2., 3., 0.]])"
      ]
     },
     "execution_count": 4,
     "metadata": {},
     "output_type": "execute_result"
    }
   ],
   "source": [
    "a[a>0]=np.array([1,2,3])\n",
    "a"
   ]
  },
  {
   "cell_type": "code",
   "execution_count": 89,
   "id": "67158702-bf8b-4ef4-99c8-edf9dba78564",
   "metadata": {},
   "outputs": [
    {
     "name": "stdout",
     "output_type": "stream",
     "text": [
      "[126 115]\n",
      "[115 141]\n",
      "scores: [136 115 140 141 142]\n"
     ]
    }
   ],
   "source": [
    "#Exercise 3.4\n",
    "names = np.array([\"Roxana\", \"Statira\", \"Roxana\", \"Statira\", \"Roxana\"])\n",
    "score = np.array([126, 115, 130, 141, 132])\n",
    "print(score[score<130])\n",
    "print(score[names == \"Statira\"])\n",
    "score[names == \"Roxana\"]+=10\n",
    "print(\"scores:\",score)"
   ]
  },
  {
   "cell_type": "code",
   "execution_count": 95,
   "id": "5890976d-f22a-49f4-8d66-888667398a56",
   "metadata": {},
   "outputs": [
    {
     "data": {
      "text/plain": [
       "array([0, 0, 5, 2, 3], dtype=int32)"
      ]
     },
     "execution_count": 95,
     "metadata": {},
     "output_type": "execute_result"
    }
   ],
   "source": [
    "x=np.random.choice(6, size=5)\n",
    "x"
   ]
  },
  {
   "cell_type": "code",
   "execution_count": 97,
   "id": "4d5dc747-9d5d-4ab1-9ad1-983a7a2ea1c5",
   "metadata": {},
   "outputs": [
    {
     "data": {
      "text/plain": [
       "array([[4, 5, 5, 5],\n",
       "       [3, 1, 5, 5]], dtype=int32)"
      ]
     },
     "execution_count": 97,
     "metadata": {},
     "output_type": "execute_result"
    }
   ],
   "source": [
    "1+np.random.choice(6,size=(2,4))"
   ]
  },
  {
   "cell_type": "code",
   "execution_count": 104,
   "id": "192c3276-5ef0-4c72-a095-57182c1f04a2",
   "metadata": {},
   "outputs": [
    {
     "name": "stdout",
     "output_type": "stream",
     "text": [
      "['B' 'B' 'A' 'A' 'C' 'C' 'A' 'A' 'D' 'C']\n"
     ]
    },
    {
     "data": {
      "text/plain": [
       "'BBAACCAADC'"
      ]
     },
     "execution_count": 104,
     "metadata": {},
     "output_type": "execute_result"
    }
   ],
   "source": [
    "nucleotides=[\"A\",\"B\",\"C\",\"D\"]\n",
    "dna=np.random.choice(nucleotides, 10)\n",
    "print(dna)\n",
    "\"\".join(dna)"
   ]
  },
  {
   "cell_type": "code",
   "execution_count": 115,
   "id": "f69fa9f7-8229-4d19-8cdb-fc42f51da44c",
   "metadata": {},
   "outputs": [
    {
     "name": "stdout",
     "output_type": "stream",
     "text": [
      "[4 5 5]\n",
      "[4 2 3]\n"
     ]
    }
   ],
   "source": [
    "import numpy as np\n",
    "\n",
    "arr = [1, 2, 3, 4, 5,2,4]\n",
    "replacement = np.random.choice(arr, size=3, replace=True)\n",
    "\n",
    "without_replacement = np.random.choice(arr, size=3, replace=False)\n",
    "print(replacement)              #allowed to pick the same element more than once.\n",
    "print(without_replacement)      #allowed to pick the element only once."
   ]
  },
  {
   "cell_type": "code",
   "execution_count": 117,
   "id": "73f091cb-5d99-4b95-b8a0-c5fbaf3ae115",
   "metadata": {},
   "outputs": [
    {
     "data": {
      "text/plain": [
       "array([1035.82550675, 1017.61910517,  865.92750331,  890.03354865,\n",
       "       1080.61927815,  987.48682259, 1074.22419679,  987.49259363,\n",
       "       1142.56664658, 1033.71366482,  964.4648933 ,  936.50921679,\n",
       "       1077.195707  , 1108.59965716, 1093.2396158 , 1038.00449595,\n",
       "        854.42952149,  990.28524282,  946.76908845,  832.4258657 ])"
      ]
     },
     "execution_count": 117,
     "metadata": {},
     "output_type": "execute_result"
    }
   ],
   "source": [
    "np.random.normal(1000,100,size=20)"
   ]
  },
  {
   "cell_type": "code",
   "execution_count": 121,
   "id": "396f052e-4524-4281-a2f5-d5a5cb7cd3ce",
   "metadata": {},
   "outputs": [
    {
     "data": {
      "text/plain": [
       "array([[0, 1, 1, 1],\n",
       "       [1, 1, 1, 0]], dtype=int32)"
      ]
     },
     "execution_count": 121,
     "metadata": {},
     "output_type": "execute_result"
    }
   ],
   "source": [
    "np.random.binomial(2, 0.5, size=(2,4))      #random.binomial(n, p, size"
   ]
  },
  {
   "cell_type": "code",
   "execution_count": 126,
   "id": "317c192f-8492-4358-b882-23e9e169fdfc",
   "metadata": {},
   "outputs": [
    {
     "data": {
      "text/plain": [
       "array([ 1,  1, -1, -1,  1, -1,  1, -1,  1, -1], dtype=int32)"
      ]
     },
     "execution_count": 126,
     "metadata": {},
     "output_type": "execute_result"
    }
   ],
   "source": [
    "2*np.random.binomial(1, 0.5, size=10)-1     "
   ]
  },
  {
   "cell_type": "code",
   "execution_count": 129,
   "id": "4618a00f-6340-47b7-b9cb-29393a87affc",
   "metadata": {},
   "outputs": [
    {
     "data": {
      "text/plain": [
       "array([[10.64830459, 10.57130663, 10.75732049],\n",
       "       [10.55912136, 10.79633925, 10.91258656]])"
      ]
     },
     "execution_count": 129,
     "metadata": {},
     "output_type": "execute_result"
    }
   ],
   "source": [
    "np.random.uniform(10,11,size=(2,3))                                  #random.uniform(low, high, size)"
   ]
  },
  {
   "cell_type": "code",
   "execution_count": 133,
   "id": "a1afea84-6382-478d-b6c2-f8f4c4aa52f9",
   "metadata": {},
   "outputs": [
    {
     "data": {
      "text/plain": [
       "array([4.17022005e-01, 7.20324493e-01, 1.14374817e-04, 3.02332573e-01,\n",
       "       1.46755891e-01])"
      ]
     },
     "execution_count": 133,
     "metadata": {},
     "output_type": "execute_result"
    }
   ],
   "source": [
    "np.random.seed(1)\n",
    "np.random.uniform(size=5)  "
   ]
  },
  {
   "cell_type": "code",
   "execution_count": 134,
   "id": "658d59dd-a59c-481d-9644-6dc700f2cce8",
   "metadata": {},
   "outputs": [
    {
     "data": {
      "text/plain": [
       "array([0.09233859, 0.18626021, 0.34556073, 0.39676747, 0.53881673])"
      ]
     },
     "execution_count": 134,
     "metadata": {},
     "output_type": "execute_result"
    }
   ],
   "source": [
    "np.random.uniform(size=5)"
   ]
  },
  {
   "cell_type": "code",
   "execution_count": 140,
   "id": "29bb6e6f-0f2a-4d65-b2c8-267404968b7f",
   "metadata": {},
   "outputs": [
    {
     "name": "stdout",
     "output_type": "stream",
     "text": [
      "[[ 0  1  2  3]\n",
      " [ 4  5  6  7]\n",
      " [ 8  9 10 11]]\n",
      "66\n",
      "[12 15 18 21]\n",
      "[ 6 22 38]\n"
     ]
    }
   ],
   "source": [
    "a = np.arange(12).reshape((3,4))\n",
    "print(a)\n",
    "print(a.sum())\n",
    "print(a.sum(axis=0))         # add rows, preserve columns\n",
    "print(a.sum(axis=1))         # add columns, preserve rows"
   ]
  },
  {
   "cell_type": "code",
   "execution_count": 151,
   "id": "6e432f76-a66c-41af-b638-f2d49c40132b",
   "metadata": {},
   "outputs": [
    {
     "name": "stdout",
     "output_type": "stream",
     "text": [
      "[[ 0.  1.  2.  3.]\n",
      " [ 4.  5. nan  7.]\n",
      " [ 8.  9. 10. 11.]]\n"
     ]
    },
    {
     "data": {
      "text/plain": [
       "np.float64(nan)"
      ]
     },
     "execution_count": 151,
     "metadata": {},
     "output_type": "execute_result"
    }
   ],
   "source": [
    "a = a.astype(float)  # as np.nan is float, need a float array\n",
    "a[1,2] = np.nan\n",
    "print(a)\n",
    "np.sum(a)"
   ]
  },
  {
   "cell_type": "code",
   "execution_count": null,
   "id": "7774c69c-897b-4ab2-bd27-b89639062c4d",
   "metadata": {},
   "outputs": [],
   "source": []
  }
 ],
 "metadata": {
  "kernelspec": {
   "display_name": "Python [conda env:base] *",
   "language": "python",
   "name": "conda-base-py"
  },
  "language_info": {
   "codemirror_mode": {
    "name": "ipython",
    "version": 3
   },
   "file_extension": ".py",
   "mimetype": "text/x-python",
   "name": "python",
   "nbconvert_exporter": "python",
   "pygments_lexer": "ipython3",
   "version": "3.13.5"
  }
 },
 "nbformat": 4,
 "nbformat_minor": 5
}
