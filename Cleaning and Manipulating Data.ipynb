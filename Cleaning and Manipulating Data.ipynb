{
 "cells": [
  {
   "cell_type": "code",
   "execution_count": 2,
   "id": "a4edef39-0386-41c3-b31e-d4b6ebc88058",
   "metadata": {},
   "outputs": [],
   "source": [
    "import numpy as np\n",
    "import pandas as pd\n",
    "import matplotlib.pyplot as plt"
   ]
  },
  {
   "cell_type": "code",
   "execution_count": 3,
   "id": "00a1e6d6-85fd-4a74-99b4-9cc3bcf542a9",
   "metadata": {},
   "outputs": [
    {
     "data": {
      "text/plain": [
       "(891, 12)"
      ]
     },
     "execution_count": 3,
     "metadata": {},
     "output_type": "execute_result"
    }
   ],
   "source": [
    "titanic = pd.read_csv(\"C:/Users/user/Downloads/titanic.csv\")\n",
    "titanic.shape"
   ]
  },
  {
   "cell_type": "code",
   "execution_count": 4,
   "id": "a067dbeb-0c83-4fd1-8c88-a50e085a8344",
   "metadata": {},
   "outputs": [
    {
     "data": {
      "text/plain": [
       "PassengerId    891\n",
       "Survived       891\n",
       "Pclass         891\n",
       "Name           891\n",
       "Sex            891\n",
       "Age            714\n",
       "SibSp          891\n",
       "Parch          891\n",
       "Ticket         891\n",
       "Fare           891\n",
       "Cabin          204\n",
       "Embarked       889\n",
       "dtype: int64"
      ]
     },
     "execution_count": 4,
     "metadata": {},
     "output_type": "execute_result"
    }
   ],
   "source": [
    "titanic.count()          # count: this tells the number of valid observations for either a data frame, or for a single variable.And “valid” here means anything but not np.nan. So the number of valid observations for each variable is"
   ]
  },
  {
   "cell_type": "code",
   "execution_count": 5,
   "id": "8af67708-4455-4196-8220-6af9e70e3cf9",
   "metadata": {},
   "outputs": [
    {
     "data": {
      "text/plain": [
       "PassengerId      0\n",
       "Survived         0\n",
       "Pclass           0\n",
       "Name             0\n",
       "Sex              0\n",
       "Age            177\n",
       "SibSp            0\n",
       "Parch            0\n",
       "Ticket           0\n",
       "Fare             0\n",
       "Cabin          687\n",
       "Embarked         2\n",
       "dtype: int64"
      ]
     },
     "execution_count": 5,
     "metadata": {},
     "output_type": "execute_result"
    }
   ],
   "source": [
    "titanic.isna().sum()      # method in Pandas is a super handy tool for detecting missing values in your data. "
   ]
  },
  {
   "cell_type": "code",
   "execution_count": 6,
   "id": "7d6287db-7b87-44cd-9698-adbcb58ee1c5",
   "metadata": {},
   "outputs": [
    {
     "data": {
      "text/plain": [
       "np.int64(891)"
      ]
     },
     "execution_count": 6,
     "metadata": {},
     "output_type": "execute_result"
    }
   ],
   "source": [
    "titanic.SibSp.count()"
   ]
  },
  {
   "cell_type": "code",
   "execution_count": 7,
   "id": "9690317a-520e-4c4d-a7f6-ce355b9cee86",
   "metadata": {},
   "outputs": [
    {
     "data": {
      "text/plain": [
       "(714, 12)"
      ]
     },
     "execution_count": 7,
     "metadata": {},
     "output_type": "execute_result"
    }
   ],
   "source": [
    "t = titanic.dropna(subset=[\"Age\", \"Parch\"]) # dropna-it will remove the zero values nothing but NAN values in the column Age and Parch.\n",
    "t.shape"
   ]
  },
  {
   "cell_type": "code",
   "execution_count": 8,
   "id": "45cd410b-04b1-49e9-b070-8793ffe66f26",
   "metadata": {},
   "outputs": [
    {
     "data": {
      "text/plain": [
       "(183, 12)"
      ]
     },
     "execution_count": 8,
     "metadata": {},
     "output_type": "execute_result"
    }
   ],
   "source": [
    "t = titanic.dropna()\n",
    "t.shape"
   ]
  },
  {
   "cell_type": "code",
   "execution_count": 9,
   "id": "e07a1532-7a89-45f5-9b13-44f4837f85b1",
   "metadata": {},
   "outputs": [
    {
     "data": {
      "text/plain": [
       "(0.42, 80.0)"
      ]
     },
     "execution_count": 9,
     "metadata": {},
     "output_type": "execute_result"
    }
   ],
   "source": [
    "titanic.Age.min(), titanic.Age.max()"
   ]
  },
  {
   "cell_type": "code",
   "execution_count": 10,
   "id": "c32ab8c0-96f3-42cd-9862-01b05232a583",
   "metadata": {},
   "outputs": [
    {
     "data": {
      "text/plain": [
       "np.int64(0)"
      ]
     },
     "execution_count": 10,
     "metadata": {},
     "output_type": "execute_result"
    }
   ],
   "source": [
    "# Excerise 6.1\n",
    "titanic.Fare.isna().sum()"
   ]
  },
  {
   "cell_type": "code",
   "execution_count": 11,
   "id": "20e1ad32-dbf1-4728-bc08-739958ca6bc6",
   "metadata": {},
   "outputs": [
    {
     "data": {
      "text/plain": [
       "dtype('float64')"
      ]
     },
     "execution_count": 11,
     "metadata": {},
     "output_type": "execute_result"
    }
   ],
   "source": [
    "titanic.Fare.dtype"
   ]
  },
  {
   "cell_type": "code",
   "execution_count": 12,
   "id": "4a570089-7896-48fe-bf39-5ffe1d4b3847",
   "metadata": {},
   "outputs": [
    {
     "data": {
      "text/plain": [
       "(0.0, 512.3292)"
      ]
     },
     "execution_count": 12,
     "metadata": {},
     "output_type": "execute_result"
    }
   ],
   "source": [
    "titanic.Fare.min(), titanic.Fare.max()"
   ]
  },
  {
   "cell_type": "code",
   "execution_count": 13,
   "id": "3193791f-a34a-41ce-82ed-8484b270f8d3",
   "metadata": {},
   "outputs": [
    {
     "data": {
      "text/plain": [
       "MY     32.7\n",
       "ID    267.7\n",
       "KH      NaN\n",
       "dtype: float64"
      ]
     },
     "execution_count": 13,
     "metadata": {},
     "output_type": "execute_result"
    }
   ],
   "source": [
    "populations = pd.Series([32.7, 267.7, np.nan], index=[\"MY\", \"ID\", \"KH\"])\n",
    "populations"
   ]
  },
  {
   "cell_type": "code",
   "execution_count": 14,
   "id": "9a6ffdc8-bd2a-4bb2-8b4b-b895240b7641",
   "metadata": {},
   "outputs": [
    {
     "data": {
      "text/plain": [
       "MY     32.7\n",
       "ID    267.7\n",
       "KH      0.0\n",
       "dtype: float64"
      ]
     },
     "execution_count": 14,
     "metadata": {},
     "output_type": "execute_result"
    }
   ],
   "source": [
    "populations[populations.isna()] = 0\n",
    "populations"
   ]
  },
  {
   "cell_type": "code",
   "execution_count": 15,
   "id": "bf72e4a0-ab1c-43ed-87b1-1dc5c6693237",
   "metadata": {},
   "outputs": [
    {
     "name": "stderr",
     "output_type": "stream",
     "text": [
      "C:\\Users\\user\\AppData\\Local\\Temp\\ipykernel_16244\\2767166437.py:1: FutureWarning: Series.fillna with 'method' is deprecated and will raise in a future version. Use obj.ffill() or obj.bfill() instead.\n",
      "  populations.fillna(method=\"ffill\")            # use \"fillna\" method to replace all missings with certain values.\n"
     ]
    },
    {
     "data": {
      "text/plain": [
       "MY     32.7\n",
       "ID    267.7\n",
       "KH      0.0\n",
       "dtype: float64"
      ]
     },
     "execution_count": 15,
     "metadata": {},
     "output_type": "execute_result"
    }
   ],
   "source": [
    "populations.fillna(method=\"ffill\")            # use \"fillna\" method to replace all missings with certain values."
   ]
  },
  {
   "cell_type": "code",
   "execution_count": 16,
   "id": "8dd2010c-b4c0-48c3-97de-15d38b2dbf31",
   "metadata": {},
   "outputs": [],
   "source": [
    "populations = pd.DataFrame({\"population\": [23_618_200, 23_674_546,\n",
    "                                           np.nan, 94_600_648],\n",
    "                            \"country\": [\"TW\", \"TW\", \"VN\", \"VN\"]}, \n",
    "                        index=[2016, 2017, 2016, 2017])  "
   ]
  },
  {
   "cell_type": "code",
   "execution_count": 17,
   "id": "8c375eca-f34e-429f-9c87-39ad25b9d53e",
   "metadata": {},
   "outputs": [
    {
     "name": "stderr",
     "output_type": "stream",
     "text": [
      "C:\\Users\\user\\AppData\\Local\\Temp\\ipykernel_16244\\2185133017.py:1: FutureWarning: DataFrame.fillna with 'method' is deprecated and will raise in a future version. Use obj.ffill() or obj.bfill() instead.\n",
      "  populations.fillna(method=\"ffill\")\n"
     ]
    },
    {
     "data": {
      "text/html": [
       "<div>\n",
       "<style scoped>\n",
       "    .dataframe tbody tr th:only-of-type {\n",
       "        vertical-align: middle;\n",
       "    }\n",
       "\n",
       "    .dataframe tbody tr th {\n",
       "        vertical-align: top;\n",
       "    }\n",
       "\n",
       "    .dataframe thead th {\n",
       "        text-align: right;\n",
       "    }\n",
       "</style>\n",
       "<table border=\"1\" class=\"dataframe\">\n",
       "  <thead>\n",
       "    <tr style=\"text-align: right;\">\n",
       "      <th></th>\n",
       "      <th>population</th>\n",
       "      <th>country</th>\n",
       "    </tr>\n",
       "  </thead>\n",
       "  <tbody>\n",
       "    <tr>\n",
       "      <th>2016</th>\n",
       "      <td>23618200.0</td>\n",
       "      <td>TW</td>\n",
       "    </tr>\n",
       "    <tr>\n",
       "      <th>2017</th>\n",
       "      <td>23674546.0</td>\n",
       "      <td>TW</td>\n",
       "    </tr>\n",
       "    <tr>\n",
       "      <th>2016</th>\n",
       "      <td>23674546.0</td>\n",
       "      <td>VN</td>\n",
       "    </tr>\n",
       "    <tr>\n",
       "      <th>2017</th>\n",
       "      <td>94600648.0</td>\n",
       "      <td>VN</td>\n",
       "    </tr>\n",
       "  </tbody>\n",
       "</table>\n",
       "</div>"
      ],
      "text/plain": [
       "      population country\n",
       "2016  23618200.0      TW\n",
       "2017  23674546.0      TW\n",
       "2016  23674546.0      VN\n",
       "2017  94600648.0      VN"
      ]
     },
     "execution_count": 17,
     "metadata": {},
     "output_type": "execute_result"
    }
   ],
   "source": [
    "populations.fillna(method=\"ffill\")"
   ]
  },
  {
   "cell_type": "code",
   "execution_count": 18,
   "id": "17355f16-137f-480c-80c4-87a9fb0529c8",
   "metadata": {},
   "outputs": [
    {
     "name": "stderr",
     "output_type": "stream",
     "text": [
      "C:\\Users\\user\\AppData\\Local\\Temp\\ipykernel_16244\\3717772821.py:1: FutureWarning: DataFrameGroupBy.fillna is deprecated and will be removed in a future version. Use obj.ffill() or obj.bfill() for forward or backward filling instead. If you want to fill with a single value, use DataFrame.fillna instead\n",
      "  populations.groupby(\"country\").fillna(method=\"ffill\")\n",
      "C:\\Users\\user\\AppData\\Local\\Temp\\ipykernel_16244\\3717772821.py:1: FutureWarning: DataFrame.fillna with 'method' is deprecated and will raise in a future version. Use obj.ffill() or obj.bfill() instead.\n",
      "  populations.groupby(\"country\").fillna(method=\"ffill\")\n"
     ]
    },
    {
     "data": {
      "text/html": [
       "<div>\n",
       "<style scoped>\n",
       "    .dataframe tbody tr th:only-of-type {\n",
       "        vertical-align: middle;\n",
       "    }\n",
       "\n",
       "    .dataframe tbody tr th {\n",
       "        vertical-align: top;\n",
       "    }\n",
       "\n",
       "    .dataframe thead th {\n",
       "        text-align: right;\n",
       "    }\n",
       "</style>\n",
       "<table border=\"1\" class=\"dataframe\">\n",
       "  <thead>\n",
       "    <tr style=\"text-align: right;\">\n",
       "      <th></th>\n",
       "      <th>population</th>\n",
       "    </tr>\n",
       "  </thead>\n",
       "  <tbody>\n",
       "    <tr>\n",
       "      <th>2016</th>\n",
       "      <td>23618200.0</td>\n",
       "    </tr>\n",
       "    <tr>\n",
       "      <th>2017</th>\n",
       "      <td>23674546.0</td>\n",
       "    </tr>\n",
       "    <tr>\n",
       "      <th>2016</th>\n",
       "      <td>NaN</td>\n",
       "    </tr>\n",
       "    <tr>\n",
       "      <th>2017</th>\n",
       "      <td>94600648.0</td>\n",
       "    </tr>\n",
       "  </tbody>\n",
       "</table>\n",
       "</div>"
      ],
      "text/plain": [
       "      population\n",
       "2016  23618200.0\n",
       "2017  23674546.0\n",
       "2016         NaN\n",
       "2017  94600648.0"
      ]
     },
     "execution_count": 18,
     "metadata": {},
     "output_type": "execute_result"
    }
   ],
   "source": [
    "populations.groupby(\"country\").fillna(method=\"ffill\")"
   ]
  },
  {
   "cell_type": "code",
   "execution_count": 19,
   "id": "43c157f1-7ad6-45f3-a232-e3dc4f8ded40",
   "metadata": {},
   "outputs": [],
   "source": [
    "# missing values and mathematical operations\n",
    "age = pd.Series([5, 25, np.nan])       # pandas .sum and .mean methods will ignore the missing values."
   ]
  },
  {
   "cell_type": "code",
   "execution_count": 20,
   "id": "17c22833-942d-4587-ae05-e9baca771222",
   "metadata": {},
   "outputs": [
    {
     "data": {
      "text/plain": [
       "np.float64(15.0)"
      ]
     },
     "execution_count": 20,
     "metadata": {},
     "output_type": "execute_result"
    }
   ],
   "source": [
    "age.mean()"
   ]
  },
  {
   "cell_type": "code",
   "execution_count": 21,
   "id": "abf55bdc-597d-41dd-9dcc-fb9c562b7360",
   "metadata": {},
   "outputs": [
    {
     "data": {
      "text/plain": [
       "np.float64(10.0)"
      ]
     },
     "execution_count": 21,
     "metadata": {},
     "output_type": "execute_result"
    }
   ],
   "source": [
    "age.sum()/len(age)    # len does not ignore missing values"
   ]
  },
  {
   "cell_type": "code",
   "execution_count": 22,
   "id": "77d933bc-e1bd-4a8e-8325-cd687f7ce18e",
   "metadata": {},
   "outputs": [
    {
     "data": {
      "text/plain": [
       "0     True\n",
       "1    False\n",
       "2    False\n",
       "dtype: bool"
      ]
     },
     "execution_count": 22,
     "metadata": {},
     "output_type": "execute_result"
    }
   ],
   "source": [
    "child = age < 14\n",
    "child"
   ]
  },
  {
   "cell_type": "code",
   "execution_count": 23,
   "id": "93473986-03b7-41ef-8740-8bc5d98ff2ed",
   "metadata": {},
   "outputs": [
    {
     "data": {
      "text/plain": [
       "np.float64(0.3333333333333333)"
      ]
     },
     "execution_count": 23,
     "metadata": {},
     "output_type": "execute_result"
    }
   ],
   "source": [
    "(age < 14).mean()"
   ]
  },
  {
   "cell_type": "code",
   "execution_count": 24,
   "id": "76279380-6ba2-43d2-954a-8320bd76cf68",
   "metadata": {},
   "outputs": [
    {
     "data": {
      "text/html": [
       "<div>\n",
       "<style scoped>\n",
       "    .dataframe tbody tr th:only-of-type {\n",
       "        vertical-align: middle;\n",
       "    }\n",
       "\n",
       "    .dataframe tbody tr th {\n",
       "        vertical-align: top;\n",
       "    }\n",
       "\n",
       "    .dataframe thead th {\n",
       "        text-align: right;\n",
       "    }\n",
       "</style>\n",
       "<table border=\"1\" class=\"dataframe\">\n",
       "  <thead>\n",
       "    <tr style=\"text-align: right;\">\n",
       "      <th></th>\n",
       "      <th>kids</th>\n",
       "    </tr>\n",
       "  </thead>\n",
       "  <tbody>\n",
       "    <tr>\n",
       "      <th>0</th>\n",
       "      <td>0</td>\n",
       "    </tr>\n",
       "    <tr>\n",
       "      <th>1</th>\n",
       "      <td>2</td>\n",
       "    </tr>\n",
       "    <tr>\n",
       "      <th>2</th>\n",
       "      <td>4</td>\n",
       "    </tr>\n",
       "    <tr>\n",
       "      <th>3</th>\n",
       "      <td>8</td>\n",
       "    </tr>\n",
       "    <tr>\n",
       "      <th>4</th>\n",
       "      <td>-1</td>\n",
       "    </tr>\n",
       "    <tr>\n",
       "      <th>5</th>\n",
       "      <td>-2</td>\n",
       "    </tr>\n",
       "  </tbody>\n",
       "</table>\n",
       "</div>"
      ],
      "text/plain": [
       "   kids\n",
       "0     0\n",
       "1     2\n",
       "2     4\n",
       "3     8\n",
       "4    -1\n",
       "5    -2"
      ]
     },
     "execution_count": 24,
     "metadata": {},
     "output_type": "execute_result"
    }
   ],
   "source": [
    "# Converting variables \n",
    "# Converting Categorial variables \n",
    "wvs = pd.DataFrame({\"kids\": [0,2,4,8,-1,-2]})\n",
    "wvs"
   ]
  },
  {
   "cell_type": "code",
   "execution_count": null,
   "id": "063c23fe-ed8d-409f-bd58-78ca84634540",
   "metadata": {},
   "outputs": [],
   "source": [
    "# pd.cut function\n",
    "# it is a dedicated pandas’ function to cut continuous numeric data into pre-defined intervals.\n",
    "# x is the variable to be cut, bins are the interval boundaries, labels are the interval names, and right tells if the right boundary value \n",
    "# is included in the interval (right = True means the boundaries are righ-open.\n",
    "# output:-(0,30]-Open on left, closed on right   Includes 30, excludes 0\n",
    "# (30, 60]-Open on left, closed on right         Includes 60, excludes 30\n",
    "# (60, 100]-Open on left, closed on right        Includes 100, excludes 60"
   ]
  },
  {
   "cell_type": "code",
   "execution_count": 26,
   "id": "65e4bb88-822a-40d9-88b5-19deeb7ec41b",
   "metadata": {},
   "outputs": [
    {
     "data": {
      "text/plain": [
       "[(0, 30], (30, 60], (60, 100], (60, 100], (0, 30], (30, 60], (30, 60]]\n",
       "Categories (3, interval[int64, right]): [(0, 30] < (30, 60] < (60, 100]]"
      ]
     },
     "execution_count": 26,
     "metadata": {},
     "output_type": "execute_result"
    }
   ],
   "source": [
    "x = [23, 45, 67, 89, 12, 34, 56]\n",
    "bins = [0, 30, 60, 100]       \n",
    "pd.cut(x, bins, right=True, labels=None) "
   ]
  },
  {
   "cell_type": "code",
   "execution_count": null,
   "id": "514d184b-3196-4873-b2f3-78d227e764dd",
   "metadata": {},
   "outputs": [],
   "source": [
    "wvs[\"kids1\"] = pd.cut(wvs.kids,\n",
    "                      bins = [-np.inf, 0, 1, 2, np.inf],\n",
    "                      labels = [\"NA\", \"0\", \"1\", \"2 or more\"],\n",
    "                      right=False)                             \n",
    "ws"
   ]
  },
  {
   "cell_type": "code",
   "execution_count": null,
   "id": "b2b672be-2fa5-41ba-852f-ad45a6fbb5ca",
   "metadata": {},
   "outputs": [],
   "source": [
    "# Exercise 6.2\n",
    "# test on years of schooling 10-17\n",
    "school=np.arange(10,18)\n",
    "# convert to categories\n",
    "categories=pd.cut(school,\n",
    "                    bins=[-np.inf, 12, 13, 16, np.inf],\n",
    "                    labels=[\"Less than HS\", \"HS\", \"Some college\", \"College\"],\n",
    "                    right=False)\n",
    "# print in a way that years and categories are next to each other\n",
    "pd.Series(categories, index=school)"
   ]
  },
  {
   "cell_type": "code",
   "execution_count": null,
   "id": "e1d7f285-e43f-4e44-a43c-057238d8fb31",
   "metadata": {},
   "outputs": [],
   "source": [
    "wvs[\"kids2\"]=np.where(wvs.kids>2,2,wvs.kids)           # np.where, a vectorized version of if-else statement. np.where takes three arguments, a vectorized logical condition, value if the condition is true, and value if it is false\n",
    "wvs[\"kids2\"]=np.where(wvs.kids<0, np.nan,wvs.kids2)\n",
    "wvs"
   ]
  },
  {
   "cell_type": "code",
   "execution_count": null,
   "id": "499c8874-d1a4-41e8-826b-1021a0a72f8e",
   "metadata": {},
   "outputs": [],
   "source": [
    "# convert the categories to text as we cannot encode “2 or more” as a number. This can be achieved by just adding .astype(str)\n",
    "wvs[\"kids2\"]=np.where(wvs.kids>=2, \"2 or more\" , wvs. kids.astype(str))\n",
    "wvs[\"kids2\"]=np.where(wvs.kids<0, np.nan,wvs.kids2)\n",
    "wvs                                                  # \"kids2 column is now object, a mixed type\""
   ]
  },
  {
   "cell_type": "code",
   "execution_count": null,
   "id": "6bb7a04e-4dcb-4777-ba1e-4f7baecebb5b",
   "metadata": {},
   "outputs": [],
   "source": [
    "# Replacing selected values in dataframe\n",
    "# will index the rows by a logical vector (logical condition) and columns with its name. This can be achieved with \".loc\"\n",
    "wvs[\"kids4\"]=wvs.kids.astype(str)\n",
    "wvs.loc[wvs.kids>=2,\"kids4\"]=\"2 or more\"\n",
    "wvs.loc[wvs.kids<0,\"kids4\"]=np.nan\n",
    "wvs"
   ]
  },
  {
   "cell_type": "code",
   "execution_count": null,
   "id": "ae52f01f-9b59-4e01-a002-ff31ff83b5e0",
   "metadata": {},
   "outputs": [],
   "source": [
    "# Converting categorical variables to dummies      categorical to vector of numbers\n",
    "# pd.get_dummies to convert  categorical  to dummies\n",
    "import pandas as pd\n",
    "males=pd.read_csv(\"C:/Users/user/Downloads/dataset-54234.csv\")\n",
    "males"
   ]
  },
  {
   "cell_type": "code",
   "execution_count": null,
   "id": "ef8a9ffb-bb7d-4b36-8ef7-7a16293effb6",
   "metadata": {},
   "outputs": [],
   "source": [
    "print(males.columns)"
   ]
  },
  {
   "cell_type": "code",
   "execution_count": null,
   "id": "d2ca92be-1131-4928-8d53-f9ca5ea33dc9",
   "metadata": {},
   "outputs": [],
   "source": [
    "males = pd.read_csv(\"C:/Users/user/Downloads/dataset-54234.csv\")\\\n",
    "    [[\"wage\", \"ethn\", \"married\"]].sample(10)\n",
    "males"
   ]
  },
  {
   "cell_type": "code",
   "execution_count": null,
   "id": "508d609c-35cc-4cfc-9c7d-ea9648944eda",
   "metadata": {},
   "outputs": [],
   "source": [
    "pd.get_dummies(males.married)        # The function \"pd.get_dummies\" can convert a series into data frames of dummies."
   ]
  },
  {
   "cell_type": "code",
   "execution_count": null,
   "id": "10ad3f2e-2737-408d-b079-a7b169a2a8d0",
   "metadata": {},
   "outputs": [],
   "source": [
    "race=pd.get_dummies(males.ethn,prefix=\"race\")\n",
    "race"
   ]
  },
  {
   "cell_type": "code",
   "execution_count": null,
   "id": "4c70052f-0a5e-4987-a6ae-29bcc70b7ce6",
   "metadata": {},
   "outputs": [],
   "source": [
    "# we want to include all dummies but one–the reference category. One can drop it manually, or alternatively use the \"drop_first\" option.\n",
    "race.drop(\"race_other\",axis=1)"
   ]
  },
  {
   "cell_type": "code",
   "execution_count": null,
   "id": "25fe25bb-22c9-4161-9310-ffb1bfb0630a",
   "metadata": {},
   "outputs": [],
   "source": [
    "pd.get_dummies(males.ethn, prefix=\"race\", drop_first=True)"
   ]
  },
  {
   "cell_type": "code",
   "execution_count": null,
   "id": "5b50c549-bc0a-4e60-953a-3d7b4bf59858",
   "metadata": {},
   "outputs": [],
   "source": [
    "pd.get_dummies(males, drop_first=True)     # want to drop one of the dummy levels with drop_first argument."
   ]
  },
  {
   "cell_type": "code",
   "execution_count": null,
   "id": "28a2bd78-f01a-4e7a-8562-5ffc8db442e1",
   "metadata": {},
   "outputs": [],
   "source": [
    "# Excerise 6.3\n",
    "# converting categorical variables to dummies\n",
    "residence = pd.get_dummies(males.residence, prefix=\"R\", prefix_sep=\"\")         # prefix_sep=\"\"- means there’s no separator between the prefix and the category name. So if one category is \"south\", the new column will be named \"Rsouth\".\n",
    "residence.drop(\"Rsouth\", axis=1).sample(8)                                      # it removes the r-south column           \n",
    "#residence"
   ]
  },
  {
   "cell_type": "code",
   "execution_count": null,
   "id": "eb7cf1f7-dd63-4a93-a8a2-0ebb3eb1c701",
   "metadata": {},
   "outputs": [],
   "source": [
    "# \"pd.get_dummies\" can also convert numerical variables to dummies.\n",
    "df = pd.DataFrame({\"name\":[\"abc\", \"def\", \"ghi\", \"jkl\"],\n",
    "                   \"education\":[1, 3, 2, 2],\n",
    "                   \"role\":[\"doctor\", \"nurse\", \"doctor\", \"doctor\"]\n",
    "})\n",
    "df"
   ]
  },
  {
   "cell_type": "code",
   "execution_count": null,
   "id": "05f26138-6c97-486e-9260-8e59033c3a92",
   "metadata": {},
   "outputs": [],
   "source": [
    "pd.get_dummies(df.education)"
   ]
  },
  {
   "cell_type": "code",
   "execution_count": null,
   "id": "361ad1c1-bd1d-44f3-b5a0-0e577180ed5e",
   "metadata": {},
   "outputs": [],
   "source": [
    "pd.get_dummies(df, columns=[\"education\",\"role\"])"
   ]
  },
  {
   "cell_type": "code",
   "execution_count": null,
   "id": "a9adc2d6-0333-4d01-8f72-a5ce1fadc61c",
   "metadata": {},
   "outputs": [],
   "source": [
    "titanic=pd.read_csv(\"C:/Users/user/Downloads/titanic.csv\")\n",
    "print(titanic.columns)"
   ]
  },
  {
   "cell_type": "code",
   "execution_count": null,
   "id": "835e86f3-5347-4ab7-b4cd-24527c8736e4",
   "metadata": {},
   "outputs": [],
   "source": [
    "# Exercise 6.4\n",
    "titanic = titanic[[\"Age\", \"Sex\", \"Pclass\"]]\n",
    "titanic[\"Age\"]=pd.cut(titanic.Age,\n",
    "                        bins=[0, 14, 50, np.inf],\n",
    "                        labels=[\"0-13\", \"14-49\", \"50-\"],\n",
    "                        right=False)\n",
    "d=pd.get_dummies(titanic,columns=[\"Age\", \"Sex\", \"Pclass\"])\n",
    "d.sample(7)"
   ]
  },
  {
   "cell_type": "markdown",
   "id": "b2a0d313-0733-4336-94ce-6cc13c21ac98",
   "metadata": {},
   "source": [
    "Combaining Data into Data Frames"
   ]
  },
  {
   "cell_type": "code",
   "execution_count": null,
   "id": "9c72eb0d-501c-43b9-b75d-faff7d41ca24",
   "metadata": {},
   "outputs": [],
   "source": [
    "# \"pd.concat\" can combine series and data frames in multiple ways\n",
    "states=pd.Series([\"Andhra Pradesh\",\"Telengana\",\"Karnataka\"])\n",
    "capitals=pd.Series([\"Amaravathi\",\"Hyderabab\",\"Bengaluru\"])\n",
    "populations=pd.Series([32.7,267.8,15.3])"
   ]
  },
  {
   "cell_type": "code",
   "execution_count": null,
   "id": "24f0f30f-8074-4426-90fc-cde312e8091d",
   "metadata": {},
   "outputs": [],
   "source": [
    "# We can combine all three series into a data frame\n",
    "pd.concat((states,capitals,populations),axis=1)"
   ]
  },
  {
   "cell_type": "code",
   "execution_count": null,
   "id": "8e935ecc-847c-492a-8c22-dcb610664bf1",
   "metadata": {},
   "outputs": [],
   "source": [
    "df=pd.concat((states,capitals), axis=1)\n",
    "df"
   ]
  },
  {
   "cell_type": "code",
   "execution_count": null,
   "id": "1cb9ef7a-7ef9-476b-85e5-c9c89b11c34f",
   "metadata": {},
   "outputs": [],
   "source": [
    "pd.concat((df,populations), axis=1)"
   ]
  },
  {
   "cell_type": "code",
   "execution_count": null,
   "id": "ac649afa-9904-47db-b353-3b54f008dc93",
   "metadata": {},
   "outputs": [],
   "source": [
    "# \"pd.concat\" does not combine observations by row but by index.\n",
    "countries = pd.Series([\"MY\", \"ID\", \"KH\"], index=range(3))\n",
    "capitals = pd.Series([\"Kuala Lumpur\", \"Jakarta\", \"Phnom Penh\"],\n",
    "                     index=[\"MY\", \"ID\", \"KH\"])\n",
    "pd.concat((countries, capitals), axis=1)"
   ]
  },
  {
   "cell_type": "code",
   "execution_count": null,
   "id": "662e9dca-6141-4e5d-98b1-9ef061f66055",
   "metadata": {},
   "outputs": [],
   "source": [
    "# reset_index method. This just replaces the former index by a new one, an integer sequence from 0 to the count of cases minus one.\n",
    "pd.concat((countries,capitals.reset_index()),axis=1) # capitals.reset_index() forces the index of capitals to be 0, 1, 2, just like that for countries.    \"reindex\"  method to re-index the other series not by consecutive numbers but the index of the first series. "
   ]
  },
  {
   "cell_type": "code",
   "execution_count": null,
   "id": "6809ca22-e7f0-4f60-b3d9-7134772db7bf",
   "metadata": {},
   "outputs": [],
   "source": [
    "# Exercise 6.5\n",
    "# REFERENE VARIABLE When you convert a categorical variable (like \"residence\") into dummy variables, each category becomes a new column with binary \n",
    "# values (0 or 1). But to avoid redundancy and multicollinearity in models like linear regression, you drop one of those categories — this dropped \n",
    "# one is called the reference category.\n",
    "males=pd.read_csv(\"C:/Users/user/Downloads/dataset-54234.csv\")\n",
    "residence = pd.get_dummies(males.residence, prefix=\"residence\")\n",
    "## remove the reference category\n",
    "residence = residence.drop(\"residence_north_east\", axis=1)\n",
    "residence.sample(4)"
   ]
  },
  {
   "cell_type": "code",
   "execution_count": null,
   "id": "7d0b0430-c693-4e0e-bc7d-778855457d07",
   "metadata": {},
   "outputs": [],
   "source": [
    "# chaining-Chaining means linking multiple method calls together in a single line of code, so that each method operates on the result of the one \n",
    "# before it. It’s a clean, readable way to perform a sequence of operations without creating intermediate variables.\n",
    "ethn = pd.get_dummies(males.ethn, prefix=\"ethn\")\\\n",
    "         .drop(\"ethn_other\", axis=1)\n",
    "ethn.sample(4)"
   ]
  },
  {
   "cell_type": "code",
   "execution_count": null,
   "id": "6eaf5b71-6a06-4c47-bb4e-a360ea943516",
   "metadata": {},
   "outputs": [],
   "source": [
    "#- males.wage is still untouched, so you pull it directly.\n",
    "#- residence and ethn were processed separately, so you use the new dummy DataFrames instead of the original columns.\n",
    "\n",
    "d=pd.concat((males.wage, residence, ethn), axis=1)\n",
    "d.sample(7)"
   ]
  },
  {
   "cell_type": "code",
   "execution_count": null,
   "id": "0b0b7a37-af42-4336-9507-c0684c25ca1a",
   "metadata": {},
   "outputs": [],
   "source": []
  }
 ],
 "metadata": {
  "kernelspec": {
   "display_name": "Python [conda env:base] *",
   "language": "python",
   "name": "conda-base-py"
  },
  "language_info": {
   "codemirror_mode": {
    "name": "ipython",
    "version": 3
   },
   "file_extension": ".py",
   "mimetype": "text/x-python",
   "name": "python",
   "nbconvert_exporter": "python",
   "pygments_lexer": "ipython3",
   "version": "3.13.5"
  }
 },
 "nbformat": 4,
 "nbformat_minor": 5
}
