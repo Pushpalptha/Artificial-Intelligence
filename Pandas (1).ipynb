{
 "cells": [
  {
   "cell_type": "code",
   "execution_count": 1,
   "id": "7f8fc331-08a3-4828-a70a-9d5832b5c2bc",
   "metadata": {},
   "outputs": [
    {
     "data": {
      "text/plain": [
       "0    1\n",
       "1    2\n",
       "2    3\n",
       "3    4\n",
       "dtype: int64"
      ]
     },
     "execution_count": 1,
     "metadata": {},
     "output_type": "execute_result"
    }
   ],
   "source": [
    "import pandas as pd\n",
    "s = pd.Series([1,2,3,4])\n",
    "s"
   ]
  },
  {
   "cell_type": "code",
   "execution_count": 2,
   "id": "b65e24a7-5490-4034-9a17-5be894dacdf3",
   "metadata": {},
   "outputs": [
    {
     "data": {
      "text/plain": [
       "ca    38\n",
       "tx    26\n",
       "ny    19\n",
       "fl    19\n",
       "dtype: int64"
      ]
     },
     "execution_count": 2,
     "metadata": {},
     "output_type": "execute_result"
    }
   ],
   "source": [
    "pop=pd.Series([ 38, 26, 19, 19], index = ['ca', 'tx', 'ny', 'fl'])\n",
    "pop"
   ]
  },
  {
   "cell_type": "code",
   "execution_count": 3,
   "id": "7c92958d-011e-4d3b-a743-ee33766ab80c",
   "metadata": {},
   "outputs": [
    {
     "data": {
      "text/plain": [
       "Amaravati    Andhra Pradesh\n",
       "Bengaluru         Karnataka\n",
       "Mumbai           Maharastra\n",
       "Chenni           Tamil Nadu\n",
       "dtype: object"
      ]
     },
     "execution_count": 3,
     "metadata": {},
     "output_type": "execute_result"
    }
   ],
   "source": [
    "#Excersice 3.6\n",
    "capital_cities=pd.Series(['Andhra Pradesh','Karnataka','Maharastra','Tamil Nadu'], index=['Amaravati','Bengaluru','Mumbai','Chenni'])\n",
    "capital_cities"
   ]
  },
  {
   "cell_type": "code",
   "execution_count": 5,
   "id": "c136399c-1aa3-4b51-a569-97bc401a37b9",
   "metadata": {},
   "outputs": [
    {
     "data": {
      "text/plain": [
       "array([38, 26, 19, 19])"
      ]
     },
     "execution_count": 5,
     "metadata": {},
     "output_type": "execute_result"
    }
   ],
   "source": [
    "pop.values"
   ]
  },
  {
   "cell_type": "code",
   "execution_count": 6,
   "id": "37669c2d-02f5-4952-835e-41f1611b3134",
   "metadata": {},
   "outputs": [
    {
     "data": {
      "text/plain": [
       "Index(['ca', 'tx', 'ny', 'fl'], dtype='object')"
      ]
     },
     "execution_count": 6,
     "metadata": {},
     "output_type": "execute_result"
    }
   ],
   "source": [
    "pop.index"
   ]
  },
  {
   "cell_type": "code",
   "execution_count": 7,
   "id": "9b9c0e8b-381b-418b-888a-af6979ef24db",
   "metadata": {},
   "outputs": [
    {
     "data": {
      "text/plain": [
       "['ca', 'tx', 'ny', 'fl']"
      ]
     },
     "execution_count": 7,
     "metadata": {},
     "output_type": "execute_result"
    }
   ],
   "source": [
    "list(pop.index)"
   ]
  },
  {
   "cell_type": "code",
   "execution_count": 8,
   "id": "7e505a8a-49a1-4ab3-90e8-853d901683a0",
   "metadata": {},
   "outputs": [
    {
     "data": {
      "text/plain": [
       "ca     True\n",
       "tx     True\n",
       "ny    False\n",
       "fl    False\n",
       "dtype: bool"
      ]
     },
     "execution_count": 8,
     "metadata": {},
     "output_type": "execute_result"
    }
   ],
   "source": [
    "pop>20"
   ]
  },
  {
   "cell_type": "code",
   "execution_count": 9,
   "id": "f0601846-2341-4e9d-8e49-525ce0de390e",
   "metadata": {},
   "outputs": [
    {
     "name": "stdout",
     "output_type": "stream",
     "text": [
      "population:\n",
      "    ca  tx  md\n",
      "0  35  23   5\n",
      "1  37  24   5\n",
      "2  38  26   6\n"
     ]
    }
   ],
   "source": [
    "df = {'ca': [35, 37, 38], 'tx': [23, 24, 26], 'md': [5,5,6]}\n",
    "pop = pd.DataFrame(df)\n",
    "print('population:\\n', pop)"
   ]
  },
  {
   "cell_type": "code",
   "execution_count": 10,
   "id": "957cefcf-b379-4f0e-9a56-696565fd8688",
   "metadata": {},
   "outputs": [
    {
     "name": "stdout",
     "output_type": "stream",
     "text": [
      "population:\n",
      "       ca  tx  md\n",
      "2010  35  23   5\n",
      "2012  37  24   5\n",
      "2014  38  26   6\n"
     ]
    }
   ],
   "source": [
    "pop = pd.DataFrame(df, index = [2010,2012,2014])\n",
    "print('population:\\n', pop)"
   ]
  },
  {
   "cell_type": "code",
   "execution_count": 11,
   "id": "a8b4258e-47a9-4a27-9ccb-b208b97d6d8f",
   "metadata": {},
   "outputs": [
    {
     "name": "stdout",
     "output_type": "stream",
     "text": [
      "Andhra Pradesh\n",
      "Maharastra\n"
     ]
    },
    {
     "data": {
      "text/plain": [
       "'Karnataka'"
      ]
     },
     "execution_count": 11,
     "metadata": {},
     "output_type": "execute_result"
    }
   ],
   "source": [
    "#Exercise 3.7\n",
    "print(capital_cities.iloc[0])\n",
    "print(capital_cities.iloc[2])\n",
    "capital_cities.loc['Bengaluru']"
   ]
  },
  {
   "cell_type": "code",
   "execution_count": 12,
   "id": "06a22767-b3a7-4603-b357-b654170732bd",
   "metadata": {},
   "outputs": [
    {
     "data": {
      "text/html": [
       "<div>\n",
       "<style scoped>\n",
       "    .dataframe tbody tr th:only-of-type {\n",
       "        vertical-align: middle;\n",
       "    }\n",
       "\n",
       "    .dataframe tbody tr th {\n",
       "        vertical-align: top;\n",
       "    }\n",
       "\n",
       "    .dataframe thead th {\n",
       "        text-align: right;\n",
       "    }\n",
       "</style>\n",
       "<table border=\"1\" class=\"dataframe\">\n",
       "  <thead>\n",
       "    <tr style=\"text-align: right;\">\n",
       "      <th></th>\n",
       "      <th>countries</th>\n",
       "      <th>capital</th>\n",
       "      <th>population</th>\n",
       "    </tr>\n",
       "  </thead>\n",
       "  <tbody>\n",
       "    <tr>\n",
       "      <th>Congo</th>\n",
       "      <td>Congo</td>\n",
       "      <td>Brazzaville</td>\n",
       "      <td>1696</td>\n",
       "    </tr>\n",
       "    <tr>\n",
       "      <th>Gabon</th>\n",
       "      <td>Gabon</td>\n",
       "      <td>Libreville</td>\n",
       "      <td>703</td>\n",
       "    </tr>\n",
       "    <tr>\n",
       "      <th>Equatorial Guinea</th>\n",
       "      <td>Equatorial Guinea</td>\n",
       "      <td>Malabo</td>\n",
       "      <td>297</td>\n",
       "    </tr>\n",
       "    <tr>\n",
       "      <th>Cameroon</th>\n",
       "      <td>Cameroon</td>\n",
       "      <td>Yaoundé</td>\n",
       "      <td>2765</td>\n",
       "    </tr>\n",
       "  </tbody>\n",
       "</table>\n",
       "</div>"
      ],
      "text/plain": [
       "                           countries      capital  population\n",
       "Congo                          Congo  Brazzaville        1696\n",
       "Gabon                          Gabon   Libreville         703\n",
       "Equatorial Guinea  Equatorial Guinea       Malabo         297\n",
       "Cameroon                    Cameroon      Yaoundé        2765"
      ]
     },
     "execution_count": 12,
     "metadata": {},
     "output_type": "execute_result"
    }
   ],
   "source": [
    "import pandas as pd\n",
    "data = {\n",
    "        \"countries\":[\"Congo\", \"Gabon\", \"Equatorial Guinea\", \"Cameroon\"],\n",
    "        \"capital\":[\"Brazzaville\", \"Libreville\", \"Malabo\", \"Yaoundé\"],\n",
    "        \"population\":[1696, 703, 297, 2765]}\n",
    "countries =[\"Congo\", \"Gabon\", \"Equatorial Guinea\", \"Cameroon\"]\n",
    "cityDF = pd.DataFrame(data, index=countries)\n",
    "cityDF"
   ]
  },
  {
   "cell_type": "code",
   "execution_count": 13,
   "id": "fde5f967-d728-41c8-84e8-9b680a0ed3d7",
   "metadata": {},
   "outputs": [
    {
     "data": {
      "text/html": [
       "<div>\n",
       "<style scoped>\n",
       "    .dataframe tbody tr th:only-of-type {\n",
       "        vertical-align: middle;\n",
       "    }\n",
       "\n",
       "    .dataframe tbody tr th {\n",
       "        vertical-align: top;\n",
       "    }\n",
       "\n",
       "    .dataframe thead th {\n",
       "        text-align: right;\n",
       "    }\n",
       "</style>\n",
       "<table border=\"1\" class=\"dataframe\">\n",
       "  <thead>\n",
       "    <tr style=\"text-align: right;\">\n",
       "      <th></th>\n",
       "      <th>countries</th>\n",
       "      <th>capital</th>\n",
       "      <th>population</th>\n",
       "    </tr>\n",
       "  </thead>\n",
       "  <tbody>\n",
       "    <tr>\n",
       "      <th>Congo</th>\n",
       "      <td>Congo</td>\n",
       "      <td>Brazzaville</td>\n",
       "      <td>1696</td>\n",
       "    </tr>\n",
       "    <tr>\n",
       "      <th>Gabon</th>\n",
       "      <td>Gabon</td>\n",
       "      <td>Libreville</td>\n",
       "      <td>703</td>\n",
       "    </tr>\n",
       "    <tr>\n",
       "      <th>Equatorial Guinea</th>\n",
       "      <td>Equatorial Guinea</td>\n",
       "      <td>Malabo</td>\n",
       "      <td>297</td>\n",
       "    </tr>\n",
       "    <tr>\n",
       "      <th>Cameroon</th>\n",
       "      <td>Cameroon</td>\n",
       "      <td>Yaoundé</td>\n",
       "      <td>2765</td>\n",
       "    </tr>\n",
       "  </tbody>\n",
       "</table>\n",
       "</div>"
      ],
      "text/plain": [
       "                           countries      capital  population\n",
       "Congo                          Congo  Brazzaville        1696\n",
       "Gabon                          Gabon   Libreville         703\n",
       "Equatorial Guinea  Equatorial Guinea       Malabo         297\n",
       "Cameroon                    Cameroon      Yaoundé        2765"
      ]
     },
     "execution_count": 13,
     "metadata": {},
     "output_type": "execute_result"
    }
   ],
   "source": [
    "import pandas as pd\n",
    "data = {\n",
    "        \"countries\":[\"Congo\", \"Gabon\", \"Equatorial Guinea\", \"Cameroon\"],\n",
    "        \"capital\":[\"Brazzaville\", \"Libreville\", \"Malabo\", \"Yaoundé\"],\n",
    "        \"population\":[1696, 703, 297, 2765]}\n",
    "countries =[\"Congo\", \"Gabon\", \"Equatorial Guinea\", \"Cameroon\"]\n",
    "cityDF = pd.DataFrame(data, index=countries)\n",
    "cityDF"
   ]
  },
  {
   "cell_type": "code",
   "execution_count": 2,
   "id": "109fd38c-2762-498f-bbc0-c6b400a20e3d",
   "metadata": {},
   "outputs": [
    {
     "data": {
      "text/html": [
       "<div>\n",
       "<style scoped>\n",
       "    .dataframe tbody tr th:only-of-type {\n",
       "        vertical-align: middle;\n",
       "    }\n",
       "\n",
       "    .dataframe tbody tr th {\n",
       "        vertical-align: top;\n",
       "    }\n",
       "\n",
       "    .dataframe thead th {\n",
       "        text-align: right;\n",
       "    }\n",
       "</style>\n",
       "<table border=\"1\" class=\"dataframe\">\n",
       "  <thead>\n",
       "    <tr style=\"text-align: right;\">\n",
       "      <th></th>\n",
       "      <th>Date</th>\n",
       "      <th>apporove</th>\n",
       "      <th>disapprove</th>\n",
       "      <th>dontknow</th>\n",
       "    </tr>\n",
       "  </thead>\n",
       "  <tbody>\n",
       "    <tr>\n",
       "      <th>0</th>\n",
       "      <td>2001-Dec 14-16</td>\n",
       "      <td>86</td>\n",
       "      <td>11</td>\n",
       "      <td>3</td>\n",
       "    </tr>\n",
       "    <tr>\n",
       "      <th>1</th>\n",
       "      <td>2001-Dec 6-9</td>\n",
       "      <td>86</td>\n",
       "      <td>10</td>\n",
       "      <td>4</td>\n",
       "    </tr>\n",
       "    <tr>\n",
       "      <th>2</th>\n",
       "      <td>2001-Nov 26-27</td>\n",
       "      <td>87</td>\n",
       "      <td>8</td>\n",
       "      <td>5</td>\n",
       "    </tr>\n",
       "    <tr>\n",
       "      <th>3</th>\n",
       "      <td>2001-Nov 8-11</td>\n",
       "      <td>87</td>\n",
       "      <td>9</td>\n",
       "      <td>4</td>\n",
       "    </tr>\n",
       "    <tr>\n",
       "      <th>4</th>\n",
       "      <td>2001-Nov 2-4</td>\n",
       "      <td>87</td>\n",
       "      <td>9</td>\n",
       "      <td>4</td>\n",
       "    </tr>\n",
       "    <tr>\n",
       "      <th>5</th>\n",
       "      <td>2001-Oct 19-21</td>\n",
       "      <td>88</td>\n",
       "      <td>9</td>\n",
       "      <td>3</td>\n",
       "    </tr>\n",
       "    <tr>\n",
       "      <th>6</th>\n",
       "      <td>2001 Oct 11-14</td>\n",
       "      <td>89</td>\n",
       "      <td>8</td>\n",
       "      <td>3</td>\n",
       "    </tr>\n",
       "    <tr>\n",
       "      <th>7</th>\n",
       "      <td>2001 Oct 5-6</td>\n",
       "      <td>87</td>\n",
       "      <td>10</td>\n",
       "      <td>3</td>\n",
       "    </tr>\n",
       "    <tr>\n",
       "      <th>8</th>\n",
       "      <td>2001 Sep 21-22</td>\n",
       "      <td>90</td>\n",
       "      <td>6</td>\n",
       "      <td>4</td>\n",
       "    </tr>\n",
       "    <tr>\n",
       "      <th>9</th>\n",
       "      <td>2001 Sep 14-15</td>\n",
       "      <td>86</td>\n",
       "      <td>10</td>\n",
       "      <td>4</td>\n",
       "    </tr>\n",
       "    <tr>\n",
       "      <th>10</th>\n",
       "      <td>2001 Sep 7-10</td>\n",
       "      <td>51</td>\n",
       "      <td>39</td>\n",
       "      <td>7</td>\n",
       "    </tr>\n",
       "  </tbody>\n",
       "</table>\n",
       "</div>"
      ],
      "text/plain": [
       "              Date  apporove  disapprove  dontknow\n",
       "0   2001-Dec 14-16        86          11         3\n",
       "1     2001-Dec 6-9        86          10         4\n",
       "2   2001-Nov 26-27        87           8         5\n",
       "3    2001-Nov 8-11        87           9         4\n",
       "4     2001-Nov 2-4        87           9         4\n",
       "5   2001-Oct 19-21        88           9         3\n",
       "6   2001 Oct 11-14        89           8         3\n",
       "7     2001 Oct 5-6        87          10         3\n",
       "8   2001 Sep 21-22        90           6         4\n",
       "9   2001 Sep 14-15        86          10         4\n",
       "10   2001 Sep 7-10        51          39         7"
      ]
     },
     "execution_count": 2,
     "metadata": {},
     "output_type": "execute_result"
    }
   ],
   "source": [
    "import pandas as pd\n",
    "df= pd.read_csv(\"C:/Users/user/Downloads/Book(Sheet1).csv\") \n",
    "# df=df.dropna(how=\"all\").reset_index(drop=True)\n",
    "df"
   ]
  },
  {
   "cell_type": "code",
   "execution_count": 12,
   "id": "a5e301e8-12aa-4263-ba8b-b8f4727aa217",
   "metadata": {},
   "outputs": [
    {
     "name": "stdout",
     "output_type": "stream",
     "text": [
      "Index(['Date', 'apporove', 'disapprove', 'dontknow'], dtype='object')\n",
      "['Date', 'apporove', 'disapprove', 'dontknow']\n",
      "Date\n",
      "apporove\n",
      "disapprove\n",
      "dontknow\n"
     ]
    }
   ],
   "source": [
    "print(df.columns)\n",
    "print(df.columns.tolist())\n",
    "for col in df.columns:\n",
    "    print(col)"
   ]
  },
  {
   "cell_type": "code",
   "execution_count": 10,
   "id": "152b6fc5-2cfe-44ca-a7cc-2131d1af56f7",
   "metadata": {},
   "outputs": [
    {
     "name": "stdout",
     "output_type": "stream",
     "text": [
      "0 Date\n",
      "1 apporove\n",
      "2 disapprove\n",
      "3 dontknow\n"
     ]
    }
   ],
   "source": [
    "# Uising index\n",
    "for i,col in enumerate(df.columns):\n",
    "    print(i,col)"
   ]
  },
  {
   "cell_type": "code",
   "execution_count": 14,
   "id": "26840291-07b8-4ca9-aaaf-bae6bc115920",
   "metadata": {},
   "outputs": [
    {
     "name": "stdout",
     "output_type": "stream",
     "text": [
      "[(0, 'Date'), (1, 'apporove'), (2, 'disapprove'), (3, 'dontknow')]\n"
     ]
    }
   ],
   "source": [
    "print(list(enumerate(df.columns)))"
   ]
  },
  {
   "cell_type": "code",
   "execution_count": 22,
   "id": "b9584891-9eea-4d8e-9476-de5a0e337e95",
   "metadata": {},
   "outputs": [
    {
     "data": {
      "text/plain": [
       "(11, 4)"
      ]
     },
     "execution_count": 22,
     "metadata": {},
     "output_type": "execute_result"
    }
   ],
   "source": [
    "df.shape"
   ]
  },
  {
   "cell_type": "code",
   "execution_count": 23,
   "id": "9831c7b5-b847-422c-b708-01b14713cf71",
   "metadata": {},
   "outputs": [
    {
     "data": {
      "text/plain": [
       "<bound method NDFrame.head of               Date  apporove  disapprove  dontknow\n",
       "0   2001-Dec 14-16        86          11         3\n",
       "1     2001-Dec 6-9        86          10         4\n",
       "2   2001-Nov 26-27        87           8         5\n",
       "3    2001-Nov 8-11        87           9         4\n",
       "4     2001-Nov 2-4        87           9         4\n",
       "5   2001-Oct 19-21        88           9         3\n",
       "6   2001 Oct 11-14        89           8         3\n",
       "7     2001 Oct 5-6        87          10         3\n",
       "8   2001 Sep 21-22        90           6         4\n",
       "9   2001 Sep 14-15        86          10         4\n",
       "10   2001 Sep 7-10        51          39         7>"
      ]
     },
     "execution_count": 23,
     "metadata": {},
     "output_type": "execute_result"
    }
   ],
   "source": [
    "df.head"
   ]
  },
  {
   "cell_type": "code",
   "execution_count": 15,
   "id": "f5e46603-8761-458a-9227-9472815af674",
   "metadata": {},
   "outputs": [
    {
     "data": {
      "text/plain": [
       "'C:\\\\Users\\\\user'"
      ]
     },
     "execution_count": 15,
     "metadata": {},
     "output_type": "execute_result"
    }
   ],
   "source": [
    "import os\n",
    "os.getcwd()"
   ]
  },
  {
   "cell_type": "code",
   "execution_count": 26,
   "id": "4dab3fc9-37ad-48d8-9a8f-650288fff338",
   "metadata": {},
   "outputs": [
    {
     "data": {
      "text/plain": [
       "['.anaconda', '.android', '.conda', '.condarc', '.continuum']"
      ]
     },
     "execution_count": 26,
     "metadata": {},
     "output_type": "execute_result"
    }
   ],
   "source": [
    "files = os.listdir(\"../user/\")\n",
    "files[:5]"
   ]
  },
  {
   "cell_type": "code",
   "execution_count": 16,
   "id": "7edad14b-e801-46cc-886a-204c51415117",
   "metadata": {},
   "outputs": [
    {
     "data": {
      "text/plain": [
       "['.anaconda',\n",
       " '.android',\n",
       " '.conda',\n",
       " '.condarc',\n",
       " '.continuum',\n",
       " '.emulator_console_auth_token',\n",
       " '.gitconfig',\n",
       " '.gradle',\n",
       " '.ipynb_checkpoints',\n",
       " '.ipython',\n",
       " '.jupyter',\n",
       " '.node_repl_history',\n",
       " '.python_history',\n",
       " '.skiko',\n",
       " '.vscode',\n",
       " '3D Objects',\n",
       " 'anaconda3',\n",
       " 'anaconda_projects',\n",
       " 'AndroidStudioProjects',\n",
       " 'AppData',\n",
       " 'Application Data',\n",
       " 'Contacts',\n",
       " 'Cookies',\n",
       " 'Desktop',\n",
       " 'Documents',\n",
       " 'Downloads',\n",
       " 'Favorites',\n",
       " 'IntelGraphicsProfiles',\n",
       " 'Links',\n",
       " 'Local Settings',\n",
       " 'Music',\n",
       " 'My Documents',\n",
       " 'NetHood',\n",
       " 'NTUSER.DAT',\n",
       " 'ntuser.dat.LOG1',\n",
       " 'ntuser.dat.LOG2',\n",
       " 'NTUSER.DAT{2ad838bc-efea-11ee-a54d-000d3a94eaa1}.TM.blf',\n",
       " 'NTUSER.DAT{2ad838bc-efea-11ee-a54d-000d3a94eaa1}.TMContainer00000000000000000001.regtrans-ms',\n",
       " 'NTUSER.DAT{2ad838bc-efea-11ee-a54d-000d3a94eaa1}.TMContainer00000000000000000002.regtrans-ms',\n",
       " 'ntuser.ini',\n",
       " 'Numpy.ipynb',\n",
       " 'OneDrive',\n",
       " 'Pandas.ipynb',\n",
       " 'Pictures',\n",
       " 'PrintHood',\n",
       " 'Recent',\n",
       " 'Roaming',\n",
       " 'Saved Games',\n",
       " 'Searches',\n",
       " 'SendTo',\n",
       " 'Start Menu',\n",
       " 'Templates',\n",
       " 'Videos']"
      ]
     },
     "execution_count": 16,
     "metadata": {},
     "output_type": "execute_result"
    }
   ],
   "source": [
    "#Excersice 3.9\n",
    "os.listdir()"
   ]
  },
  {
   "cell_type": "code",
   "execution_count": 19,
   "id": "c054c8ca-4836-45f6-87bb-f9a7559dd007",
   "metadata": {},
   "outputs": [
    {
     "data": {
      "text/plain": [
       "['.anaconda',\n",
       " '.android',\n",
       " '.conda',\n",
       " '.condarc',\n",
       " '.continuum',\n",
       " '.emulator_console_auth_token',\n",
       " '.gitconfig',\n",
       " '.gradle',\n",
       " '.ipynb_checkpoints',\n",
       " '.ipython',\n",
       " '.jupyter',\n",
       " '.node_repl_history',\n",
       " '.python_history',\n",
       " '.skiko',\n",
       " '.vscode',\n",
       " '3D Objects',\n",
       " 'anaconda3',\n",
       " 'anaconda_projects',\n",
       " 'AndroidStudioProjects',\n",
       " 'AppData',\n",
       " 'Application Data',\n",
       " 'Contacts',\n",
       " 'Cookies',\n",
       " 'Desktop',\n",
       " 'Documents',\n",
       " 'Downloads',\n",
       " 'Favorites',\n",
       " 'IntelGraphicsProfiles',\n",
       " 'Links',\n",
       " 'Local Settings',\n",
       " 'Music',\n",
       " 'My Documents',\n",
       " 'NetHood',\n",
       " 'NTUSER.DAT',\n",
       " 'ntuser.dat.LOG1',\n",
       " 'ntuser.dat.LOG2',\n",
       " 'NTUSER.DAT{2ad838bc-efea-11ee-a54d-000d3a94eaa1}.TM.blf',\n",
       " 'NTUSER.DAT{2ad838bc-efea-11ee-a54d-000d3a94eaa1}.TMContainer00000000000000000001.regtrans-ms',\n",
       " 'NTUSER.DAT{2ad838bc-efea-11ee-a54d-000d3a94eaa1}.TMContainer00000000000000000002.regtrans-ms',\n",
       " 'ntuser.ini',\n",
       " 'Numpy.ipynb',\n",
       " 'OneDrive',\n",
       " 'Pandas.ipynb',\n",
       " 'Pictures',\n",
       " 'PrintHood',\n",
       " 'Recent',\n",
       " 'Roaming',\n",
       " 'Saved Games',\n",
       " 'Searches',\n",
       " 'SendTo',\n",
       " 'Start Menu',\n",
       " 'Templates',\n",
       " 'Videos']"
      ]
     },
     "execution_count": 19,
     "metadata": {},
     "output_type": "execute_result"
    }
   ],
   "source": [
    "os.listdir(\".\")"
   ]
  },
  {
   "cell_type": "code",
   "execution_count": 20,
   "id": "3bf7d9cf-1791-4b40-9ff5-31373e96fd73",
   "metadata": {},
   "outputs": [
    {
     "data": {
      "text/plain": [
       "['All Users', 'Default', 'Default User', 'desktop.ini', 'Public', 'user']"
      ]
     },
     "execution_count": 20,
     "metadata": {},
     "output_type": "execute_result"
    }
   ],
   "source": [
    "os.listdir(\"..\")"
   ]
  },
  {
   "cell_type": "code",
   "execution_count": 30,
   "id": "07532391-b047-4270-b348-73be866d8b61",
   "metadata": {},
   "outputs": [
    {
     "data": {
      "text/html": [
       "<div>\n",
       "<style scoped>\n",
       "    .dataframe tbody tr th:only-of-type {\n",
       "        vertical-align: middle;\n",
       "    }\n",
       "\n",
       "    .dataframe tbody tr th {\n",
       "        vertical-align: top;\n",
       "    }\n",
       "\n",
       "    .dataframe thead th {\n",
       "        text-align: right;\n",
       "    }\n",
       "</style>\n",
       "<table border=\"1\" class=\"dataframe\">\n",
       "  <thead>\n",
       "    <tr style=\"text-align: right;\">\n",
       "      <th></th>\n",
       "      <th>Date</th>\n",
       "      <th>apporove</th>\n",
       "      <th>disapprove</th>\n",
       "      <th>dontknow</th>\n",
       "    </tr>\n",
       "  </thead>\n",
       "  <tbody>\n",
       "    <tr>\n",
       "      <th>0</th>\n",
       "      <td>2001-Dec 14-16</td>\n",
       "      <td>86</td>\n",
       "      <td>11</td>\n",
       "      <td>3</td>\n",
       "    </tr>\n",
       "    <tr>\n",
       "      <th>1</th>\n",
       "      <td>2001-Dec 6-9</td>\n",
       "      <td>86</td>\n",
       "      <td>10</td>\n",
       "      <td>4</td>\n",
       "    </tr>\n",
       "    <tr>\n",
       "      <th>2</th>\n",
       "      <td>2001-Nov 26-27</td>\n",
       "      <td>87</td>\n",
       "      <td>8</td>\n",
       "      <td>5</td>\n",
       "    </tr>\n",
       "    <tr>\n",
       "      <th>3</th>\n",
       "      <td>2001-Nov 8-11</td>\n",
       "      <td>87</td>\n",
       "      <td>9</td>\n",
       "      <td>4</td>\n",
       "    </tr>\n",
       "    <tr>\n",
       "      <th>4</th>\n",
       "      <td>2001-Nov 2-4</td>\n",
       "      <td>87</td>\n",
       "      <td>9</td>\n",
       "      <td>4</td>\n",
       "    </tr>\n",
       "    <tr>\n",
       "      <th>5</th>\n",
       "      <td>2001-Oct 19-21</td>\n",
       "      <td>88</td>\n",
       "      <td>9</td>\n",
       "      <td>3</td>\n",
       "    </tr>\n",
       "  </tbody>\n",
       "</table>\n",
       "</div>"
      ],
      "text/plain": [
       "             Date  apporove  disapprove  dontknow\n",
       "0  2001-Dec 14-16        86          11         3\n",
       "1    2001-Dec 6-9        86          10         4\n",
       "2  2001-Nov 26-27        87           8         5\n",
       "3   2001-Nov 8-11        87           9         4\n",
       "4    2001-Nov 2-4        87           9         4\n",
       "5  2001-Oct 19-21        88           9         3"
      ]
     },
     "execution_count": 30,
     "metadata": {},
     "output_type": "execute_result"
    }
   ],
   "source": [
    "df.head(6)"
   ]
  },
  {
   "cell_type": "code",
   "execution_count": 36,
   "id": "232a5171-fd7c-49a9-90c0-318bf4d01198",
   "metadata": {},
   "outputs": [
    {
     "data": {
      "text/plain": [
       "0     3\n",
       "1     4\n",
       "2     5\n",
       "3     4\n",
       "4     4\n",
       "5     3\n",
       "6     3\n",
       "7     3\n",
       "8     4\n",
       "9     4\n",
       "10    7\n",
       "Name: dontknow, dtype: int64"
      ]
     },
     "execution_count": 36,
     "metadata": {},
     "output_type": "execute_result"
    }
   ],
   "source": [
    "df[\"dontknow\"]"
   ]
  },
  {
   "cell_type": "code",
   "execution_count": 37,
   "id": "5e2c0c9d-affd-4d2a-9530-50fd3e16e2c2",
   "metadata": {},
   "outputs": [
    {
     "data": {
      "text/plain": [
       "0     86\n",
       "1     86\n",
       "2     87\n",
       "3     87\n",
       "4     87\n",
       "5     88\n",
       "6     89\n",
       "7     87\n",
       "8     90\n",
       "9     86\n",
       "10    51\n",
       "Name: apporove, dtype: int64"
      ]
     },
     "execution_count": 37,
     "metadata": {},
     "output_type": "execute_result"
    }
   ],
   "source": [
    "df.apporove"
   ]
  },
  {
   "cell_type": "code",
   "execution_count": 40,
   "id": "2c21e72f-e495-44ec-9889-6fc69e886e3a",
   "metadata": {},
   "outputs": [
    {
     "data": {
      "text/html": [
       "<div>\n",
       "<style scoped>\n",
       "    .dataframe tbody tr th:only-of-type {\n",
       "        vertical-align: middle;\n",
       "    }\n",
       "\n",
       "    .dataframe tbody tr th {\n",
       "        vertical-align: top;\n",
       "    }\n",
       "\n",
       "    .dataframe thead th {\n",
       "        text-align: right;\n",
       "    }\n",
       "</style>\n",
       "<table border=\"1\" class=\"dataframe\">\n",
       "  <thead>\n",
       "    <tr style=\"text-align: right;\">\n",
       "      <th></th>\n",
       "      <th>Date</th>\n",
       "    </tr>\n",
       "  </thead>\n",
       "  <tbody>\n",
       "    <tr>\n",
       "      <th>0</th>\n",
       "      <td>2001-Dec 14-16</td>\n",
       "    </tr>\n",
       "    <tr>\n",
       "      <th>1</th>\n",
       "      <td>2001-Dec 6-9</td>\n",
       "    </tr>\n",
       "    <tr>\n",
       "      <th>2</th>\n",
       "      <td>2001-Nov 26-27</td>\n",
       "    </tr>\n",
       "    <tr>\n",
       "      <th>3</th>\n",
       "      <td>2001-Nov 8-11</td>\n",
       "    </tr>\n",
       "    <tr>\n",
       "      <th>4</th>\n",
       "      <td>2001-Nov 2-4</td>\n",
       "    </tr>\n",
       "    <tr>\n",
       "      <th>5</th>\n",
       "      <td>2001-Oct 19-21</td>\n",
       "    </tr>\n",
       "    <tr>\n",
       "      <th>6</th>\n",
       "      <td>2001 Oct 11-14</td>\n",
       "    </tr>\n",
       "    <tr>\n",
       "      <th>7</th>\n",
       "      <td>2001 Oct 5-6</td>\n",
       "    </tr>\n",
       "    <tr>\n",
       "      <th>8</th>\n",
       "      <td>2001 Sep 21-22</td>\n",
       "    </tr>\n",
       "    <tr>\n",
       "      <th>9</th>\n",
       "      <td>2001 Sep 14-15</td>\n",
       "    </tr>\n",
       "    <tr>\n",
       "      <th>10</th>\n",
       "      <td>2001 Sep 7-10</td>\n",
       "    </tr>\n",
       "  </tbody>\n",
       "</table>\n",
       "</div>"
      ],
      "text/plain": [
       "              Date\n",
       "0   2001-Dec 14-16\n",
       "1     2001-Dec 6-9\n",
       "2   2001-Nov 26-27\n",
       "3    2001-Nov 8-11\n",
       "4     2001-Nov 2-4\n",
       "5   2001-Oct 19-21\n",
       "6   2001 Oct 11-14\n",
       "7     2001 Oct 5-6\n",
       "8   2001 Sep 21-22\n",
       "9   2001 Sep 14-15\n",
       "10   2001 Sep 7-10"
      ]
     },
     "execution_count": 40,
     "metadata": {},
     "output_type": "execute_result"
    }
   ],
   "source": [
    "df[[\"Date\"]]"
   ]
  },
  {
   "cell_type": "code",
   "execution_count": 41,
   "id": "5311613e-3e3d-4ae2-99b6-b79d25aca7ba",
   "metadata": {},
   "outputs": [
    {
     "data": {
      "text/html": [
       "<div>\n",
       "<style scoped>\n",
       "    .dataframe tbody tr th:only-of-type {\n",
       "        vertical-align: middle;\n",
       "    }\n",
       "\n",
       "    .dataframe tbody tr th {\n",
       "        vertical-align: top;\n",
       "    }\n",
       "\n",
       "    .dataframe thead th {\n",
       "        text-align: right;\n",
       "    }\n",
       "</style>\n",
       "<table border=\"1\" class=\"dataframe\">\n",
       "  <thead>\n",
       "    <tr style=\"text-align: right;\">\n",
       "      <th></th>\n",
       "      <th>apporove</th>\n",
       "      <th>disapprove</th>\n",
       "    </tr>\n",
       "  </thead>\n",
       "  <tbody>\n",
       "    <tr>\n",
       "      <th>0</th>\n",
       "      <td>86</td>\n",
       "      <td>11</td>\n",
       "    </tr>\n",
       "    <tr>\n",
       "      <th>1</th>\n",
       "      <td>86</td>\n",
       "      <td>10</td>\n",
       "    </tr>\n",
       "    <tr>\n",
       "      <th>2</th>\n",
       "      <td>87</td>\n",
       "      <td>8</td>\n",
       "    </tr>\n",
       "    <tr>\n",
       "      <th>3</th>\n",
       "      <td>87</td>\n",
       "      <td>9</td>\n",
       "    </tr>\n",
       "    <tr>\n",
       "      <th>4</th>\n",
       "      <td>87</td>\n",
       "      <td>9</td>\n",
       "    </tr>\n",
       "    <tr>\n",
       "      <th>5</th>\n",
       "      <td>88</td>\n",
       "      <td>9</td>\n",
       "    </tr>\n",
       "    <tr>\n",
       "      <th>6</th>\n",
       "      <td>89</td>\n",
       "      <td>8</td>\n",
       "    </tr>\n",
       "    <tr>\n",
       "      <th>7</th>\n",
       "      <td>87</td>\n",
       "      <td>10</td>\n",
       "    </tr>\n",
       "    <tr>\n",
       "      <th>8</th>\n",
       "      <td>90</td>\n",
       "      <td>6</td>\n",
       "    </tr>\n",
       "    <tr>\n",
       "      <th>9</th>\n",
       "      <td>86</td>\n",
       "      <td>10</td>\n",
       "    </tr>\n",
       "    <tr>\n",
       "      <th>10</th>\n",
       "      <td>51</td>\n",
       "      <td>39</td>\n",
       "    </tr>\n",
       "  </tbody>\n",
       "</table>\n",
       "</div>"
      ],
      "text/plain": [
       "    apporove  disapprove\n",
       "0         86          11\n",
       "1         86          10\n",
       "2         87           8\n",
       "3         87           9\n",
       "4         87           9\n",
       "5         88           9\n",
       "6         89           8\n",
       "7         87          10\n",
       "8         90           6\n",
       "9         86          10\n",
       "10        51          39"
      ]
     },
     "execution_count": 41,
     "metadata": {},
     "output_type": "execute_result"
    }
   ],
   "source": [
    "var=[\"apporove\",\"disapprove\"]\n",
    "df[var]"
   ]
  },
  {
   "cell_type": "code",
   "execution_count": 47,
   "id": "fecca385-70f0-40af-81d7-4aadcdcf5b13",
   "metadata": {},
   "outputs": [
    {
     "name": "stdout",
     "output_type": "stream",
     "text": [
      "             Date  apporove  disapprove  dontknow\n",
      "6  2001 Oct 11-14        89           8         3\n",
      "8  2001 Sep 21-22        90           6         4\n"
     ]
    },
    {
     "data": {
      "text/html": [
       "<div>\n",
       "<style scoped>\n",
       "    .dataframe tbody tr th:only-of-type {\n",
       "        vertical-align: middle;\n",
       "    }\n",
       "\n",
       "    .dataframe tbody tr th {\n",
       "        vertical-align: top;\n",
       "    }\n",
       "\n",
       "    .dataframe thead th {\n",
       "        text-align: right;\n",
       "    }\n",
       "</style>\n",
       "<table border=\"1\" class=\"dataframe\">\n",
       "  <thead>\n",
       "    <tr style=\"text-align: right;\">\n",
       "      <th></th>\n",
       "      <th>Date</th>\n",
       "      <th>apporove</th>\n",
       "      <th>disapprove</th>\n",
       "      <th>dontknow</th>\n",
       "    </tr>\n",
       "  </thead>\n",
       "  <tbody>\n",
       "    <tr>\n",
       "      <th>0</th>\n",
       "      <td>2001-Dec 14-16</td>\n",
       "      <td>86</td>\n",
       "      <td>11</td>\n",
       "      <td>3</td>\n",
       "    </tr>\n",
       "    <tr>\n",
       "      <th>1</th>\n",
       "      <td>2001-Dec 6-9</td>\n",
       "      <td>86</td>\n",
       "      <td>10</td>\n",
       "      <td>4</td>\n",
       "    </tr>\n",
       "    <tr>\n",
       "      <th>2</th>\n",
       "      <td>2001-Nov 26-27</td>\n",
       "      <td>87</td>\n",
       "      <td>8</td>\n",
       "      <td>5</td>\n",
       "    </tr>\n",
       "    <tr>\n",
       "      <th>3</th>\n",
       "      <td>2001-Nov 8-11</td>\n",
       "      <td>87</td>\n",
       "      <td>9</td>\n",
       "      <td>4</td>\n",
       "    </tr>\n",
       "    <tr>\n",
       "      <th>4</th>\n",
       "      <td>2001-Nov 2-4</td>\n",
       "      <td>87</td>\n",
       "      <td>9</td>\n",
       "      <td>4</td>\n",
       "    </tr>\n",
       "    <tr>\n",
       "      <th>7</th>\n",
       "      <td>2001 Oct 5-6</td>\n",
       "      <td>87</td>\n",
       "      <td>10</td>\n",
       "      <td>3</td>\n",
       "    </tr>\n",
       "    <tr>\n",
       "      <th>9</th>\n",
       "      <td>2001 Sep 14-15</td>\n",
       "      <td>86</td>\n",
       "      <td>10</td>\n",
       "      <td>4</td>\n",
       "    </tr>\n",
       "    <tr>\n",
       "      <th>10</th>\n",
       "      <td>2001 Sep 7-10</td>\n",
       "      <td>51</td>\n",
       "      <td>39</td>\n",
       "      <td>7</td>\n",
       "    </tr>\n",
       "  </tbody>\n",
       "</table>\n",
       "</div>"
      ],
      "text/plain": [
       "              Date  apporove  disapprove  dontknow\n",
       "0   2001-Dec 14-16        86          11         3\n",
       "1     2001-Dec 6-9        86          10         4\n",
       "2   2001-Nov 26-27        87           8         5\n",
       "3    2001-Nov 8-11        87           9         4\n",
       "4     2001-Nov 2-4        87           9         4\n",
       "7     2001 Oct 5-6        87          10         3\n",
       "9   2001 Sep 14-15        86          10         4\n",
       "10   2001 Sep 7-10        51          39         7"
      ]
     },
     "execution_count": 47,
     "metadata": {},
     "output_type": "execute_result"
    }
   ],
   "source": [
    "print(df[df.apporove>88])\n",
    "df[df.apporove<88]"
   ]
  },
  {
   "cell_type": "code",
   "execution_count": 51,
   "id": "207347b2-1502-41ab-98a8-5f0bd9e73447",
   "metadata": {},
   "outputs": [
    {
     "data": {
      "text/html": [
       "<div>\n",
       "<style scoped>\n",
       "    .dataframe tbody tr th:only-of-type {\n",
       "        vertical-align: middle;\n",
       "    }\n",
       "\n",
       "    .dataframe tbody tr th {\n",
       "        vertical-align: top;\n",
       "    }\n",
       "\n",
       "    .dataframe thead th {\n",
       "        text-align: right;\n",
       "    }\n",
       "</style>\n",
       "<table border=\"1\" class=\"dataframe\">\n",
       "  <thead>\n",
       "    <tr style=\"text-align: right;\">\n",
       "      <th></th>\n",
       "      <th>Date</th>\n",
       "      <th>apporove</th>\n",
       "      <th>disapprove</th>\n",
       "      <th>dontknow</th>\n",
       "    </tr>\n",
       "  </thead>\n",
       "  <tbody>\n",
       "    <tr>\n",
       "      <th>8</th>\n",
       "      <td>2001 Sep 21-22</td>\n",
       "      <td>90</td>\n",
       "      <td>6</td>\n",
       "      <td>4</td>\n",
       "    </tr>\n",
       "    <tr>\n",
       "      <th>10</th>\n",
       "      <td>2001 Sep 7-10</td>\n",
       "      <td>51</td>\n",
       "      <td>39</td>\n",
       "      <td>7</td>\n",
       "    </tr>\n",
       "  </tbody>\n",
       "</table>\n",
       "</div>"
      ],
      "text/plain": [
       "              Date  apporove  disapprove  dontknow\n",
       "8   2001 Sep 21-22        90           6         4\n",
       "10   2001 Sep 7-10        51          39         7"
      ]
     },
     "execution_count": 51,
     "metadata": {},
     "output_type": "execute_result"
    }
   ],
   "source": [
    "df[(df.apporove<86) | (df.apporove>89)]"
   ]
  },
  {
   "cell_type": "code",
   "execution_count": 55,
   "id": "9398bdc4-83e5-4398-9b78-a7b14b40f77e",
   "metadata": {},
   "outputs": [
    {
     "data": {
      "text/html": [
       "<div>\n",
       "<style scoped>\n",
       "    .dataframe tbody tr th:only-of-type {\n",
       "        vertical-align: middle;\n",
       "    }\n",
       "\n",
       "    .dataframe tbody tr th {\n",
       "        vertical-align: top;\n",
       "    }\n",
       "\n",
       "    .dataframe thead th {\n",
       "        text-align: right;\n",
       "    }\n",
       "</style>\n",
       "<table border=\"1\" class=\"dataframe\">\n",
       "  <thead>\n",
       "    <tr style=\"text-align: right;\">\n",
       "      <th></th>\n",
       "      <th>Date</th>\n",
       "      <th>apporove</th>\n",
       "    </tr>\n",
       "  </thead>\n",
       "  <tbody>\n",
       "    <tr>\n",
       "      <th>5</th>\n",
       "      <td>2001-Oct 19-21</td>\n",
       "      <td>88</td>\n",
       "    </tr>\n",
       "    <tr>\n",
       "      <th>6</th>\n",
       "      <td>2001 Oct 11-14</td>\n",
       "      <td>89</td>\n",
       "    </tr>\n",
       "    <tr>\n",
       "      <th>8</th>\n",
       "      <td>2001 Sep 21-22</td>\n",
       "      <td>90</td>\n",
       "    </tr>\n",
       "  </tbody>\n",
       "</table>\n",
       "</div>"
      ],
      "text/plain": [
       "             Date  apporove\n",
       "5  2001-Oct 19-21        88\n",
       "6  2001 Oct 11-14        89\n",
       "8  2001 Sep 21-22        90"
      ]
     },
     "execution_count": 55,
     "metadata": {},
     "output_type": "execute_result"
    }
   ],
   "source": [
    "#Excersice 3.10\n",
    "df[df.apporove>=88][[\"Date\",\"apporove\"]]"
   ]
  },
  {
   "cell_type": "code",
   "execution_count": 58,
   "id": "b6b232d1-7836-4867-8050-0cc379f05644",
   "metadata": {},
   "outputs": [
    {
     "data": {
      "text/plain": [
       "3"
      ]
     },
     "execution_count": 58,
     "metadata": {},
     "output_type": "execute_result"
    }
   ],
   "source": [
    "df[df.apporove>=88].shape[0]"
   ]
  },
  {
   "cell_type": "code",
   "execution_count": 59,
   "id": "cedadbdb-3b29-4ca9-8619-8bdf52eb419c",
   "metadata": {},
   "outputs": [
    {
     "data": {
      "text/plain": [
       "MY     32.7\n",
       "ID    267.7\n",
       "KH     15.3\n",
       "dtype: float64"
      ]
     },
     "execution_count": 59,
     "metadata": {},
     "output_type": "execute_result"
    }
   ],
   "source": [
    "pop = pd.Series([32.7, 267.7, 15.3], index=[\"MY\", \"ID\", \"KH\"])\n",
    "pop"
   ]
  },
  {
   "cell_type": "code",
   "execution_count": 60,
   "id": "8991c2a1-c98a-4b2f-afe7-0c85fc219d89",
   "metadata": {},
   "outputs": [
    {
     "data": {
      "text/plain": [
       "np.float64(267.7)"
      ]
     },
     "execution_count": 60,
     "metadata": {},
     "output_type": "execute_result"
    }
   ],
   "source": [
    "pop.iloc[1]"
   ]
  },
  {
   "cell_type": "code",
   "execution_count": 61,
   "id": "d80ee5ff-731c-4e4f-b7f9-46a896eb42c9",
   "metadata": {},
   "outputs": [
    {
     "data": {
      "text/plain": [
       "ID    267.7\n",
       "KH     15.3\n",
       "dtype: float64"
      ]
     },
     "execution_count": 61,
     "metadata": {},
     "output_type": "execute_result"
    }
   ],
   "source": [
    "pop.iloc[[1,2]]"
   ]
  },
  {
   "cell_type": "code",
   "execution_count": 64,
   "id": "4d356f4d-6749-4260-9be9-988607b39b87",
   "metadata": {},
   "outputs": [
    {
     "name": "stdout",
     "output_type": "stream",
     "text": [
      "267.7\n"
     ]
    },
    {
     "data": {
      "text/plain": [
       "ID    267.7\n",
       "MY     32.7\n",
       "dtype: float64"
      ]
     },
     "execution_count": 64,
     "metadata": {},
     "output_type": "execute_result"
    }
   ],
   "source": [
    "print(pop.loc[\"ID\"])\n",
    "pop.loc[[\"ID\",\"MY\"]]"
   ]
  },
  {
   "cell_type": "code",
   "execution_count": 72,
   "id": "39b00fcb-7384-44e6-9721-944448a7338d",
   "metadata": {},
   "outputs": [
    {
     "data": {
      "text/html": [
       "<div>\n",
       "<style scoped>\n",
       "    .dataframe tbody tr th:only-of-type {\n",
       "        vertical-align: middle;\n",
       "    }\n",
       "\n",
       "    .dataframe tbody tr th {\n",
       "        vertical-align: top;\n",
       "    }\n",
       "\n",
       "    .dataframe thead th {\n",
       "        text-align: right;\n",
       "    }\n",
       "</style>\n",
       "<table border=\"1\" class=\"dataframe\">\n",
       "  <thead>\n",
       "    <tr style=\"text-align: right;\">\n",
       "      <th></th>\n",
       "      <th>capital</th>\n",
       "      <th>population</th>\n",
       "    </tr>\n",
       "  </thead>\n",
       "  <tbody>\n",
       "    <tr>\n",
       "      <th>Amravathi</th>\n",
       "      <td>Andhra Pradesh</td>\n",
       "      <td>32.7</td>\n",
       "    </tr>\n",
       "    <tr>\n",
       "      <th>Hyderabad</th>\n",
       "      <td>Telengana</td>\n",
       "      <td>267.7</td>\n",
       "    </tr>\n",
       "    <tr>\n",
       "      <th>Bengaluru</th>\n",
       "      <td>Karnataka</td>\n",
       "      <td>15.3</td>\n",
       "    </tr>\n",
       "  </tbody>\n",
       "</table>\n",
       "</div>"
      ],
      "text/plain": [
       "                  capital  population\n",
       "Amravathi  Andhra Pradesh        32.7\n",
       "Hyderabad       Telengana       267.7\n",
       "Bengaluru       Karnataka        15.3"
      ]
     },
     "execution_count": 72,
     "metadata": {},
     "output_type": "execute_result"
    }
   ],
   "source": [
    "#Excerice 3.11\n",
    "capitals = pd.DataFrame(\n",
    "        {\"capital\":[\"Andhra Pradesh\",\"Telengana\",\"Karnataka\"],\n",
    "         \"population\":[32.7, 267.7, 15.3]},\n",
    "        index=[\"Amravathi\",\"Hyderabad\",\"Bengaluru\"])\n",
    "capitals"
   ]
  },
  {
   "cell_type": "code",
   "execution_count": 73,
   "id": "e6884dfd-d382-49d9-80f0-98c2675be5fa",
   "metadata": {},
   "outputs": [
    {
     "ename": "TypeError",
     "evalue": "DataFrame.reset_index() got an unexpected keyword argument 'name'. Did you mean 'names'?",
     "output_type": "error",
     "traceback": [
      "\u001b[1;31m---------------------------------------------------------------------------\u001b[0m",
      "\u001b[1;31mTypeError\u001b[0m                                 Traceback (most recent call last)",
      "Cell \u001b[1;32mIn[73], line 1\u001b[0m\n\u001b[1;32m----> 1\u001b[0m capitals\u001b[38;5;241m=\u001b[39mcapitals\u001b[38;5;241m.\u001b[39mreset_index(name \u001b[38;5;241m=\u001b[39m \u001b[38;5;124m\"\u001b[39m\u001b[38;5;124mcountry\u001b[39m\u001b[38;5;124m\"\u001b[39m)\n",
      "\u001b[1;31mTypeError\u001b[0m: DataFrame.reset_index() got an unexpected keyword argument 'name'. Did you mean 'names'?"
     ]
    }
   ],
   "source": [
    "capitals=capitals.reset_index(name = \"country\")"
   ]
  },
  {
   "cell_type": "code",
   "execution_count": 75,
   "id": "5e6a384f-8077-49dd-9b07-c86d3eed4080",
   "metadata": {},
   "outputs": [
    {
     "data": {
      "text/plain": [
       "0     NaN\n",
       "1    26.0\n",
       "2    19.0\n",
       "3    13.0\n",
       "dtype: float64"
      ]
     },
     "execution_count": 75,
     "metadata": {},
     "output_type": "execute_result"
    }
   ],
   "source": [
    "import numpy as np\n",
    "pop1 = pd.Series([np.nan, 26, 19, 13])\n",
    "pop1"
   ]
  },
  {
   "cell_type": "code",
   "execution_count": 79,
   "id": "285b3fb2-3339-4921-a1b7-6b84df8b885b",
   "metadata": {},
   "outputs": [
    {
     "name": "stdout",
     "output_type": "stream",
     "text": [
      "19.0\n"
     ]
    },
    {
     "data": {
      "text/plain": [
       "np.float64(19.0)"
      ]
     },
     "execution_count": 79,
     "metadata": {},
     "output_type": "execute_result"
    }
   ],
   "source": [
    "print(pop1.iloc[2])\n",
    "pop1[2]"
   ]
  },
  {
   "cell_type": "code",
   "execution_count": 80,
   "id": "2bcf6583-2548-4d48-9e66-a8bdcf6725cd",
   "metadata": {},
   "outputs": [
    {
     "data": {
      "text/plain": [
       "1    26.0\n",
       "2    19.0\n",
       "3    13.0\n",
       "dtype: float64"
      ]
     },
     "execution_count": 80,
     "metadata": {},
     "output_type": "execute_result"
    }
   ],
   "source": [
    "pop2=pop1.dropna()\n",
    "pop2"
   ]
  },
  {
   "cell_type": "code",
   "execution_count": 81,
   "id": "128a9550-fa90-4414-87f3-8c2b38add67c",
   "metadata": {},
   "outputs": [
    {
     "data": {
      "text/plain": [
       "np.float64(13.0)"
      ]
     },
     "execution_count": 81,
     "metadata": {},
     "output_type": "execute_result"
    }
   ],
   "source": [
    "pop2.iloc[2]"
   ]
  },
  {
   "cell_type": "code",
   "execution_count": 82,
   "id": "756c854a-42cd-4989-a39a-b34d213e5a4c",
   "metadata": {},
   "outputs": [
    {
     "data": {
      "text/plain": [
       "np.float64(19.0)"
      ]
     },
     "execution_count": 82,
     "metadata": {},
     "output_type": "execute_result"
    }
   ],
   "source": [
    "pop2.loc[2]"
   ]
  },
  {
   "cell_type": "code",
   "execution_count": 84,
   "id": "00f587e5-4ea8-4b2f-8d58-ec34b539194e",
   "metadata": {},
   "outputs": [
    {
     "data": {
      "text/plain": [
       "capital       Karnataka\n",
       "population         15.3\n",
       "Name: Bengaluru, dtype: object"
      ]
     },
     "execution_count": 84,
     "metadata": {},
     "output_type": "execute_result"
    }
   ],
   "source": [
    "capitals.iloc[2]"
   ]
  },
  {
   "cell_type": "code",
   "execution_count": 86,
   "id": "333c1962-b1cc-4e30-94f1-68439ad9e0fe",
   "metadata": {},
   "outputs": [
    {
     "data": {
      "text/html": [
       "<div>\n",
       "<style scoped>\n",
       "    .dataframe tbody tr th:only-of-type {\n",
       "        vertical-align: middle;\n",
       "    }\n",
       "\n",
       "    .dataframe tbody tr th {\n",
       "        vertical-align: top;\n",
       "    }\n",
       "\n",
       "    .dataframe thead th {\n",
       "        text-align: right;\n",
       "    }\n",
       "</style>\n",
       "<table border=\"1\" class=\"dataframe\">\n",
       "  <thead>\n",
       "    <tr style=\"text-align: right;\">\n",
       "      <th></th>\n",
       "      <th>capital</th>\n",
       "      <th>population</th>\n",
       "    </tr>\n",
       "  </thead>\n",
       "  <tbody>\n",
       "    <tr>\n",
       "      <th>Bengaluru</th>\n",
       "      <td>Karnataka</td>\n",
       "      <td>15.3</td>\n",
       "    </tr>\n",
       "  </tbody>\n",
       "</table>\n",
       "</div>"
      ],
      "text/plain": [
       "             capital  population\n",
       "Bengaluru  Karnataka        15.3"
      ]
     },
     "execution_count": 86,
     "metadata": {},
     "output_type": "execute_result"
    }
   ],
   "source": [
    "capitals.iloc[[2]]"
   ]
  },
  {
   "cell_type": "code",
   "execution_count": 87,
   "id": "046cc660-a7d6-4a43-80a0-d071c410138c",
   "metadata": {},
   "outputs": [
    {
     "data": {
      "text/plain": [
       "np.float64(15.3)"
      ]
     },
     "execution_count": 87,
     "metadata": {},
     "output_type": "execute_result"
    }
   ],
   "source": [
    "capitals.iloc[2,1]"
   ]
  },
  {
   "cell_type": "code",
   "execution_count": 88,
   "id": "e10bd754-b9a1-40b8-a2fe-9b83240c349d",
   "metadata": {},
   "outputs": [
    {
     "data": {
      "text/plain": [
       "'Andhra Pradesh'"
      ]
     },
     "execution_count": 88,
     "metadata": {},
     "output_type": "execute_result"
    }
   ],
   "source": [
    "capitals.loc[\"Amravathi\",\"capital\"]"
   ]
  },
  {
   "cell_type": "code",
   "execution_count": 91,
   "id": "cd6d60d2-c576-431d-9633-48ed72fcf03d",
   "metadata": {},
   "outputs": [
    {
     "data": {
      "text/html": [
       "<div>\n",
       "<style scoped>\n",
       "    .dataframe tbody tr th:only-of-type {\n",
       "        vertical-align: middle;\n",
       "    }\n",
       "\n",
       "    .dataframe tbody tr th {\n",
       "        vertical-align: top;\n",
       "    }\n",
       "\n",
       "    .dataframe thead th {\n",
       "        text-align: right;\n",
       "    }\n",
       "</style>\n",
       "<table border=\"1\" class=\"dataframe\">\n",
       "  <thead>\n",
       "    <tr style=\"text-align: right;\">\n",
       "      <th></th>\n",
       "      <th>population</th>\n",
       "      <th>capital</th>\n",
       "    </tr>\n",
       "  </thead>\n",
       "  <tbody>\n",
       "    <tr>\n",
       "      <th>Amravathi</th>\n",
       "      <td>32.7</td>\n",
       "      <td>Andhra Pradesh</td>\n",
       "    </tr>\n",
       "    <tr>\n",
       "      <th>Hyderabad</th>\n",
       "      <td>267.7</td>\n",
       "      <td>Telengana</td>\n",
       "    </tr>\n",
       "  </tbody>\n",
       "</table>\n",
       "</div>"
      ],
      "text/plain": [
       "           population         capital\n",
       "Amravathi        32.7  Andhra Pradesh\n",
       "Hyderabad       267.7       Telengana"
      ]
     },
     "execution_count": 91,
     "metadata": {},
     "output_type": "execute_result"
    }
   ],
   "source": [
    "capitals.loc[[\"Amravathi\", \"Hyderabad\"], [\"population\", \"capital\"]]"
   ]
  },
  {
   "cell_type": "code",
   "execution_count": 1,
   "id": "ac9a962b-cd86-4514-93d9-233cf42540b3",
   "metadata": {},
   "outputs": [
    {
     "data": {
      "text/plain": [
       "0    False\n",
       "1     True\n",
       "2     True\n",
       "Name: sport, dtype: bool"
      ]
     },
     "execution_count": 1,
     "metadata": {},
     "output_type": "execute_result"
    }
   ],
   "source": [
    "import pandas as pd\n",
    "\n",
    "df = pd.DataFrame({'sport': ['tennis', 'football', 'basketball']})\n",
    "df['sport'].str.contains('ball')"
   ]
  },
  {
   "cell_type": "code",
   "execution_count": 2,
   "id": "88562517-9ac0-4a72-91dd-259cef142803",
   "metadata": {},
   "outputs": [],
   "source": [
    "df.loc[df['sport'].str.contains('ball'), 'sport'] = 'ball sport'"
   ]
  },
  {
   "cell_type": "code",
   "execution_count": 3,
   "id": "b1a064c3-bd0c-45d4-87b7-308a523ad441",
   "metadata": {},
   "outputs": [
    {
     "data": {
      "text/plain": [
       "0    False\n",
       "1    False\n",
       "2    False\n",
       "Name: sport, dtype: bool"
      ]
     },
     "execution_count": 3,
     "metadata": {},
     "output_type": "execute_result"
    }
   ],
   "source": [
    "df['sport'].str.match('foot')"
   ]
  },
  {
   "cell_type": "code",
   "execution_count": 4,
   "id": "c48bf9ae-83d3-42f0-a661-2d7d553fef43",
   "metadata": {},
   "outputs": [
    {
     "data": {
      "text/plain": [
       "0          tennis\n",
       "1    sphere sport\n",
       "2    sphere sport\n",
       "Name: sport, dtype: object"
      ]
     },
     "execution_count": 4,
     "metadata": {},
     "output_type": "execute_result"
    }
   ],
   "source": [
    "df['sport'].str.replace('ball', 'sphere', regex=True)"
   ]
  },
  {
   "cell_type": "code",
   "execution_count": 5,
   "id": "cd9795ad-7f30-4182-ac4f-15ed26203640",
   "metadata": {},
   "outputs": [
    {
     "data": {
      "text/plain": [
       "0        tennis\n",
       "1    ball sport\n",
       "2    ball sport\n",
       "Name: sport, dtype: object"
      ]
     },
     "execution_count": 5,
     "metadata": {},
     "output_type": "execute_result"
    }
   ],
   "source": [
    "df['sport'].str.replace(r'^.*ball.*$', 'ball sport', regex=True)"
   ]
  },
  {
   "cell_type": "code",
   "execution_count": null,
   "id": "b7d98191-cf26-4a82-8915-a7ed5727978f",
   "metadata": {},
   "outputs": [],
   "source": []
  }
 ],
 "metadata": {
  "kernelspec": {
   "display_name": "Python [conda env:base] *",
   "language": "python",
   "name": "conda-base-py"
  },
  "language_info": {
   "codemirror_mode": {
    "name": "ipython",
    "version": 3
   },
   "file_extension": ".py",
   "mimetype": "text/x-python",
   "name": "python",
   "nbconvert_exporter": "python",
   "pygments_lexer": "ipython3",
   "version": "3.13.5"
  },
  "widgets": {
   "application/vnd.jupyter.widget-state+json": {
    "state": {},
    "version_major": 2,
    "version_minor": 0
   }
  }
 },
 "nbformat": 4,
 "nbformat_minor": 5
}
