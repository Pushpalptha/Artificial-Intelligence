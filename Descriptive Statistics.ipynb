{
 "cells": [
  {
   "cell_type": "code",
   "execution_count": 2,
   "id": "b1bfc7e1-db53-4f78-8115-1faf4cdc0f8e",
   "metadata": {},
   "outputs": [
    {
     "data": {
      "text/plain": [
       "(891, 12)"
      ]
     },
     "execution_count": 2,
     "metadata": {},
     "output_type": "execute_result"
    }
   ],
   "source": [
    "import pandas as pd\n",
    "titanic=pd.read_csv(\"C:/Users/user/Downloads/titanic.csv\")\n",
    "titanic.shape"
   ]
  },
  {
   "cell_type": "markdown",
   "id": "d928745b-d34d-4ae7-9bb1-3df8cf8f32d5",
   "metadata": {},
   "source": [
    "## Centeral Tendency"
   ]
  },
  {
   "cell_type": "code",
   "execution_count": 3,
   "id": "3d59af0f-072b-41b9-9197-ab1f6bd4c102",
   "metadata": {},
   "outputs": [
    {
     "data": {
      "text/plain": [
       "array(['S', 'C', 'Q', nan], dtype=object)"
      ]
     },
     "execution_count": 3,
     "metadata": {},
     "output_type": "execute_result"
    }
   ],
   "source": [
    "#Central tendency is all about finding the “typical” or “central” value in a dataset—basically, where the data tends \n",
    "#to cluster.It’s a key concept in statistics and helps summarize large amounts of data with a single representative value. \n",
    "#nunique,unique and value_counts\n",
    "titanic.Embarked.unique()     #\".unique\" includes missings in the list of returned values "
   ]
  },
  {
   "cell_type": "code",
   "execution_count": 4,
   "id": "74cb3782-1519-4738-b600-9e438a354efc",
   "metadata": {},
   "outputs": [
    {
     "data": {
      "text/plain": [
       "Embarked\n",
       "S    644\n",
       "C    168\n",
       "Q     77\n",
       "Name: count, dtype: int64"
      ]
     },
     "execution_count": 4,
     "metadata": {},
     "output_type": "execute_result"
    }
   ],
   "source": [
    "titanic.Embarked.value_counts()     #\".nunique\" and \".value_counts\" ignore those."
   ]
  },
  {
   "cell_type": "code",
   "execution_count": 5,
   "id": "67801f9d-2c27-4be0-b6d7-3eb326b5804d",
   "metadata": {},
   "outputs": [
    {
     "data": {
      "text/plain": [
       "array([3, 1, 2])"
      ]
     },
     "execution_count": 5,
     "metadata": {},
     "output_type": "execute_result"
    }
   ],
   "source": [
    "titanic.Pclass.unique()"
   ]
  },
  {
   "cell_type": "code",
   "execution_count": 6,
   "id": "f5cae8e7-ea22-454e-b382-2acb74fce93f",
   "metadata": {},
   "outputs": [
    {
     "data": {
      "text/plain": [
       "3.0"
      ]
     },
     "execution_count": 6,
     "metadata": {},
     "output_type": "execute_result"
    }
   ],
   "source": [
    "titanic.Pclass.median()"
   ]
  },
  {
   "cell_type": "code",
   "execution_count": 7,
   "id": "38399b43-a286-4690-8d2a-ed606b913c0b",
   "metadata": {},
   "outputs": [
    {
     "data": {
      "text/plain": [
       "np.float64(29.69911764705882)"
      ]
     },
     "execution_count": 7,
     "metadata": {},
     "output_type": "execute_result"
    }
   ],
   "source": [
    "titanic.Age.mean()"
   ]
  },
  {
   "cell_type": "code",
   "execution_count": 8,
   "id": "44e65afb-75ec-444d-9075-524dc29a1d88",
   "metadata": {},
   "outputs": [
    {
     "data": {
      "text/plain": [
       "np.float64(nan)"
      ]
     },
     "execution_count": 8,
     "metadata": {},
     "output_type": "execute_result"
    }
   ],
   "source": [
    "import numpy as np\n",
    "a=np.array([1,2,np.nan])\n",
    "b=pd.Series(a)                   #In case of series, missings are ignored     \n",
    "np.mean(a)                       #In case of arrays, a missing value results in the whole result to be missing"
   ]
  },
  {
   "cell_type": "code",
   "execution_count": 9,
   "id": "7dc2b7b3-e967-42e6-8c17-591320610e55",
   "metadata": {},
   "outputs": [
    {
     "data": {
      "text/plain": [
       "np.float64(1.5)"
      ]
     },
     "execution_count": 9,
     "metadata": {},
     "output_type": "execute_result"
    }
   ],
   "source": [
    "np.mean(b)           # In case of series, missings are ignored"
   ]
  },
  {
   "cell_type": "code",
   "execution_count": 10,
   "id": "694eba69-84a8-428b-90d0-908975aa204c",
   "metadata": {},
   "outputs": [
    {
     "data": {
      "text/plain": [
       "np.float64(nan)"
      ]
     },
     "execution_count": 10,
     "metadata": {},
     "output_type": "execute_result"
    }
   ],
   "source": [
    "a.mean()           # In case of arrays, a missing value results in the whole result to be missing"
   ]
  },
  {
   "cell_type": "code",
   "execution_count": 11,
   "id": "89b442f8-2fc1-4411-99da-17a509dd4c26",
   "metadata": {},
   "outputs": [
    {
     "data": {
      "text/plain": [
       "np.float64(1.5)"
      ]
     },
     "execution_count": 11,
     "metadata": {},
     "output_type": "execute_result"
    }
   ],
   "source": [
    "b.mean()"
   ]
  },
  {
   "cell_type": "code",
   "execution_count": 12,
   "id": "4326d83a-dc6a-4175-b1d9-1d1228934b05",
   "metadata": {},
   "outputs": [
    {
     "data": {
      "text/plain": [
       "np.float64(nan)"
      ]
     },
     "execution_count": 12,
     "metadata": {},
     "output_type": "execute_result"
    }
   ],
   "source": [
    "np.percentile(b,50)         # A percentile tells you the value below which a given percentage of data falls.(Meian)"
   ]
  },
  {
   "cell_type": "code",
   "execution_count": 13,
   "id": "15053df2-21d2-4ce9-a262-c9e47ddf5f2f",
   "metadata": {},
   "outputs": [
    {
     "data": {
      "text/plain": [
       "np.float64(1.5)"
      ]
     },
     "execution_count": 13,
     "metadata": {},
     "output_type": "execute_result"
    }
   ],
   "source": [
    "np.percentile(b.dropna(),50)    # In the dataframe of b it removes all the nan values and return the 50th percentile median value."
   ]
  },
  {
   "cell_type": "markdown",
   "id": "ece8fffb-05e9-41d8-b289-9a21b64239d7",
   "metadata": {},
   "source": [
    "## Variability"
   ]
  },
  {
   "cell_type": "code",
   "execution_count": 14,
   "id": "222d7cae-831e-4d95-aa0b-a4ebd9825094",
   "metadata": {},
   "outputs": [
    {
     "data": {
      "text/plain": [
       "(0.42, 80.0)"
      ]
     },
     "execution_count": 14,
     "metadata": {},
     "output_type": "execute_result"
    }
   ],
   "source": [
    "# range(as a tuple)\n",
    "titanic.Age.min(), titanic.Age.max()"
   ]
  },
  {
   "cell_type": "code",
   "execution_count": 15,
   "id": "642e876f-eecd-4095-b035-81bf54950fc1",
   "metadata": {},
   "outputs": [
    {
     "data": {
      "text/plain": [
       "211.0191247463081"
      ]
     },
     "execution_count": 15,
     "metadata": {},
     "output_type": "execute_result"
    }
   ],
   "source": [
    "# Variance and standard deviation .var and .std\n",
    "titanic.Age.var()"
   ]
  },
  {
   "cell_type": "code",
   "execution_count": 16,
   "id": "3a6ac045-08bc-4628-943e-a7ba69ae4d5e",
   "metadata": {},
   "outputs": [
    {
     "data": {
      "text/plain": [
       "14.526497332334044"
      ]
     },
     "execution_count": 16,
     "metadata": {},
     "output_type": "execute_result"
    }
   ],
   "source": [
    "titanic.Age.std()"
   ]
  },
  {
   "cell_type": "markdown",
   "id": "a9411071-2d65-4d60-8a0c-69cc451b2315",
   "metadata": {},
   "source": [
    "## Distributions"
   ]
  },
  {
   "cell_type": "code",
   "execution_count": 17,
   "id": "3810e012-f502-47a1-a620-73fb49141a81",
   "metadata": {},
   "outputs": [
    {
     "data": {
      "image/png": "[encoded data removed]",
      "text/plain": [
       "<Figure size 640x480 with 1 Axes>"
      ]
     },
     "metadata": {},
     "output_type": "display_data"
    }
   ],
   "source": [
    "# The standard way to plot distributions is to use matplotlib’s hist function.\n",
    "import matplotlib.pyplot as plt\n",
    "plt.hist(titanic.Age.dropna(),bins=30,edgecolor=\"k\")\n",
    "plt.show()"
   ]
  },
  {
   "cell_type": "markdown",
   "id": "69abc461-d900-49fb-92ab-dcc06fe20350",
   "metadata": {},
   "source": [
    "- A density plot (or KDE plot – Kernel Density Estimate) shows the distribution of a dataset, similar to a histogram, but smoother.\n",
    "- It helps visualize where values are conce"
   ]
  },
  {
   "cell_type": "code",
   "execution_count": 18,
   "id": "c2414769-bfa2-4bdc-8993-3a4e3e8c443e",
   "metadata": {},
   "outputs": [
    {
     "data": {
      "image/png": "[encoded data removed]",
      "text/plain": [
       "<Figure size 640x480 with 1 Axes>"
      ]
     },
     "metadata": {},
     "output_type": "display_data"
    }
   ],
   "source": [
    "import seaborn as sns\n",
    "sns.kdeplot(titanic.Age)    \n",
    "plt.show()"
   ]
  },
  {
   "cell_type": "markdown",
   "id": "0dc8ca79-f76e-4b5a-93c6-014c023ed411",
   "metadata": {},
   "source": [
    "- Important: Pandas Series has .quantile(), but no .percentile() method. That’s why for percentiles you use NumPy.\n",
    "- A quantile is a way of splitting data into equal parts.\n",
    "\n",
    "- 0.25 quantile = 25th percentile = the value below which 25% of the data lies.\n",
    "\n",
    "- 0.50 quantile = 50th percentile = median.\n",
    "\n",
    "- 0.75 quantile = 75th percentile."
   ]
  },
  {
   "cell_type": "code",
   "execution_count": 21,
   "id": "904e244e-74cd-4b71-ad16-c591c5a200c5",
   "metadata": {},
   "outputs": [
    {
     "data": {
      "text/plain": [
       "np.float64(20.125)"
      ]
     },
     "execution_count": 21,
     "metadata": {},
     "output_type": "execute_result"
    }
   ],
   "source": [
    "# first quantile\n",
    "titanic.Age.quantile(0.25)"
   ]
  },
  {
   "cell_type": "markdown",
   "id": "432a1bff-dff2-46c6-afd9-6de9e3610b2a",
   "metadata": {},
   "source": [
    "- That while series methods automatically remove missings, one has to do this manually for np.percentile."
   ]
  },
  {
   "cell_type": "code",
   "execution_count": 22,
   "id": "f43eaddc-40d8-411e-b33d-543a69bc9fdd",
   "metadata": {},
   "outputs": [
    {
     "data": {
      "text/plain": [
       "array([20.125, 38.   ])"
      ]
     },
     "execution_count": 22,
     "metadata": {},
     "output_type": "execute_result"
    }
   ],
   "source": [
    "# first and the third quantile\n",
    "np.percentile(titanic.Age.dropna(),[25,75])"
   ]
  },
  {
   "cell_type": "markdown",
   "id": "a9733d47-4f1c-491d-b173-4c531b315253",
   "metadata": {},
   "source": [
    "- Pareto Ratio--How much more a small group owns or contributes compared to their share of the population.\n",
    "- If the top 20% of people have 80% of the money,Pareto ratio = 80 ÷ 20 = 4.\n",
    "- Pareto ratio = (share of outcome controlled by top group) ÷ (their population share)."
   ]
  },
  {
   "cell_type": "code",
   "execution_count": null,
   "id": "b3ffc4a6-2b4d-4877-acc0-c242f275ad0c",
   "metadata": {},
   "outputs": [],
   "source": [
    "#re=real earnings(income,adjusted for inflation).\n",
    "#78=the year 1978.\n",
    "#So,re78 means the real earnings of a person in the year 1978. (re78-income variable)"
   ]
  },
  {
   "cell_type": "code",
   "execution_count": 29,
   "id": "e6a6fc25-508a-4cfc-a335-b44521a5c5c4",
   "metadata": {},
   "outputs": [
    {
     "data": {
      "text/plain": [
       "0     9930.05\n",
       "1    24909.50\n",
       "2     7506.15\n",
       "3      289.79\n",
       "4     4056.49\n",
       "Name: re78, dtype: float64"
      ]
     },
     "execution_count": 29,
     "metadata": {},
     "output_type": "execute_result"
    }
   ],
   "source": [
    "treatment=pd.read_csv(\"C:/Users/user/Downloads/treatment.csv.bz2\",sep=\"\\t\")\n",
    "treatment.re78.head(5)"
   ]
  },
  {
   "cell_type": "code",
   "execution_count": 28,
   "id": "f153a86d-c6a1-4672-80b7-793ffae2094d",
   "metadata": {},
   "outputs": [
    {
     "name": "stdout",
     "output_type": "stream",
     "text": [
      "Index(['treat\\tage\\teduc\\tethn\\tmarried\\tre74\\tre75\\tre78\\tu74\\tu75'], dtype='object')\n"
     ]
    }
   ],
   "source": [
    "print(treatment.columns)"
   ]
  },
  {
   "cell_type": "code",
   "execution_count": 30,
   "id": "28188de4-43f6-4c69-ba72-5d83e1ab128a",
   "metadata": {},
   "outputs": [
    {
     "data": {
      "text/plain": [
       "np.float64(54843856.0104)"
      ]
     },
     "execution_count": 30,
     "metadata": {},
     "output_type": "execute_result"
    }
   ],
   "source": [
    "total=treatment.re78.sum()    #Total income across all these cases\n",
    "total"
   ]
  },
  {
   "cell_type": "markdown",
   "id": "d2369321-b529-4e42-9d99-c9658eecc767",
   "metadata": {},
   "source": [
    "- the total income share, earned by the richest 30%. We can use np.percentile or np.quantile to compute the threshold between the lower 70% and upper 30% by"
   ]
  },
  {
   "cell_type": "code",
   "execution_count": 31,
   "id": "1e39030f-ba6a-42dd-9393-d85509be0039",
   "metadata": {},
   "outputs": [
    {
     "data": {
      "text/plain": [
       "np.float64(26599.1)"
      ]
     },
     "execution_count": 31,
     "metadata": {},
     "output_type": "execute_result"
    }
   ],
   "source": [
    "threshold=np.percentile(treatment.re78, 70)  # top 30th percentile\n",
    "threshold"
   ]
  },
  {
   "cell_type": "code",
   "execution_count": 32,
   "id": "05f5b7d1-b0ba-4bb7-a6a9-1d2ae96bc95f",
   "metadata": {},
   "outputs": [
    {
     "data": {
      "text/plain": [
       "np.float64(30274684.2)"
      ]
     },
     "execution_count": 32,
     "metadata": {},
     "output_type": "execute_result"
    }
   ],
   "source": [
    "top30=treatment.re78[treatment.re78 > threshold].sum()\n",
    "top30"
   ]
  },
  {
   "cell_type": "code",
   "execution_count": 34,
   "id": "38032fd9-cb25-47e1-8c24-5e8d1b0c1fbe",
   "metadata": {},
   "outputs": [
    {
     "data": {
      "text/plain": [
       "np.float64(0.5520159668251451)"
      ]
     },
     "execution_count": 34,
     "metadata": {},
     "output_type": "execute_result"
    }
   ],
   "source": [
    "share=top30/total\n",
    "share"
   ]
  },
  {
   "cell_type": "markdown",
   "id": "3fd1f10b-93f5-49f0-befc-88c003a93233",
   "metadata": {},
   "source": [
    "## Exercise 7.1"
   ]
  },
  {
   "cell_type": "code",
   "execution_count": 43,
   "id": "a6344ded-f9ff-490f-95fc-891a25b1b33f",
   "metadata": {},
   "outputs": [
    {
     "name": "stdout",
     "output_type": "stream",
     "text": [
      "63 0.6474562618876845\n"
     ]
    }
   ],
   "source": [
    "income=treatment[\"re78\"]           # Stores all the income (from columnre78)\n",
    "total_income=income.sum()          # Add all the income to know the total\n",
    "for i in range(99,50,-1):          # Loop downs 99 to 50 like 99,98,97...,52,51,50\n",
    "    threshold=np.percentile(treatment.re78,i)      \n",
    "    share=income[income>threshold].sum()/total      \n",
    "    if 100*share>i:\n",
    "        print(i,share)\n",
    "        break"
   ]
  },
  {
   "cell_type": "markdown",
   "id": "1b2db64f-d575-4f84-b418-a08a3188bd90",
   "metadata": {},
   "source": [
    "4. Finds the income value at the i-th percentile.Example: if i = 90, \n",
    "this gives the income where 90% of people earn less, 10% earn more.\n",
    "5. Takes only the people earning above the cutoff.Adds their incomes and divides by total income.\n",
    "So share = fraction of total income earned by the richest (100 - i)%.\n",
    "6. Converts share to a percentage.\n",
    "Checks if the richest (100 - i)% earn more than i% of income.\n",
    "Example: if richest 20% earn more than 80% of income → condition is true.\n",
    "7. print(i, share) and break Prints the result (the percentile i and income share).\n",
    "Stops the loop once the condition is satisfied."
   ]
  },
  {
   "cell_type": "code",
   "execution_count": null,
   "id": "1e84aaeb-1542-4fa3-b863-85e03489bce9",
   "metadata": {},
   "outputs": [],
   "source": []
  }
 ],
 "metadata": {
  "kernelspec": {
   "display_name": "Python [conda env:base] *",
   "language": "python",
   "name": "conda-base-py"
  },
  "language_info": {
   "codemirror_mode": {
    "name": "ipython",
    "version": 3
   },
   "file_extension": ".py",
   "mimetype": "text/x-python",
   "name": "python",
   "nbconvert_exporter": "python",
   "pygments_lexer": "ipython3",
   "version": "3.13.5"
  }
 },
 "nbformat": 4,
 "nbformat_minor": 5
}
