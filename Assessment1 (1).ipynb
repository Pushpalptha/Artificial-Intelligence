{
 "cells": [
  {
   "cell_type": "code",
   "execution_count": 4,
   "id": "ce373a1b-5247-4dde-a44f-318c6dc92435",
   "metadata": {},
   "outputs": [
    {
     "name": "stdout",
     "output_type": "stream",
     "text": [
      "Correct option is:(A)\n",
      "[[2 3 4]\n",
      " [3 4 5]\n",
      " [4 5 6]]\n"
     ]
    }
   ],
   "source": [
    "# Question 1\n",
    "import numpy as np\n",
    "a=np.array([1,2,3])\n",
    "b=np.array([[1],[2],[3]])\n",
    "print(\"Correct option is:(A)\")\n",
    "print(a+b)"
   ]
  },
  {
   "cell_type": "code",
   "execution_count": 6,
   "id": "1eb0acb2-0ebd-477f-9217-e2bb39a22fdb",
   "metadata": {},
   "outputs": [
    {
     "name": "stdout",
     "output_type": "stream",
     "text": [
      "Correct option is:(A)\n"
     ]
    },
    {
     "data": {
      "text/plain": [
       "array([[ 5,  6],\n",
       "       [ 9, 10]])"
      ]
     },
     "execution_count": 6,
     "metadata": {},
     "output_type": "execute_result"
    }
   ],
   "source": [
    "# Question 2\n",
    "arr=np.arange(12).reshape(3,4)\n",
    "print(\"Correct option is:(A)\")\n",
    "arr[1:3,1:3]"
   ]
  },
  {
   "cell_type": "code",
   "execution_count": 7,
   "id": "76228f44-ceea-4947-9de4-c9914a3d9ef2",
   "metadata": {},
   "outputs": [
    {
     "data": {
      "text/plain": [
       "array([0, 0, 0, 1, 2])"
      ]
     },
     "execution_count": 7,
     "metadata": {},
     "output_type": "execute_result"
    }
   ],
   "source": [
    "# Question 3\n",
    "arr = np.array([-2, -1, 0, 1, 2])\n",
    "arr[arr < 0] = 0\n",
    "arr"
   ]
  },
  {
   "cell_type": "code",
   "execution_count": 8,
   "id": "9bcb539a-1cb6-4076-970e-6d8f99b00248",
   "metadata": {},
   "outputs": [
    {
     "name": "stdout",
     "output_type": "stream",
     "text": [
      "[2.  4.5]\n"
     ]
    }
   ],
   "source": [
    "# Question 4\n",
    "matrix=np.array([[1, np.nan, 3], [4, 5, np.nan]])\n",
    "mean=np.nanmean(matrix, axis=1)\n",
    "print(mean)"
   ]
  },
  {
   "cell_type": "code",
   "execution_count": 10,
   "id": "6e57bf23-ac06-409f-a85f-35fecbf6a503",
   "metadata": {},
   "outputs": [
    {
     "name": "stdout",
     "output_type": "stream",
     "text": [
      "Correct option is :(A)\n",
      "[10 30]\n"
     ]
    }
   ],
   "source": [
    "# Question 5\n",
    "data=np.array([10, 20, 30, 40])\n",
    "idx=np.array([True, False, True, False])\n",
    "print(\"Correct option is :(A)\")\n",
    "print(data[idx])"
   ]
  },
  {
   "cell_type": "code",
   "execution_count": 11,
   "id": "e30caaa4-e6a1-4420-a9ee-efac53804744",
   "metadata": {},
   "outputs": [
    {
     "name": "stdout",
     "output_type": "stream",
     "text": [
      "        Name  Age\n",
      "100    Alice   25\n",
      "101      Bob   30\n",
      "102  Charlie   35\n"
     ]
    }
   ],
   "source": [
    "# Question 6\n",
    "import pandas as pd\n",
    "data = {'Name': ['Alice', 'Bob', 'Charlie'], 'Age': [25, 30, 35]}\n",
    "df = pd.DataFrame(data, index=[100, 101, 102])\n",
    "print(df)"
   ]
  },
  {
   "cell_type": "code",
   "execution_count": 12,
   "id": "03bc1e6c-9ab3-46e6-bb35-0c5069a83668",
   "metadata": {},
   "outputs": [
    {
     "name": "stdout",
     "output_type": "stream",
     "text": [
      "     A    B\n",
      "0  1.0  5.5\n",
      "1  2.0  5.0\n",
      "2  NaN  6.0\n"
     ]
    }
   ],
   "source": [
    "# Question 7\n",
    "df = pd.DataFrame({'A': [1, 2, np.nan], 'B': [np.nan, 5, 6]})\n",
    "mean_B=df['B'].mean()   # value5.5\n",
    "df['B']=df['B'].replace(np.nan,mean_B)\n",
    "print(df)"
   ]
  },
  {
   "cell_type": "code",
   "execution_count": 14,
   "id": "8b43b7a5-2b76-49f1-9e7b-3d8d52e47803",
   "metadata": {},
   "outputs": [
    {
     "name": "stdout",
     "output_type": "stream",
     "text": [
      "  Region  Sales  Profit\n",
      "0  North    250    22.5\n",
      "1  South    450    35.0\n"
     ]
    }
   ],
   "source": [
    "# Question 8\n",
    "df=pd.DataFrame({\n",
    "    'Region':['North', 'South', 'North', 'South'],\n",
    "    'Sales':[100, 200, 150, 250],\n",
    "    'Profit':[20, 30, 25, 40]\n",
    "})\n",
    "grouped_df=df.groupby('Region').agg({\n",
    "    'Sales': 'sum',\n",
    "    'Profit': 'mean'\n",
    "}).reset_index()\n",
    "print(grouped_df)"
   ]
  },
  {
   "cell_type": "code",
   "execution_count": 19,
   "id": "36720a38-b205-492b-ac21-35462318e11b",
   "metadata": {},
   "outputs": [
    {
     "name": "stdout",
     "output_type": "stream",
     "text": [
      "Orginal data:   Region  Sales  Profit\n",
      "0  North    100      20\n",
      "1  South    200      30\n",
      "2  North    150      25\n",
      "3  South    250      40\n",
      "Total sum of Sales: 700\n",
      "Total mean of Profit: 28.75\n"
     ]
    }
   ],
   "source": [
    "# Question 8\n",
    "df=pd.DataFrame({\n",
    "    'Region': ['North', 'South', 'North', 'South'],\n",
    "    'Sales': [100, 200, 150, 250],\n",
    "    'Profit': [20, 30, 25, 40]\n",
    "})\n",
    "print(\"Orginal data:\",df)\n",
    "mean_profit=df['Profit'].mean()\n",
    "sum=df['Sales'].sum()\n",
    "print(\"Total sum of Sales:\",sum)\n",
    "print(\"Total mean of Profit:\",mean_profit)"
   ]
  },
  {
   "cell_type": "code",
   "execution_count": 20,
   "id": "e91daee2-8aa3-400e-bb8a-6eca0535ee0f",
   "metadata": {},
   "outputs": [
    {
     "name": "stdout",
     "output_type": "stream",
     "text": [
      "  Region  Sales  Profit\n",
      "0  North    250    22.5\n",
      "1  South    450    35.0\n"
     ]
    }
   ],
   "source": [
    "import pandas as pd\n",
    "\n",
    "df = pd.DataFrame({\n",
    "    'Region': ['North', 'South', 'North', 'South'],\n",
    "    'Sales': [100, 200, 150, 250],\n",
    "    'Profit': [20, 30, 25, 40]\n",
    "})\n",
    "\n",
    "# Filter rows for each region\n",
    "north = df[df['Region'] == 'North']\n",
    "south = df[df['Region'] == 'South']\n",
    "\n",
    "# Manually compute aggregates\n",
    "north_sales = north['Sales'].sum()\n",
    "north_profit = north['Profit'].mean()\n",
    "\n",
    "south_sales = south['Sales'].sum()\n",
    "south_profit = south['Profit'].mean()\n",
    "\n",
    "# Create new summary DataFrame\n",
    "summary = pd.DataFrame({\n",
    "    'Region': ['North', 'South'],\n",
    "    'Sales': [north_sales, south_sales],\n",
    "    'Profit': [north_profit, south_profit]\n",
    "})\n",
    "\n",
    "# Reset index (already clean here, but for consistency)\n",
    "summary = summary.reset_index(drop=True)\n",
    "\n",
    "print(summary)"
   ]
  },
  {
   "cell_type": "code",
   "execution_count": 15,
   "id": "629d9f70-9a97-4b27-9c39-679cbd101c18",
   "metadata": {},
   "outputs": [
    {
     "name": "stdout",
     "output_type": "stream",
     "text": [
      "   order_id  cust_id   name\n",
      "0         1      101  Alice\n",
      "1         2      102    NaN\n"
     ]
    }
   ],
   "source": [
    "# Question 9\n",
    "orders=pd.DataFrame({'order_id': [1, 2],'cust_id': [101, 102]})\n",
    "customers=pd.DataFrame({'cust_id': [101, 103],'name': ['Alice', 'Bob']})\n",
    "Merge=orders.merge(customers, on='cust_id', how='left')\n",
    "print(Merge)"
   ]
  },
  {
   "cell_type": "code",
   "execution_count": 17,
   "id": "5eb0eb14-5767-4068-a08e-eab60db84c75",
   "metadata": {},
   "outputs": [
    {
     "name": "stdout",
     "output_type": "stream",
     "text": [
      "            Value\n",
      "Date             \n",
      "2023-01-31     30\n",
      "2023-02-28     60\n"
     ]
    }
   ],
   "source": [
    "# Question 10\n",
    "df = pd.DataFrame({\n",
    "    'Date': ['2023-01-05', '2023-01-15', '2023-02-10','2023-02-20'],\n",
    "    'Value': [10, 20, 30,30]\n",
    "})\n",
    "df['Date']=pd.to_datetime(df['Date'])\n",
    "print(df.resample('ME',on='Date').sum())\n",
    "#print(df.resample('ME',on='Date').sum().reset_index())"
   ]
  },
  {
   "cell_type": "code",
   "execution_count": null,
   "id": "18e5f209-8eb0-4699-bd94-219641c7cac9",
   "metadata": {},
   "outputs": [],
   "source": []
  },
  {
   "cell_type": "code",
   "execution_count": null,
   "id": "dfe532ab-13b5-4cee-aa2b-27858249c311",
   "metadata": {},
   "outputs": [],
   "source": []
  }
 ],
 "metadata": {
  "kernelspec": {
   "display_name": "Python [conda env:base] *",
   "language": "python",
   "name": "conda-base-py"
  },
  "language_info": {
   "codemirror_mode": {
    "name": "ipython",
    "version": 3
   },
   "file_extension": ".py",
   "mimetype": "text/x-python",
   "name": "python",
   "nbconvert_exporter": "python",
   "pygments_lexer": "ipython3",
   "version": "3.13.5"
  }
 },
 "nbformat": 4,
 "nbformat_minor": 5
}
